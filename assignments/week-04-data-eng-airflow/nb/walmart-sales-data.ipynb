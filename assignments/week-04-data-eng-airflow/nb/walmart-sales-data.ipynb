{
  "cells": [
    {
      "cell_type": "markdown",
      "id": "05ff2061",
      "metadata": {
        "id": "05ff2061"
      },
      "source": [
        "<p align = \"center\" draggable=”false” ><img src=\"https://user-images.githubusercontent.com/37101144/161836199-fdb0219d-0361-4988-bf26-48b0fad160a3.png\" \n",
        "     width=\"200px\"\n",
        "     height=\"auto\"/>\n",
        "</p>"
      ]
    },
    {
      "cell_type": "markdown",
      "id": "7f3cd28c",
      "metadata": {
        "papermill": {
          "duration": 0.15014,
          "end_time": "2022-05-14T21:23:05.759231",
          "exception": false,
          "start_time": "2022-05-14T21:23:05.609091",
          "status": "completed"
        },
        "tags": [],
        "id": "7f3cd28c"
      },
      "source": [
        "# EDA with Walmart Sales Data"
      ]
    },
    {
      "cell_type": "markdown",
      "id": "b4e041d2",
      "metadata": {
        "papermill": {
          "duration": 0.127394,
          "end_time": "2022-05-14T21:23:06.801644",
          "exception": false,
          "start_time": "2022-05-14T21:23:06.674250",
          "status": "completed"
        },
        "tags": [],
        "id": "b4e041d2"
      },
      "source": [
        "## Business Objectives"
      ]
    },
    {
      "cell_type": "markdown",
      "id": "da80ebbe",
      "metadata": {
        "papermill": {
          "duration": 0.129918,
          "end_time": "2022-05-14T21:23:07.060222",
          "exception": false,
          "start_time": "2022-05-14T21:23:06.930304",
          "status": "completed"
        },
        "tags": [],
        "id": "da80ebbe"
      },
      "source": [
        "Walmart, the retail giant that operates a chain of hypermarkets, wants to understand their weekly sales data, especially the impact from holidays and or big events on the weekly sales data; specifically, Super Bowl, Labor Day, Thanksgiving, and Christmas. In addition, Walmart wants to consider the effect from different macroeconomic/external factors. "
      ]
    },
    {
      "cell_type": "markdown",
      "id": "6a5b3f21",
      "metadata": {
        "papermill": {
          "duration": 0.130444,
          "end_time": "2022-05-14T21:23:06.028016",
          "exception": false,
          "start_time": "2022-05-14T21:23:05.897572",
          "status": "completed"
        },
        "tags": [],
        "id": "6a5b3f21"
      },
      "source": [
        "## Learning Objectives"
      ]
    },
    {
      "cell_type": "markdown",
      "id": "9cd8194f",
      "metadata": {
        "papermill": {
          "duration": 0.130444,
          "end_time": "2022-05-14T21:23:06.028016",
          "exception": false,
          "start_time": "2022-05-14T21:23:05.897572",
          "status": "completed"
        },
        "tags": [],
        "id": "9cd8194f"
      },
      "source": [
        "At the end of this session, you will know how to\n",
        "\n",
        "1. Manipulate data of different types using `pandas`\n",
        "1. Visualize data with `matplotlib` and `seaborn` to extract insights \n",
        "1. Perform feature engineering\n",
        "1. Build a pipeline to preprocess data and fit a simple model using `sklearn`\n",
        "\n",
        "*Note: if you see code that's unfamiliar to you, look up for the documentation, and try to understand what it does.*"
      ]
    },
    {
      "cell_type": "markdown",
      "id": "91acd6e9",
      "metadata": {
        "id": "91acd6e9"
      },
      "source": [
        "## Data Overview"
      ]
    },
    {
      "cell_type": "markdown",
      "id": "1121c77b",
      "metadata": {
        "id": "1121c77b"
      },
      "source": [
        "- Original sales data were collected from 45 stores across the United States; yet for this session, you will first inspect data from three stores and later focus on just store 1. \n",
        "\n",
        "- Each store is of certain type and size, and there are multiple departments in a store. \n",
        "\n",
        "- The dataset has a temporal component, we ignore this mostly in this session and will discuss time series related techniques later in the cohort."
      ]
    },
    {
      "cell_type": "code",
      "execution_count": 3,
      "id": "e0826745",
      "metadata": {
        "code_folding": [],
        "execution": {
          "iopub.execute_input": "2022-05-14T21:23:07.590761Z",
          "iopub.status.busy": "2022-05-14T21:23:07.590043Z",
          "iopub.status.idle": "2022-05-14T21:23:09.233960Z",
          "shell.execute_reply": "2022-05-14T21:23:09.232902Z",
          "shell.execute_reply.started": "2022-05-14T20:31:16.167193Z"
        },
        "papermill": {
          "duration": 1.783243,
          "end_time": "2022-05-14T21:23:09.234180",
          "exception": false,
          "start_time": "2022-05-14T21:23:07.450937",
          "status": "completed"
        },
        "tags": [],
        "id": "e0826745"
      },
      "outputs": [],
      "source": [
        "from IPython.core.interactiveshell import InteractiveShell\n",
        "InteractiveShell.ast_node_interactivity = \"all\" # allow multiple outputs in a cell\n",
        "import warnings\n",
        "warnings.filterwarnings(\"ignore\")"
      ]
    },
    {
      "cell_type": "markdown",
      "id": "fba074fc",
      "metadata": {
        "id": "fba074fc"
      },
      "source": [
        "## Task I: Load Data "
      ]
    },
    {
      "cell_type": "markdown",
      "id": "385c9537",
      "metadata": {
        "papermill": {
          "duration": 0.131091,
          "end_time": "2022-05-14T21:23:09.496169",
          "exception": false,
          "start_time": "2022-05-14T21:23:09.365078",
          "status": "completed"
        },
        "tags": [],
        "id": "385c9537"
      },
      "source": [
        "Built on top of `numpy`, `pandas` is one of the most widely used tools in machine learning. Its rich features are used for exploring, cleaning, visualizing, and transforming data.  We need to import the library to access all of its features. "
      ]
    },
    {
      "cell_type": "code",
      "execution_count": 4,
      "id": "419afd75",
      "metadata": {
        "id": "419afd75"
      },
      "outputs": [],
      "source": [
        "import pandas as pd"
      ]
    },
    {
      "cell_type": "markdown",
      "id": "ec1cc900",
      "metadata": {
        "papermill": {
          "duration": 0.131091,
          "end_time": "2022-05-14T21:23:09.496169",
          "exception": false,
          "start_time": "2022-05-14T21:23:09.365078",
          "status": "completed"
        },
        "tags": [],
        "id": "ec1cc900"
      },
      "source": [
        "Use `pd.read_csv` to read `train_comb.csv` that contains weekly sales, metadata, and macroeconomic features from three stores into a `pd.DataFrame`."
      ]
    },
    {
      "cell_type": "code",
      "execution_count": 5,
      "id": "97ac36cb",
      "metadata": {
        "execution": {
          "iopub.execute_input": "2022-05-14T21:23:09.769778Z",
          "iopub.status.busy": "2022-05-14T21:23:09.769010Z",
          "iopub.status.idle": "2022-05-14T21:23:10.331119Z",
          "shell.execute_reply": "2022-05-14T21:23:10.330499Z",
          "shell.execute_reply.started": "2022-05-14T20:31:17.943779Z"
        },
        "papermill": {
          "duration": 0.705534,
          "end_time": "2022-05-14T21:23:10.331295",
          "exception": false,
          "start_time": "2022-05-14T21:23:09.625761",
          "status": "completed"
        },
        "tags": [],
        "id": "97ac36cb"
      },
      "outputs": [],
      "source": [
        "filepath = 'https://raw.githubusercontent.com/AnjanaSengupta/MLE-Oct-2022/main/assignments/week-04-data-eng-airflow/dat/train_comb.csv'\n",
        "walmart_sls = pd.read_csv(filepath) "
      ]
    },
    {
      "cell_type": "markdown",
      "id": "e6093023",
      "metadata": {
        "id": "e6093023"
      },
      "source": [
        "Verify that the data is loaded correctly by running `data.head(3)` to see the first few row ( AVOID printing out the entire DataFrame, i.e., `data` or `print(data)`; it might be trivial for small dataset but it can crash your kernel when the dataset is big and slow down the initial data exploration process )."
      ]
    },
    {
      "cell_type": "code",
      "execution_count": 6,
      "id": "0f1febad",
      "metadata": {
        "colab": {
          "base_uri": "https://localhost:8080/",
          "height": 257
        },
        "id": "0f1febad",
        "outputId": "b25e63b8-8eb5-410a-bb65-e3a2cbc8c13c"
      },
      "outputs": [
        {
          "output_type": "execute_result",
          "data": {
            "text/plain": [
              "   Store  Dept        Date  Weekly_Sales  IsHoliday  Temperature  Fuel_Price  \\\n",
              "0      1     1  2010-02-05      24924.50      False        42.31       2.572   \n",
              "1      1     1  2010-02-12      46039.49       True        38.51       2.548   \n",
              "2      1     1  2010-02-19      41595.55      False        39.93       2.514   \n",
              "\n",
              "   MarkDown1  MarkDown2  MarkDown3  MarkDown4  MarkDown5         CPI  \\\n",
              "0        NaN        NaN        NaN        NaN        NaN  211.096358   \n",
              "1        NaN        NaN        NaN        NaN        NaN  211.242170   \n",
              "2        NaN        NaN        NaN        NaN        NaN  211.289143   \n",
              "\n",
              "   Unemployment Type    Size  \n",
              "0         8.106    A  151315  \n",
              "1         8.106    A  151315  \n",
              "2         8.106    A  151315  "
            ],
            "text/html": [
              "\n",
              "  <div id=\"df-e21bb9f0-21d7-47b9-9b90-f6f30e4ebea1\">\n",
              "    <div class=\"colab-df-container\">\n",
              "      <div>\n",
              "<style scoped>\n",
              "    .dataframe tbody tr th:only-of-type {\n",
              "        vertical-align: middle;\n",
              "    }\n",
              "\n",
              "    .dataframe tbody tr th {\n",
              "        vertical-align: top;\n",
              "    }\n",
              "\n",
              "    .dataframe thead th {\n",
              "        text-align: right;\n",
              "    }\n",
              "</style>\n",
              "<table border=\"1\" class=\"dataframe\">\n",
              "  <thead>\n",
              "    <tr style=\"text-align: right;\">\n",
              "      <th></th>\n",
              "      <th>Store</th>\n",
              "      <th>Dept</th>\n",
              "      <th>Date</th>\n",
              "      <th>Weekly_Sales</th>\n",
              "      <th>IsHoliday</th>\n",
              "      <th>Temperature</th>\n",
              "      <th>Fuel_Price</th>\n",
              "      <th>MarkDown1</th>\n",
              "      <th>MarkDown2</th>\n",
              "      <th>MarkDown3</th>\n",
              "      <th>MarkDown4</th>\n",
              "      <th>MarkDown5</th>\n",
              "      <th>CPI</th>\n",
              "      <th>Unemployment</th>\n",
              "      <th>Type</th>\n",
              "      <th>Size</th>\n",
              "    </tr>\n",
              "  </thead>\n",
              "  <tbody>\n",
              "    <tr>\n",
              "      <th>0</th>\n",
              "      <td>1</td>\n",
              "      <td>1</td>\n",
              "      <td>2010-02-05</td>\n",
              "      <td>24924.50</td>\n",
              "      <td>False</td>\n",
              "      <td>42.31</td>\n",
              "      <td>2.572</td>\n",
              "      <td>NaN</td>\n",
              "      <td>NaN</td>\n",
              "      <td>NaN</td>\n",
              "      <td>NaN</td>\n",
              "      <td>NaN</td>\n",
              "      <td>211.096358</td>\n",
              "      <td>8.106</td>\n",
              "      <td>A</td>\n",
              "      <td>151315</td>\n",
              "    </tr>\n",
              "    <tr>\n",
              "      <th>1</th>\n",
              "      <td>1</td>\n",
              "      <td>1</td>\n",
              "      <td>2010-02-12</td>\n",
              "      <td>46039.49</td>\n",
              "      <td>True</td>\n",
              "      <td>38.51</td>\n",
              "      <td>2.548</td>\n",
              "      <td>NaN</td>\n",
              "      <td>NaN</td>\n",
              "      <td>NaN</td>\n",
              "      <td>NaN</td>\n",
              "      <td>NaN</td>\n",
              "      <td>211.242170</td>\n",
              "      <td>8.106</td>\n",
              "      <td>A</td>\n",
              "      <td>151315</td>\n",
              "    </tr>\n",
              "    <tr>\n",
              "      <th>2</th>\n",
              "      <td>1</td>\n",
              "      <td>1</td>\n",
              "      <td>2010-02-19</td>\n",
              "      <td>41595.55</td>\n",
              "      <td>False</td>\n",
              "      <td>39.93</td>\n",
              "      <td>2.514</td>\n",
              "      <td>NaN</td>\n",
              "      <td>NaN</td>\n",
              "      <td>NaN</td>\n",
              "      <td>NaN</td>\n",
              "      <td>NaN</td>\n",
              "      <td>211.289143</td>\n",
              "      <td>8.106</td>\n",
              "      <td>A</td>\n",
              "      <td>151315</td>\n",
              "    </tr>\n",
              "  </tbody>\n",
              "</table>\n",
              "</div>\n",
              "      <button class=\"colab-df-convert\" onclick=\"convertToInteractive('df-e21bb9f0-21d7-47b9-9b90-f6f30e4ebea1')\"\n",
              "              title=\"Convert this dataframe to an interactive table.\"\n",
              "              style=\"display:none;\">\n",
              "        \n",
              "  <svg xmlns=\"http://www.w3.org/2000/svg\" height=\"24px\"viewBox=\"0 0 24 24\"\n",
              "       width=\"24px\">\n",
              "    <path d=\"M0 0h24v24H0V0z\" fill=\"none\"/>\n",
              "    <path d=\"M18.56 5.44l.94 2.06.94-2.06 2.06-.94-2.06-.94-.94-2.06-.94 2.06-2.06.94zm-11 1L8.5 8.5l.94-2.06 2.06-.94-2.06-.94L8.5 2.5l-.94 2.06-2.06.94zm10 10l.94 2.06.94-2.06 2.06-.94-2.06-.94-.94-2.06-.94 2.06-2.06.94z\"/><path d=\"M17.41 7.96l-1.37-1.37c-.4-.4-.92-.59-1.43-.59-.52 0-1.04.2-1.43.59L10.3 9.45l-7.72 7.72c-.78.78-.78 2.05 0 2.83L4 21.41c.39.39.9.59 1.41.59.51 0 1.02-.2 1.41-.59l7.78-7.78 2.81-2.81c.8-.78.8-2.07 0-2.86zM5.41 20L4 18.59l7.72-7.72 1.47 1.35L5.41 20z\"/>\n",
              "  </svg>\n",
              "      </button>\n",
              "      \n",
              "  <style>\n",
              "    .colab-df-container {\n",
              "      display:flex;\n",
              "      flex-wrap:wrap;\n",
              "      gap: 12px;\n",
              "    }\n",
              "\n",
              "    .colab-df-convert {\n",
              "      background-color: #E8F0FE;\n",
              "      border: none;\n",
              "      border-radius: 50%;\n",
              "      cursor: pointer;\n",
              "      display: none;\n",
              "      fill: #1967D2;\n",
              "      height: 32px;\n",
              "      padding: 0 0 0 0;\n",
              "      width: 32px;\n",
              "    }\n",
              "\n",
              "    .colab-df-convert:hover {\n",
              "      background-color: #E2EBFA;\n",
              "      box-shadow: 0px 1px 2px rgba(60, 64, 67, 0.3), 0px 1px 3px 1px rgba(60, 64, 67, 0.15);\n",
              "      fill: #174EA6;\n",
              "    }\n",
              "\n",
              "    [theme=dark] .colab-df-convert {\n",
              "      background-color: #3B4455;\n",
              "      fill: #D2E3FC;\n",
              "    }\n",
              "\n",
              "    [theme=dark] .colab-df-convert:hover {\n",
              "      background-color: #434B5C;\n",
              "      box-shadow: 0px 1px 3px 1px rgba(0, 0, 0, 0.15);\n",
              "      filter: drop-shadow(0px 1px 2px rgba(0, 0, 0, 0.3));\n",
              "      fill: #FFFFFF;\n",
              "    }\n",
              "  </style>\n",
              "\n",
              "      <script>\n",
              "        const buttonEl =\n",
              "          document.querySelector('#df-e21bb9f0-21d7-47b9-9b90-f6f30e4ebea1 button.colab-df-convert');\n",
              "        buttonEl.style.display =\n",
              "          google.colab.kernel.accessAllowed ? 'block' : 'none';\n",
              "\n",
              "        async function convertToInteractive(key) {\n",
              "          const element = document.querySelector('#df-e21bb9f0-21d7-47b9-9b90-f6f30e4ebea1');\n",
              "          const dataTable =\n",
              "            await google.colab.kernel.invokeFunction('convertToInteractive',\n",
              "                                                     [key], {});\n",
              "          if (!dataTable) return;\n",
              "\n",
              "          const docLinkHtml = 'Like what you see? Visit the ' +\n",
              "            '<a target=\"_blank\" href=https://colab.research.google.com/notebooks/data_table.ipynb>data table notebook</a>'\n",
              "            + ' to learn more about interactive tables.';\n",
              "          element.innerHTML = '';\n",
              "          dataTable['output_type'] = 'display_data';\n",
              "          await google.colab.output.renderOutput(dataTable, element);\n",
              "          const docLink = document.createElement('div');\n",
              "          docLink.innerHTML = docLinkHtml;\n",
              "          element.appendChild(docLink);\n",
              "        }\n",
              "      </script>\n",
              "    </div>\n",
              "  </div>\n",
              "  "
            ]
          },
          "metadata": {},
          "execution_count": 6
        }
      ],
      "source": [
        "walmart_sls.head(3)"
      ]
    },
    {
      "cell_type": "code",
      "source": [
        "walmart_sls.sample(3)"
      ],
      "metadata": {
        "colab": {
          "base_uri": "https://localhost:8080/",
          "height": 257
        },
        "id": "9WzeWgtjYmgr",
        "outputId": "5a8274de-bbde-45e0-d488-411236ab58d4"
      },
      "id": "9WzeWgtjYmgr",
      "execution_count": 7,
      "outputs": [
        {
          "output_type": "execute_result",
          "data": {
            "text/plain": [
              "       Store  Dept        Date  Weekly_Sales  IsHoliday  Temperature  \\\n",
              "4899       1    36  2011-05-20       1394.00      False        67.63   \n",
              "13338      4    23  2012-03-16      45908.52      False        59.81   \n",
              "6632       1    54  2012-07-20         73.92      False        80.42   \n",
              "\n",
              "       Fuel_Price  MarkDown1  MarkDown2  MarkDown3  MarkDown4  MarkDown5  \\\n",
              "4899        3.907        NaN        NaN        NaN        NaN        NaN   \n",
              "13338       3.707    5669.21      37.12        NaN    8540.87    2544.94   \n",
              "6632        3.311    3213.00     313.72       9.53    2262.02    3228.19   \n",
              "\n",
              "              CPI  Unemployment Type    Size  \n",
              "4899   215.733920         7.682    A  151315  \n",
              "13338  130.826193         4.607    A  205863  \n",
              "6632   221.932727         6.908    A  151315  "
            ],
            "text/html": [
              "\n",
              "  <div id=\"df-c3afda7b-c3b7-4ca1-a142-747e53a33572\">\n",
              "    <div class=\"colab-df-container\">\n",
              "      <div>\n",
              "<style scoped>\n",
              "    .dataframe tbody tr th:only-of-type {\n",
              "        vertical-align: middle;\n",
              "    }\n",
              "\n",
              "    .dataframe tbody tr th {\n",
              "        vertical-align: top;\n",
              "    }\n",
              "\n",
              "    .dataframe thead th {\n",
              "        text-align: right;\n",
              "    }\n",
              "</style>\n",
              "<table border=\"1\" class=\"dataframe\">\n",
              "  <thead>\n",
              "    <tr style=\"text-align: right;\">\n",
              "      <th></th>\n",
              "      <th>Store</th>\n",
              "      <th>Dept</th>\n",
              "      <th>Date</th>\n",
              "      <th>Weekly_Sales</th>\n",
              "      <th>IsHoliday</th>\n",
              "      <th>Temperature</th>\n",
              "      <th>Fuel_Price</th>\n",
              "      <th>MarkDown1</th>\n",
              "      <th>MarkDown2</th>\n",
              "      <th>MarkDown3</th>\n",
              "      <th>MarkDown4</th>\n",
              "      <th>MarkDown5</th>\n",
              "      <th>CPI</th>\n",
              "      <th>Unemployment</th>\n",
              "      <th>Type</th>\n",
              "      <th>Size</th>\n",
              "    </tr>\n",
              "  </thead>\n",
              "  <tbody>\n",
              "    <tr>\n",
              "      <th>4899</th>\n",
              "      <td>1</td>\n",
              "      <td>36</td>\n",
              "      <td>2011-05-20</td>\n",
              "      <td>1394.00</td>\n",
              "      <td>False</td>\n",
              "      <td>67.63</td>\n",
              "      <td>3.907</td>\n",
              "      <td>NaN</td>\n",
              "      <td>NaN</td>\n",
              "      <td>NaN</td>\n",
              "      <td>NaN</td>\n",
              "      <td>NaN</td>\n",
              "      <td>215.733920</td>\n",
              "      <td>7.682</td>\n",
              "      <td>A</td>\n",
              "      <td>151315</td>\n",
              "    </tr>\n",
              "    <tr>\n",
              "      <th>13338</th>\n",
              "      <td>4</td>\n",
              "      <td>23</td>\n",
              "      <td>2012-03-16</td>\n",
              "      <td>45908.52</td>\n",
              "      <td>False</td>\n",
              "      <td>59.81</td>\n",
              "      <td>3.707</td>\n",
              "      <td>5669.21</td>\n",
              "      <td>37.12</td>\n",
              "      <td>NaN</td>\n",
              "      <td>8540.87</td>\n",
              "      <td>2544.94</td>\n",
              "      <td>130.826193</td>\n",
              "      <td>4.607</td>\n",
              "      <td>A</td>\n",
              "      <td>205863</td>\n",
              "    </tr>\n",
              "    <tr>\n",
              "      <th>6632</th>\n",
              "      <td>1</td>\n",
              "      <td>54</td>\n",
              "      <td>2012-07-20</td>\n",
              "      <td>73.92</td>\n",
              "      <td>False</td>\n",
              "      <td>80.42</td>\n",
              "      <td>3.311</td>\n",
              "      <td>3213.00</td>\n",
              "      <td>313.72</td>\n",
              "      <td>9.53</td>\n",
              "      <td>2262.02</td>\n",
              "      <td>3228.19</td>\n",
              "      <td>221.932727</td>\n",
              "      <td>6.908</td>\n",
              "      <td>A</td>\n",
              "      <td>151315</td>\n",
              "    </tr>\n",
              "  </tbody>\n",
              "</table>\n",
              "</div>\n",
              "      <button class=\"colab-df-convert\" onclick=\"convertToInteractive('df-c3afda7b-c3b7-4ca1-a142-747e53a33572')\"\n",
              "              title=\"Convert this dataframe to an interactive table.\"\n",
              "              style=\"display:none;\">\n",
              "        \n",
              "  <svg xmlns=\"http://www.w3.org/2000/svg\" height=\"24px\"viewBox=\"0 0 24 24\"\n",
              "       width=\"24px\">\n",
              "    <path d=\"M0 0h24v24H0V0z\" fill=\"none\"/>\n",
              "    <path d=\"M18.56 5.44l.94 2.06.94-2.06 2.06-.94-2.06-.94-.94-2.06-.94 2.06-2.06.94zm-11 1L8.5 8.5l.94-2.06 2.06-.94-2.06-.94L8.5 2.5l-.94 2.06-2.06.94zm10 10l.94 2.06.94-2.06 2.06-.94-2.06-.94-.94-2.06-.94 2.06-2.06.94z\"/><path d=\"M17.41 7.96l-1.37-1.37c-.4-.4-.92-.59-1.43-.59-.52 0-1.04.2-1.43.59L10.3 9.45l-7.72 7.72c-.78.78-.78 2.05 0 2.83L4 21.41c.39.39.9.59 1.41.59.51 0 1.02-.2 1.41-.59l7.78-7.78 2.81-2.81c.8-.78.8-2.07 0-2.86zM5.41 20L4 18.59l7.72-7.72 1.47 1.35L5.41 20z\"/>\n",
              "  </svg>\n",
              "      </button>\n",
              "      \n",
              "  <style>\n",
              "    .colab-df-container {\n",
              "      display:flex;\n",
              "      flex-wrap:wrap;\n",
              "      gap: 12px;\n",
              "    }\n",
              "\n",
              "    .colab-df-convert {\n",
              "      background-color: #E8F0FE;\n",
              "      border: none;\n",
              "      border-radius: 50%;\n",
              "      cursor: pointer;\n",
              "      display: none;\n",
              "      fill: #1967D2;\n",
              "      height: 32px;\n",
              "      padding: 0 0 0 0;\n",
              "      width: 32px;\n",
              "    }\n",
              "\n",
              "    .colab-df-convert:hover {\n",
              "      background-color: #E2EBFA;\n",
              "      box-shadow: 0px 1px 2px rgba(60, 64, 67, 0.3), 0px 1px 3px 1px rgba(60, 64, 67, 0.15);\n",
              "      fill: #174EA6;\n",
              "    }\n",
              "\n",
              "    [theme=dark] .colab-df-convert {\n",
              "      background-color: #3B4455;\n",
              "      fill: #D2E3FC;\n",
              "    }\n",
              "\n",
              "    [theme=dark] .colab-df-convert:hover {\n",
              "      background-color: #434B5C;\n",
              "      box-shadow: 0px 1px 3px 1px rgba(0, 0, 0, 0.15);\n",
              "      filter: drop-shadow(0px 1px 2px rgba(0, 0, 0, 0.3));\n",
              "      fill: #FFFFFF;\n",
              "    }\n",
              "  </style>\n",
              "\n",
              "      <script>\n",
              "        const buttonEl =\n",
              "          document.querySelector('#df-c3afda7b-c3b7-4ca1-a142-747e53a33572 button.colab-df-convert');\n",
              "        buttonEl.style.display =\n",
              "          google.colab.kernel.accessAllowed ? 'block' : 'none';\n",
              "\n",
              "        async function convertToInteractive(key) {\n",
              "          const element = document.querySelector('#df-c3afda7b-c3b7-4ca1-a142-747e53a33572');\n",
              "          const dataTable =\n",
              "            await google.colab.kernel.invokeFunction('convertToInteractive',\n",
              "                                                     [key], {});\n",
              "          if (!dataTable) return;\n",
              "\n",
              "          const docLinkHtml = 'Like what you see? Visit the ' +\n",
              "            '<a target=\"_blank\" href=https://colab.research.google.com/notebooks/data_table.ipynb>data table notebook</a>'\n",
              "            + ' to learn more about interactive tables.';\n",
              "          element.innerHTML = '';\n",
              "          dataTable['output_type'] = 'display_data';\n",
              "          await google.colab.output.renderOutput(dataTable, element);\n",
              "          const docLink = document.createElement('div');\n",
              "          docLink.innerHTML = docLinkHtml;\n",
              "          element.appendChild(docLink);\n",
              "        }\n",
              "      </script>\n",
              "    </div>\n",
              "  </div>\n",
              "  "
            ]
          },
          "metadata": {},
          "execution_count": 7
        }
      ]
    },
    {
      "cell_type": "markdown",
      "id": "85651101",
      "metadata": {
        "id": "85651101"
      },
      "source": [
        "❓ Question 1:\n",
        "\n",
        "Look at the output to get an idea of what each column is and then write a few sentences describing what you notice about the data. You can also use `data.sample(3)` to draw random samples from the data (hints: number of rows and columns, any missing values? data types of the elements? date ranges of the data collected? etc.)."
      ]
    },
    {
      "cell_type": "markdown",
      "id": "d7274cb6",
      "metadata": {
        "id": "d7274cb6"
      },
      "source": [
        "    "
      ]
    },
    {
      "cell_type": "markdown",
      "id": "5e84e2dd",
      "metadata": {
        "id": "5e84e2dd"
      },
      "source": [
        "*Acceptable responses include the number of rows and columns in the dataset, the data types of the elements, how many NaNs there are (and perhaps which columns and/or rows tend to have them), the range of values in each column or other descriptive statistics, some commentary on what this data represents, any initial concerns about how you think we should model this data, or any other commentary you would like to add.*"
      ]
    },
    {
      "cell_type": "markdown",
      "id": "e2630bb1",
      "metadata": {
        "papermill": {
          "duration": 0.128082,
          "end_time": "2022-05-14T21:23:13.899405",
          "exception": false,
          "start_time": "2022-05-14T21:23:13.771323",
          "status": "completed"
        },
        "tags": [],
        "id": "e2630bb1"
      },
      "source": [
        "Use `.shape` to inspect the size of the data: sample size and number of features."
      ]
    },
    {
      "cell_type": "code",
      "execution_count": 8,
      "id": "16a1ea59",
      "metadata": {
        "colab": {
          "base_uri": "https://localhost:8080/"
        },
        "id": "16a1ea59",
        "outputId": "1b706805-4506-44fb-96dc-8f4e49ec5c06"
      },
      "outputs": [
        {
          "output_type": "execute_result",
          "data": {
            "text/plain": [
              "(30990, 16)"
            ]
          },
          "metadata": {},
          "execution_count": 8
        }
      ],
      "source": [
        "walmart_sls.shape"
      ]
    },
    {
      "cell_type": "markdown",
      "id": "d75e6caf",
      "metadata": {
        "id": "d75e6caf"
      },
      "source": [
        "<details>\n",
        "<summary>Expected Output</summary>\n",
        "(30990, 16)\n",
        "</details>"
      ]
    },
    {
      "cell_type": "markdown",
      "id": "9f56d680",
      "metadata": {
        "id": "9f56d680"
      },
      "source": [
        "For the following task, we focus on Store `1` only, "
      ]
    },
    {
      "cell_type": "code",
      "source": [],
      "metadata": {
        "id": "60BBE0ZGQWMN"
      },
      "id": "60BBE0ZGQWMN",
      "execution_count": 8,
      "outputs": []
    },
    {
      "cell_type": "code",
      "execution_count": 9,
      "id": "d7dfd053",
      "metadata": {
        "id": "d7dfd053"
      },
      "outputs": [],
      "source": [
        "data_store1 = walmart_sls[walmart_sls.Store==1]"
      ]
    },
    {
      "cell_type": "code",
      "source": [
        "data_store1.head(3)"
      ],
      "metadata": {
        "colab": {
          "base_uri": "https://localhost:8080/",
          "height": 257
        },
        "id": "LLdZ0BQpbKqu",
        "outputId": "6a8febb7-5bda-479e-826d-5034efdb1109"
      },
      "id": "LLdZ0BQpbKqu",
      "execution_count": 10,
      "outputs": [
        {
          "output_type": "execute_result",
          "data": {
            "text/plain": [
              "   Store  Dept        Date  Weekly_Sales  IsHoliday  Temperature  Fuel_Price  \\\n",
              "0      1     1  2010-02-05      24924.50      False        42.31       2.572   \n",
              "1      1     1  2010-02-12      46039.49       True        38.51       2.548   \n",
              "2      1     1  2010-02-19      41595.55      False        39.93       2.514   \n",
              "\n",
              "   MarkDown1  MarkDown2  MarkDown3  MarkDown4  MarkDown5         CPI  \\\n",
              "0        NaN        NaN        NaN        NaN        NaN  211.096358   \n",
              "1        NaN        NaN        NaN        NaN        NaN  211.242170   \n",
              "2        NaN        NaN        NaN        NaN        NaN  211.289143   \n",
              "\n",
              "   Unemployment Type    Size  \n",
              "0         8.106    A  151315  \n",
              "1         8.106    A  151315  \n",
              "2         8.106    A  151315  "
            ],
            "text/html": [
              "\n",
              "  <div id=\"df-2d46636e-4812-4aee-aac6-90624eba0bd0\">\n",
              "    <div class=\"colab-df-container\">\n",
              "      <div>\n",
              "<style scoped>\n",
              "    .dataframe tbody tr th:only-of-type {\n",
              "        vertical-align: middle;\n",
              "    }\n",
              "\n",
              "    .dataframe tbody tr th {\n",
              "        vertical-align: top;\n",
              "    }\n",
              "\n",
              "    .dataframe thead th {\n",
              "        text-align: right;\n",
              "    }\n",
              "</style>\n",
              "<table border=\"1\" class=\"dataframe\">\n",
              "  <thead>\n",
              "    <tr style=\"text-align: right;\">\n",
              "      <th></th>\n",
              "      <th>Store</th>\n",
              "      <th>Dept</th>\n",
              "      <th>Date</th>\n",
              "      <th>Weekly_Sales</th>\n",
              "      <th>IsHoliday</th>\n",
              "      <th>Temperature</th>\n",
              "      <th>Fuel_Price</th>\n",
              "      <th>MarkDown1</th>\n",
              "      <th>MarkDown2</th>\n",
              "      <th>MarkDown3</th>\n",
              "      <th>MarkDown4</th>\n",
              "      <th>MarkDown5</th>\n",
              "      <th>CPI</th>\n",
              "      <th>Unemployment</th>\n",
              "      <th>Type</th>\n",
              "      <th>Size</th>\n",
              "    </tr>\n",
              "  </thead>\n",
              "  <tbody>\n",
              "    <tr>\n",
              "      <th>0</th>\n",
              "      <td>1</td>\n",
              "      <td>1</td>\n",
              "      <td>2010-02-05</td>\n",
              "      <td>24924.50</td>\n",
              "      <td>False</td>\n",
              "      <td>42.31</td>\n",
              "      <td>2.572</td>\n",
              "      <td>NaN</td>\n",
              "      <td>NaN</td>\n",
              "      <td>NaN</td>\n",
              "      <td>NaN</td>\n",
              "      <td>NaN</td>\n",
              "      <td>211.096358</td>\n",
              "      <td>8.106</td>\n",
              "      <td>A</td>\n",
              "      <td>151315</td>\n",
              "    </tr>\n",
              "    <tr>\n",
              "      <th>1</th>\n",
              "      <td>1</td>\n",
              "      <td>1</td>\n",
              "      <td>2010-02-12</td>\n",
              "      <td>46039.49</td>\n",
              "      <td>True</td>\n",
              "      <td>38.51</td>\n",
              "      <td>2.548</td>\n",
              "      <td>NaN</td>\n",
              "      <td>NaN</td>\n",
              "      <td>NaN</td>\n",
              "      <td>NaN</td>\n",
              "      <td>NaN</td>\n",
              "      <td>211.242170</td>\n",
              "      <td>8.106</td>\n",
              "      <td>A</td>\n",
              "      <td>151315</td>\n",
              "    </tr>\n",
              "    <tr>\n",
              "      <th>2</th>\n",
              "      <td>1</td>\n",
              "      <td>1</td>\n",
              "      <td>2010-02-19</td>\n",
              "      <td>41595.55</td>\n",
              "      <td>False</td>\n",
              "      <td>39.93</td>\n",
              "      <td>2.514</td>\n",
              "      <td>NaN</td>\n",
              "      <td>NaN</td>\n",
              "      <td>NaN</td>\n",
              "      <td>NaN</td>\n",
              "      <td>NaN</td>\n",
              "      <td>211.289143</td>\n",
              "      <td>8.106</td>\n",
              "      <td>A</td>\n",
              "      <td>151315</td>\n",
              "    </tr>\n",
              "  </tbody>\n",
              "</table>\n",
              "</div>\n",
              "      <button class=\"colab-df-convert\" onclick=\"convertToInteractive('df-2d46636e-4812-4aee-aac6-90624eba0bd0')\"\n",
              "              title=\"Convert this dataframe to an interactive table.\"\n",
              "              style=\"display:none;\">\n",
              "        \n",
              "  <svg xmlns=\"http://www.w3.org/2000/svg\" height=\"24px\"viewBox=\"0 0 24 24\"\n",
              "       width=\"24px\">\n",
              "    <path d=\"M0 0h24v24H0V0z\" fill=\"none\"/>\n",
              "    <path d=\"M18.56 5.44l.94 2.06.94-2.06 2.06-.94-2.06-.94-.94-2.06-.94 2.06-2.06.94zm-11 1L8.5 8.5l.94-2.06 2.06-.94-2.06-.94L8.5 2.5l-.94 2.06-2.06.94zm10 10l.94 2.06.94-2.06 2.06-.94-2.06-.94-.94-2.06-.94 2.06-2.06.94z\"/><path d=\"M17.41 7.96l-1.37-1.37c-.4-.4-.92-.59-1.43-.59-.52 0-1.04.2-1.43.59L10.3 9.45l-7.72 7.72c-.78.78-.78 2.05 0 2.83L4 21.41c.39.39.9.59 1.41.59.51 0 1.02-.2 1.41-.59l7.78-7.78 2.81-2.81c.8-.78.8-2.07 0-2.86zM5.41 20L4 18.59l7.72-7.72 1.47 1.35L5.41 20z\"/>\n",
              "  </svg>\n",
              "      </button>\n",
              "      \n",
              "  <style>\n",
              "    .colab-df-container {\n",
              "      display:flex;\n",
              "      flex-wrap:wrap;\n",
              "      gap: 12px;\n",
              "    }\n",
              "\n",
              "    .colab-df-convert {\n",
              "      background-color: #E8F0FE;\n",
              "      border: none;\n",
              "      border-radius: 50%;\n",
              "      cursor: pointer;\n",
              "      display: none;\n",
              "      fill: #1967D2;\n",
              "      height: 32px;\n",
              "      padding: 0 0 0 0;\n",
              "      width: 32px;\n",
              "    }\n",
              "\n",
              "    .colab-df-convert:hover {\n",
              "      background-color: #E2EBFA;\n",
              "      box-shadow: 0px 1px 2px rgba(60, 64, 67, 0.3), 0px 1px 3px 1px rgba(60, 64, 67, 0.15);\n",
              "      fill: #174EA6;\n",
              "    }\n",
              "\n",
              "    [theme=dark] .colab-df-convert {\n",
              "      background-color: #3B4455;\n",
              "      fill: #D2E3FC;\n",
              "    }\n",
              "\n",
              "    [theme=dark] .colab-df-convert:hover {\n",
              "      background-color: #434B5C;\n",
              "      box-shadow: 0px 1px 3px 1px rgba(0, 0, 0, 0.15);\n",
              "      filter: drop-shadow(0px 1px 2px rgba(0, 0, 0, 0.3));\n",
              "      fill: #FFFFFF;\n",
              "    }\n",
              "  </style>\n",
              "\n",
              "      <script>\n",
              "        const buttonEl =\n",
              "          document.querySelector('#df-2d46636e-4812-4aee-aac6-90624eba0bd0 button.colab-df-convert');\n",
              "        buttonEl.style.display =\n",
              "          google.colab.kernel.accessAllowed ? 'block' : 'none';\n",
              "\n",
              "        async function convertToInteractive(key) {\n",
              "          const element = document.querySelector('#df-2d46636e-4812-4aee-aac6-90624eba0bd0');\n",
              "          const dataTable =\n",
              "            await google.colab.kernel.invokeFunction('convertToInteractive',\n",
              "                                                     [key], {});\n",
              "          if (!dataTable) return;\n",
              "\n",
              "          const docLinkHtml = 'Like what you see? Visit the ' +\n",
              "            '<a target=\"_blank\" href=https://colab.research.google.com/notebooks/data_table.ipynb>data table notebook</a>'\n",
              "            + ' to learn more about interactive tables.';\n",
              "          element.innerHTML = '';\n",
              "          dataTable['output_type'] = 'display_data';\n",
              "          await google.colab.output.renderOutput(dataTable, element);\n",
              "          const docLink = document.createElement('div');\n",
              "          docLink.innerHTML = docLinkHtml;\n",
              "          element.appendChild(docLink);\n",
              "        }\n",
              "      </script>\n",
              "    </div>\n",
              "  </div>\n",
              "  "
            ]
          },
          "metadata": {},
          "execution_count": 10
        }
      ]
    },
    {
      "cell_type": "code",
      "source": [
        "data_store1.tail(3)"
      ],
      "metadata": {
        "colab": {
          "base_uri": "https://localhost:8080/",
          "height": 257
        },
        "id": "5vRdiNgnQXVZ",
        "outputId": "298089ed-f378-4f88-f8f0-d358fb610588"
      },
      "id": "5vRdiNgnQXVZ",
      "execution_count": 11,
      "outputs": [
        {
          "output_type": "execute_result",
          "data": {
            "text/plain": [
              "       Store  Dept        Date  Weekly_Sales  IsHoliday  Temperature  \\\n",
              "10241      1    99  2012-09-14          0.03      False        74.97   \n",
              "10242      1    99  2012-10-05        635.00      False        68.55   \n",
              "10243      1    99  2012-10-12         80.00      False        62.99   \n",
              "\n",
              "       Fuel_Price  MarkDown1  MarkDown2  MarkDown3  MarkDown4  MarkDown5  \\\n",
              "10241       3.717   17212.52        7.0      18.79    1523.11    7992.72   \n",
              "10242       3.617    8077.89        NaN      18.22    3617.43    3626.14   \n",
              "10243       3.601    2086.18        NaN       8.11     602.36    5926.45   \n",
              "\n",
              "              CPI  Unemployment Type    Size  \n",
              "10241  222.582019         6.908    A  151315  \n",
              "10242  223.181477         6.573    A  151315  \n",
              "10243  223.381296         6.573    A  151315  "
            ],
            "text/html": [
              "\n",
              "  <div id=\"df-54988f32-aba6-4ff1-91a3-640141610842\">\n",
              "    <div class=\"colab-df-container\">\n",
              "      <div>\n",
              "<style scoped>\n",
              "    .dataframe tbody tr th:only-of-type {\n",
              "        vertical-align: middle;\n",
              "    }\n",
              "\n",
              "    .dataframe tbody tr th {\n",
              "        vertical-align: top;\n",
              "    }\n",
              "\n",
              "    .dataframe thead th {\n",
              "        text-align: right;\n",
              "    }\n",
              "</style>\n",
              "<table border=\"1\" class=\"dataframe\">\n",
              "  <thead>\n",
              "    <tr style=\"text-align: right;\">\n",
              "      <th></th>\n",
              "      <th>Store</th>\n",
              "      <th>Dept</th>\n",
              "      <th>Date</th>\n",
              "      <th>Weekly_Sales</th>\n",
              "      <th>IsHoliday</th>\n",
              "      <th>Temperature</th>\n",
              "      <th>Fuel_Price</th>\n",
              "      <th>MarkDown1</th>\n",
              "      <th>MarkDown2</th>\n",
              "      <th>MarkDown3</th>\n",
              "      <th>MarkDown4</th>\n",
              "      <th>MarkDown5</th>\n",
              "      <th>CPI</th>\n",
              "      <th>Unemployment</th>\n",
              "      <th>Type</th>\n",
              "      <th>Size</th>\n",
              "    </tr>\n",
              "  </thead>\n",
              "  <tbody>\n",
              "    <tr>\n",
              "      <th>10241</th>\n",
              "      <td>1</td>\n",
              "      <td>99</td>\n",
              "      <td>2012-09-14</td>\n",
              "      <td>0.03</td>\n",
              "      <td>False</td>\n",
              "      <td>74.97</td>\n",
              "      <td>3.717</td>\n",
              "      <td>17212.52</td>\n",
              "      <td>7.0</td>\n",
              "      <td>18.79</td>\n",
              "      <td>1523.11</td>\n",
              "      <td>7992.72</td>\n",
              "      <td>222.582019</td>\n",
              "      <td>6.908</td>\n",
              "      <td>A</td>\n",
              "      <td>151315</td>\n",
              "    </tr>\n",
              "    <tr>\n",
              "      <th>10242</th>\n",
              "      <td>1</td>\n",
              "      <td>99</td>\n",
              "      <td>2012-10-05</td>\n",
              "      <td>635.00</td>\n",
              "      <td>False</td>\n",
              "      <td>68.55</td>\n",
              "      <td>3.617</td>\n",
              "      <td>8077.89</td>\n",
              "      <td>NaN</td>\n",
              "      <td>18.22</td>\n",
              "      <td>3617.43</td>\n",
              "      <td>3626.14</td>\n",
              "      <td>223.181477</td>\n",
              "      <td>6.573</td>\n",
              "      <td>A</td>\n",
              "      <td>151315</td>\n",
              "    </tr>\n",
              "    <tr>\n",
              "      <th>10243</th>\n",
              "      <td>1</td>\n",
              "      <td>99</td>\n",
              "      <td>2012-10-12</td>\n",
              "      <td>80.00</td>\n",
              "      <td>False</td>\n",
              "      <td>62.99</td>\n",
              "      <td>3.601</td>\n",
              "      <td>2086.18</td>\n",
              "      <td>NaN</td>\n",
              "      <td>8.11</td>\n",
              "      <td>602.36</td>\n",
              "      <td>5926.45</td>\n",
              "      <td>223.381296</td>\n",
              "      <td>6.573</td>\n",
              "      <td>A</td>\n",
              "      <td>151315</td>\n",
              "    </tr>\n",
              "  </tbody>\n",
              "</table>\n",
              "</div>\n",
              "      <button class=\"colab-df-convert\" onclick=\"convertToInteractive('df-54988f32-aba6-4ff1-91a3-640141610842')\"\n",
              "              title=\"Convert this dataframe to an interactive table.\"\n",
              "              style=\"display:none;\">\n",
              "        \n",
              "  <svg xmlns=\"http://www.w3.org/2000/svg\" height=\"24px\"viewBox=\"0 0 24 24\"\n",
              "       width=\"24px\">\n",
              "    <path d=\"M0 0h24v24H0V0z\" fill=\"none\"/>\n",
              "    <path d=\"M18.56 5.44l.94 2.06.94-2.06 2.06-.94-2.06-.94-.94-2.06-.94 2.06-2.06.94zm-11 1L8.5 8.5l.94-2.06 2.06-.94-2.06-.94L8.5 2.5l-.94 2.06-2.06.94zm10 10l.94 2.06.94-2.06 2.06-.94-2.06-.94-.94-2.06-.94 2.06-2.06.94z\"/><path d=\"M17.41 7.96l-1.37-1.37c-.4-.4-.92-.59-1.43-.59-.52 0-1.04.2-1.43.59L10.3 9.45l-7.72 7.72c-.78.78-.78 2.05 0 2.83L4 21.41c.39.39.9.59 1.41.59.51 0 1.02-.2 1.41-.59l7.78-7.78 2.81-2.81c.8-.78.8-2.07 0-2.86zM5.41 20L4 18.59l7.72-7.72 1.47 1.35L5.41 20z\"/>\n",
              "  </svg>\n",
              "      </button>\n",
              "      \n",
              "  <style>\n",
              "    .colab-df-container {\n",
              "      display:flex;\n",
              "      flex-wrap:wrap;\n",
              "      gap: 12px;\n",
              "    }\n",
              "\n",
              "    .colab-df-convert {\n",
              "      background-color: #E8F0FE;\n",
              "      border: none;\n",
              "      border-radius: 50%;\n",
              "      cursor: pointer;\n",
              "      display: none;\n",
              "      fill: #1967D2;\n",
              "      height: 32px;\n",
              "      padding: 0 0 0 0;\n",
              "      width: 32px;\n",
              "    }\n",
              "\n",
              "    .colab-df-convert:hover {\n",
              "      background-color: #E2EBFA;\n",
              "      box-shadow: 0px 1px 2px rgba(60, 64, 67, 0.3), 0px 1px 3px 1px rgba(60, 64, 67, 0.15);\n",
              "      fill: #174EA6;\n",
              "    }\n",
              "\n",
              "    [theme=dark] .colab-df-convert {\n",
              "      background-color: #3B4455;\n",
              "      fill: #D2E3FC;\n",
              "    }\n",
              "\n",
              "    [theme=dark] .colab-df-convert:hover {\n",
              "      background-color: #434B5C;\n",
              "      box-shadow: 0px 1px 3px 1px rgba(0, 0, 0, 0.15);\n",
              "      filter: drop-shadow(0px 1px 2px rgba(0, 0, 0, 0.3));\n",
              "      fill: #FFFFFF;\n",
              "    }\n",
              "  </style>\n",
              "\n",
              "      <script>\n",
              "        const buttonEl =\n",
              "          document.querySelector('#df-54988f32-aba6-4ff1-91a3-640141610842 button.colab-df-convert');\n",
              "        buttonEl.style.display =\n",
              "          google.colab.kernel.accessAllowed ? 'block' : 'none';\n",
              "\n",
              "        async function convertToInteractive(key) {\n",
              "          const element = document.querySelector('#df-54988f32-aba6-4ff1-91a3-640141610842');\n",
              "          const dataTable =\n",
              "            await google.colab.kernel.invokeFunction('convertToInteractive',\n",
              "                                                     [key], {});\n",
              "          if (!dataTable) return;\n",
              "\n",
              "          const docLinkHtml = 'Like what you see? Visit the ' +\n",
              "            '<a target=\"_blank\" href=https://colab.research.google.com/notebooks/data_table.ipynb>data table notebook</a>'\n",
              "            + ' to learn more about interactive tables.';\n",
              "          element.innerHTML = '';\n",
              "          dataTable['output_type'] = 'display_data';\n",
              "          await google.colab.output.renderOutput(dataTable, element);\n",
              "          const docLink = document.createElement('div');\n",
              "          docLink.innerHTML = docLinkHtml;\n",
              "          element.appendChild(docLink);\n",
              "        }\n",
              "      </script>\n",
              "    </div>\n",
              "  </div>\n",
              "  "
            ]
          },
          "metadata": {},
          "execution_count": 11
        }
      ]
    },
    {
      "cell_type": "markdown",
      "id": "b6f2e3fa",
      "metadata": {
        "id": "b6f2e3fa"
      },
      "source": [
        "Retrieve the data from department 9 ( a random choice ) at store 1:"
      ]
    },
    {
      "cell_type": "code",
      "source": [
        "data_store1_dep5 = data_store1[data_store1.Dept == 5]\n",
        "data_store1_dep5.shape"
      ],
      "metadata": {
        "colab": {
          "base_uri": "https://localhost:8080/"
        },
        "id": "pur0wClBcOAY",
        "outputId": "2502f55d-3835-4eb1-f871-2da09edd7efb"
      },
      "id": "pur0wClBcOAY",
      "execution_count": 12,
      "outputs": [
        {
          "output_type": "execute_result",
          "data": {
            "text/plain": [
              "(143, 16)"
            ]
          },
          "metadata": {},
          "execution_count": 12
        }
      ]
    },
    {
      "cell_type": "code",
      "source": [
        "data_store1_dep7 = data_store1[data_store1.Dept == 7]"
      ],
      "metadata": {
        "id": "Aqb1ElHzb9PP"
      },
      "id": "Aqb1ElHzb9PP",
      "execution_count": 13,
      "outputs": []
    },
    {
      "cell_type": "code",
      "source": [
        "data_store1_dep7.shape"
      ],
      "metadata": {
        "colab": {
          "base_uri": "https://localhost:8080/"
        },
        "id": "kBLHmR8zbSap",
        "outputId": "374a1922-c0b7-422c-9548-a5ad4ed4acc0"
      },
      "id": "kBLHmR8zbSap",
      "execution_count": 14,
      "outputs": [
        {
          "output_type": "execute_result",
          "data": {
            "text/plain": [
              "(143, 16)"
            ]
          },
          "metadata": {},
          "execution_count": 14
        }
      ]
    },
    {
      "cell_type": "code",
      "source": [
        "data_store1_dep7.head(2)"
      ],
      "metadata": {
        "colab": {
          "base_uri": "https://localhost:8080/",
          "height": 209
        },
        "id": "yR69nLq1bdXv",
        "outputId": "b8ae9ff0-0fd1-4ba0-8d71-4f6dedec9d9a"
      },
      "id": "yR69nLq1bdXv",
      "execution_count": 15,
      "outputs": [
        {
          "output_type": "execute_result",
          "data": {
            "text/plain": [
              "     Store  Dept        Date  Weekly_Sales  IsHoliday  Temperature  \\\n",
              "858      1     7  2010-02-05      21084.08      False        42.31   \n",
              "859      1     7  2010-02-12      18310.31       True        38.51   \n",
              "\n",
              "     Fuel_Price  MarkDown1  MarkDown2  MarkDown3  MarkDown4  MarkDown5  \\\n",
              "858       2.572        NaN        NaN        NaN        NaN        NaN   \n",
              "859       2.548        NaN        NaN        NaN        NaN        NaN   \n",
              "\n",
              "            CPI  Unemployment Type    Size  \n",
              "858  211.096358         8.106    A  151315  \n",
              "859  211.242170         8.106    A  151315  "
            ],
            "text/html": [
              "\n",
              "  <div id=\"df-c221d408-a124-4933-a835-b83525a06498\">\n",
              "    <div class=\"colab-df-container\">\n",
              "      <div>\n",
              "<style scoped>\n",
              "    .dataframe tbody tr th:only-of-type {\n",
              "        vertical-align: middle;\n",
              "    }\n",
              "\n",
              "    .dataframe tbody tr th {\n",
              "        vertical-align: top;\n",
              "    }\n",
              "\n",
              "    .dataframe thead th {\n",
              "        text-align: right;\n",
              "    }\n",
              "</style>\n",
              "<table border=\"1\" class=\"dataframe\">\n",
              "  <thead>\n",
              "    <tr style=\"text-align: right;\">\n",
              "      <th></th>\n",
              "      <th>Store</th>\n",
              "      <th>Dept</th>\n",
              "      <th>Date</th>\n",
              "      <th>Weekly_Sales</th>\n",
              "      <th>IsHoliday</th>\n",
              "      <th>Temperature</th>\n",
              "      <th>Fuel_Price</th>\n",
              "      <th>MarkDown1</th>\n",
              "      <th>MarkDown2</th>\n",
              "      <th>MarkDown3</th>\n",
              "      <th>MarkDown4</th>\n",
              "      <th>MarkDown5</th>\n",
              "      <th>CPI</th>\n",
              "      <th>Unemployment</th>\n",
              "      <th>Type</th>\n",
              "      <th>Size</th>\n",
              "    </tr>\n",
              "  </thead>\n",
              "  <tbody>\n",
              "    <tr>\n",
              "      <th>858</th>\n",
              "      <td>1</td>\n",
              "      <td>7</td>\n",
              "      <td>2010-02-05</td>\n",
              "      <td>21084.08</td>\n",
              "      <td>False</td>\n",
              "      <td>42.31</td>\n",
              "      <td>2.572</td>\n",
              "      <td>NaN</td>\n",
              "      <td>NaN</td>\n",
              "      <td>NaN</td>\n",
              "      <td>NaN</td>\n",
              "      <td>NaN</td>\n",
              "      <td>211.096358</td>\n",
              "      <td>8.106</td>\n",
              "      <td>A</td>\n",
              "      <td>151315</td>\n",
              "    </tr>\n",
              "    <tr>\n",
              "      <th>859</th>\n",
              "      <td>1</td>\n",
              "      <td>7</td>\n",
              "      <td>2010-02-12</td>\n",
              "      <td>18310.31</td>\n",
              "      <td>True</td>\n",
              "      <td>38.51</td>\n",
              "      <td>2.548</td>\n",
              "      <td>NaN</td>\n",
              "      <td>NaN</td>\n",
              "      <td>NaN</td>\n",
              "      <td>NaN</td>\n",
              "      <td>NaN</td>\n",
              "      <td>211.242170</td>\n",
              "      <td>8.106</td>\n",
              "      <td>A</td>\n",
              "      <td>151315</td>\n",
              "    </tr>\n",
              "  </tbody>\n",
              "</table>\n",
              "</div>\n",
              "      <button class=\"colab-df-convert\" onclick=\"convertToInteractive('df-c221d408-a124-4933-a835-b83525a06498')\"\n",
              "              title=\"Convert this dataframe to an interactive table.\"\n",
              "              style=\"display:none;\">\n",
              "        \n",
              "  <svg xmlns=\"http://www.w3.org/2000/svg\" height=\"24px\"viewBox=\"0 0 24 24\"\n",
              "       width=\"24px\">\n",
              "    <path d=\"M0 0h24v24H0V0z\" fill=\"none\"/>\n",
              "    <path d=\"M18.56 5.44l.94 2.06.94-2.06 2.06-.94-2.06-.94-.94-2.06-.94 2.06-2.06.94zm-11 1L8.5 8.5l.94-2.06 2.06-.94-2.06-.94L8.5 2.5l-.94 2.06-2.06.94zm10 10l.94 2.06.94-2.06 2.06-.94-2.06-.94-.94-2.06-.94 2.06-2.06.94z\"/><path d=\"M17.41 7.96l-1.37-1.37c-.4-.4-.92-.59-1.43-.59-.52 0-1.04.2-1.43.59L10.3 9.45l-7.72 7.72c-.78.78-.78 2.05 0 2.83L4 21.41c.39.39.9.59 1.41.59.51 0 1.02-.2 1.41-.59l7.78-7.78 2.81-2.81c.8-.78.8-2.07 0-2.86zM5.41 20L4 18.59l7.72-7.72 1.47 1.35L5.41 20z\"/>\n",
              "  </svg>\n",
              "      </button>\n",
              "      \n",
              "  <style>\n",
              "    .colab-df-container {\n",
              "      display:flex;\n",
              "      flex-wrap:wrap;\n",
              "      gap: 12px;\n",
              "    }\n",
              "\n",
              "    .colab-df-convert {\n",
              "      background-color: #E8F0FE;\n",
              "      border: none;\n",
              "      border-radius: 50%;\n",
              "      cursor: pointer;\n",
              "      display: none;\n",
              "      fill: #1967D2;\n",
              "      height: 32px;\n",
              "      padding: 0 0 0 0;\n",
              "      width: 32px;\n",
              "    }\n",
              "\n",
              "    .colab-df-convert:hover {\n",
              "      background-color: #E2EBFA;\n",
              "      box-shadow: 0px 1px 2px rgba(60, 64, 67, 0.3), 0px 1px 3px 1px rgba(60, 64, 67, 0.15);\n",
              "      fill: #174EA6;\n",
              "    }\n",
              "\n",
              "    [theme=dark] .colab-df-convert {\n",
              "      background-color: #3B4455;\n",
              "      fill: #D2E3FC;\n",
              "    }\n",
              "\n",
              "    [theme=dark] .colab-df-convert:hover {\n",
              "      background-color: #434B5C;\n",
              "      box-shadow: 0px 1px 3px 1px rgba(0, 0, 0, 0.15);\n",
              "      filter: drop-shadow(0px 1px 2px rgba(0, 0, 0, 0.3));\n",
              "      fill: #FFFFFF;\n",
              "    }\n",
              "  </style>\n",
              "\n",
              "      <script>\n",
              "        const buttonEl =\n",
              "          document.querySelector('#df-c221d408-a124-4933-a835-b83525a06498 button.colab-df-convert');\n",
              "        buttonEl.style.display =\n",
              "          google.colab.kernel.accessAllowed ? 'block' : 'none';\n",
              "\n",
              "        async function convertToInteractive(key) {\n",
              "          const element = document.querySelector('#df-c221d408-a124-4933-a835-b83525a06498');\n",
              "          const dataTable =\n",
              "            await google.colab.kernel.invokeFunction('convertToInteractive',\n",
              "                                                     [key], {});\n",
              "          if (!dataTable) return;\n",
              "\n",
              "          const docLinkHtml = 'Like what you see? Visit the ' +\n",
              "            '<a target=\"_blank\" href=https://colab.research.google.com/notebooks/data_table.ipynb>data table notebook</a>'\n",
              "            + ' to learn more about interactive tables.';\n",
              "          element.innerHTML = '';\n",
              "          dataTable['output_type'] = 'display_data';\n",
              "          await google.colab.output.renderOutput(dataTable, element);\n",
              "          const docLink = document.createElement('div');\n",
              "          docLink.innerHTML = docLinkHtml;\n",
              "          element.appendChild(docLink);\n",
              "        }\n",
              "      </script>\n",
              "    </div>\n",
              "  </div>\n",
              "  "
            ]
          },
          "metadata": {},
          "execution_count": 15
        }
      ]
    },
    {
      "cell_type": "code",
      "execution_count": 16,
      "id": "d606a75d",
      "metadata": {
        "id": "d606a75d"
      },
      "outputs": [],
      "source": [
        "data_store1_dept9 = data_store1[data_store1.Dept == 9] "
      ]
    },
    {
      "cell_type": "markdown",
      "id": "933093ab",
      "metadata": {
        "id": "933093ab"
      },
      "source": [
        "Verify the result using `.head()`, `.shape`."
      ]
    },
    {
      "cell_type": "code",
      "execution_count": 17,
      "id": "b4a5aa1d",
      "metadata": {
        "colab": {
          "base_uri": "https://localhost:8080/",
          "height": 370
        },
        "id": "b4a5aa1d",
        "outputId": "dd4c5912-c6e5-4534-9c93-31a808fd4b23"
      },
      "outputs": [
        {
          "output_type": "execute_result",
          "data": {
            "text/plain": [
              "      Store  Dept        Date  Weekly_Sales  IsHoliday  Temperature  \\\n",
              "1144      1     9  2010-02-05      16930.99      False        42.31   \n",
              "1145      1     9  2010-02-12      16562.49       True        38.51   \n",
              "1146      1     9  2010-02-19      15880.85      False        39.93   \n",
              "1147      1     9  2010-02-26      15175.52      False        46.63   \n",
              "1148      1     9  2010-03-05      24064.70      False        46.50   \n",
              "\n",
              "      Fuel_Price  MarkDown1  MarkDown2  MarkDown3  MarkDown4  MarkDown5  \\\n",
              "1144       2.572        NaN        NaN        NaN        NaN        NaN   \n",
              "1145       2.548        NaN        NaN        NaN        NaN        NaN   \n",
              "1146       2.514        NaN        NaN        NaN        NaN        NaN   \n",
              "1147       2.561        NaN        NaN        NaN        NaN        NaN   \n",
              "1148       2.625        NaN        NaN        NaN        NaN        NaN   \n",
              "\n",
              "             CPI  Unemployment Type    Size  \n",
              "1144  211.096358         8.106    A  151315  \n",
              "1145  211.242170         8.106    A  151315  \n",
              "1146  211.289143         8.106    A  151315  \n",
              "1147  211.319643         8.106    A  151315  \n",
              "1148  211.350143         8.106    A  151315  "
            ],
            "text/html": [
              "\n",
              "  <div id=\"df-9237dde3-23cf-4043-b0c6-9c28cf42361a\">\n",
              "    <div class=\"colab-df-container\">\n",
              "      <div>\n",
              "<style scoped>\n",
              "    .dataframe tbody tr th:only-of-type {\n",
              "        vertical-align: middle;\n",
              "    }\n",
              "\n",
              "    .dataframe tbody tr th {\n",
              "        vertical-align: top;\n",
              "    }\n",
              "\n",
              "    .dataframe thead th {\n",
              "        text-align: right;\n",
              "    }\n",
              "</style>\n",
              "<table border=\"1\" class=\"dataframe\">\n",
              "  <thead>\n",
              "    <tr style=\"text-align: right;\">\n",
              "      <th></th>\n",
              "      <th>Store</th>\n",
              "      <th>Dept</th>\n",
              "      <th>Date</th>\n",
              "      <th>Weekly_Sales</th>\n",
              "      <th>IsHoliday</th>\n",
              "      <th>Temperature</th>\n",
              "      <th>Fuel_Price</th>\n",
              "      <th>MarkDown1</th>\n",
              "      <th>MarkDown2</th>\n",
              "      <th>MarkDown3</th>\n",
              "      <th>MarkDown4</th>\n",
              "      <th>MarkDown5</th>\n",
              "      <th>CPI</th>\n",
              "      <th>Unemployment</th>\n",
              "      <th>Type</th>\n",
              "      <th>Size</th>\n",
              "    </tr>\n",
              "  </thead>\n",
              "  <tbody>\n",
              "    <tr>\n",
              "      <th>1144</th>\n",
              "      <td>1</td>\n",
              "      <td>9</td>\n",
              "      <td>2010-02-05</td>\n",
              "      <td>16930.99</td>\n",
              "      <td>False</td>\n",
              "      <td>42.31</td>\n",
              "      <td>2.572</td>\n",
              "      <td>NaN</td>\n",
              "      <td>NaN</td>\n",
              "      <td>NaN</td>\n",
              "      <td>NaN</td>\n",
              "      <td>NaN</td>\n",
              "      <td>211.096358</td>\n",
              "      <td>8.106</td>\n",
              "      <td>A</td>\n",
              "      <td>151315</td>\n",
              "    </tr>\n",
              "    <tr>\n",
              "      <th>1145</th>\n",
              "      <td>1</td>\n",
              "      <td>9</td>\n",
              "      <td>2010-02-12</td>\n",
              "      <td>16562.49</td>\n",
              "      <td>True</td>\n",
              "      <td>38.51</td>\n",
              "      <td>2.548</td>\n",
              "      <td>NaN</td>\n",
              "      <td>NaN</td>\n",
              "      <td>NaN</td>\n",
              "      <td>NaN</td>\n",
              "      <td>NaN</td>\n",
              "      <td>211.242170</td>\n",
              "      <td>8.106</td>\n",
              "      <td>A</td>\n",
              "      <td>151315</td>\n",
              "    </tr>\n",
              "    <tr>\n",
              "      <th>1146</th>\n",
              "      <td>1</td>\n",
              "      <td>9</td>\n",
              "      <td>2010-02-19</td>\n",
              "      <td>15880.85</td>\n",
              "      <td>False</td>\n",
              "      <td>39.93</td>\n",
              "      <td>2.514</td>\n",
              "      <td>NaN</td>\n",
              "      <td>NaN</td>\n",
              "      <td>NaN</td>\n",
              "      <td>NaN</td>\n",
              "      <td>NaN</td>\n",
              "      <td>211.289143</td>\n",
              "      <td>8.106</td>\n",
              "      <td>A</td>\n",
              "      <td>151315</td>\n",
              "    </tr>\n",
              "    <tr>\n",
              "      <th>1147</th>\n",
              "      <td>1</td>\n",
              "      <td>9</td>\n",
              "      <td>2010-02-26</td>\n",
              "      <td>15175.52</td>\n",
              "      <td>False</td>\n",
              "      <td>46.63</td>\n",
              "      <td>2.561</td>\n",
              "      <td>NaN</td>\n",
              "      <td>NaN</td>\n",
              "      <td>NaN</td>\n",
              "      <td>NaN</td>\n",
              "      <td>NaN</td>\n",
              "      <td>211.319643</td>\n",
              "      <td>8.106</td>\n",
              "      <td>A</td>\n",
              "      <td>151315</td>\n",
              "    </tr>\n",
              "    <tr>\n",
              "      <th>1148</th>\n",
              "      <td>1</td>\n",
              "      <td>9</td>\n",
              "      <td>2010-03-05</td>\n",
              "      <td>24064.70</td>\n",
              "      <td>False</td>\n",
              "      <td>46.50</td>\n",
              "      <td>2.625</td>\n",
              "      <td>NaN</td>\n",
              "      <td>NaN</td>\n",
              "      <td>NaN</td>\n",
              "      <td>NaN</td>\n",
              "      <td>NaN</td>\n",
              "      <td>211.350143</td>\n",
              "      <td>8.106</td>\n",
              "      <td>A</td>\n",
              "      <td>151315</td>\n",
              "    </tr>\n",
              "  </tbody>\n",
              "</table>\n",
              "</div>\n",
              "      <button class=\"colab-df-convert\" onclick=\"convertToInteractive('df-9237dde3-23cf-4043-b0c6-9c28cf42361a')\"\n",
              "              title=\"Convert this dataframe to an interactive table.\"\n",
              "              style=\"display:none;\">\n",
              "        \n",
              "  <svg xmlns=\"http://www.w3.org/2000/svg\" height=\"24px\"viewBox=\"0 0 24 24\"\n",
              "       width=\"24px\">\n",
              "    <path d=\"M0 0h24v24H0V0z\" fill=\"none\"/>\n",
              "    <path d=\"M18.56 5.44l.94 2.06.94-2.06 2.06-.94-2.06-.94-.94-2.06-.94 2.06-2.06.94zm-11 1L8.5 8.5l.94-2.06 2.06-.94-2.06-.94L8.5 2.5l-.94 2.06-2.06.94zm10 10l.94 2.06.94-2.06 2.06-.94-2.06-.94-.94-2.06-.94 2.06-2.06.94z\"/><path d=\"M17.41 7.96l-1.37-1.37c-.4-.4-.92-.59-1.43-.59-.52 0-1.04.2-1.43.59L10.3 9.45l-7.72 7.72c-.78.78-.78 2.05 0 2.83L4 21.41c.39.39.9.59 1.41.59.51 0 1.02-.2 1.41-.59l7.78-7.78 2.81-2.81c.8-.78.8-2.07 0-2.86zM5.41 20L4 18.59l7.72-7.72 1.47 1.35L5.41 20z\"/>\n",
              "  </svg>\n",
              "      </button>\n",
              "      \n",
              "  <style>\n",
              "    .colab-df-container {\n",
              "      display:flex;\n",
              "      flex-wrap:wrap;\n",
              "      gap: 12px;\n",
              "    }\n",
              "\n",
              "    .colab-df-convert {\n",
              "      background-color: #E8F0FE;\n",
              "      border: none;\n",
              "      border-radius: 50%;\n",
              "      cursor: pointer;\n",
              "      display: none;\n",
              "      fill: #1967D2;\n",
              "      height: 32px;\n",
              "      padding: 0 0 0 0;\n",
              "      width: 32px;\n",
              "    }\n",
              "\n",
              "    .colab-df-convert:hover {\n",
              "      background-color: #E2EBFA;\n",
              "      box-shadow: 0px 1px 2px rgba(60, 64, 67, 0.3), 0px 1px 3px 1px rgba(60, 64, 67, 0.15);\n",
              "      fill: #174EA6;\n",
              "    }\n",
              "\n",
              "    [theme=dark] .colab-df-convert {\n",
              "      background-color: #3B4455;\n",
              "      fill: #D2E3FC;\n",
              "    }\n",
              "\n",
              "    [theme=dark] .colab-df-convert:hover {\n",
              "      background-color: #434B5C;\n",
              "      box-shadow: 0px 1px 3px 1px rgba(0, 0, 0, 0.15);\n",
              "      filter: drop-shadow(0px 1px 2px rgba(0, 0, 0, 0.3));\n",
              "      fill: #FFFFFF;\n",
              "    }\n",
              "  </style>\n",
              "\n",
              "      <script>\n",
              "        const buttonEl =\n",
              "          document.querySelector('#df-9237dde3-23cf-4043-b0c6-9c28cf42361a button.colab-df-convert');\n",
              "        buttonEl.style.display =\n",
              "          google.colab.kernel.accessAllowed ? 'block' : 'none';\n",
              "\n",
              "        async function convertToInteractive(key) {\n",
              "          const element = document.querySelector('#df-9237dde3-23cf-4043-b0c6-9c28cf42361a');\n",
              "          const dataTable =\n",
              "            await google.colab.kernel.invokeFunction('convertToInteractive',\n",
              "                                                     [key], {});\n",
              "          if (!dataTable) return;\n",
              "\n",
              "          const docLinkHtml = 'Like what you see? Visit the ' +\n",
              "            '<a target=\"_blank\" href=https://colab.research.google.com/notebooks/data_table.ipynb>data table notebook</a>'\n",
              "            + ' to learn more about interactive tables.';\n",
              "          element.innerHTML = '';\n",
              "          dataTable['output_type'] = 'display_data';\n",
              "          await google.colab.output.renderOutput(dataTable, element);\n",
              "          const docLink = document.createElement('div');\n",
              "          docLink.innerHTML = docLinkHtml;\n",
              "          element.appendChild(docLink);\n",
              "        }\n",
              "      </script>\n",
              "    </div>\n",
              "  </div>\n",
              "  "
            ]
          },
          "metadata": {},
          "execution_count": 17
        },
        {
          "output_type": "execute_result",
          "data": {
            "text/plain": [
              "(143, 16)"
            ]
          },
          "metadata": {},
          "execution_count": 17
        }
      ],
      "source": [
        "data_store1_dept9.head()\n",
        "data_store1_dept9.shape"
      ]
    },
    {
      "cell_type": "markdown",
      "id": "76e79bb4",
      "metadata": {
        "id": "76e79bb4"
      },
      "source": [
        "<details>\n",
        "<summary>Expected Output</summary>\n",
        "(143, 16)\n",
        "</details>\n"
      ]
    },
    {
      "cell_type": "markdown",
      "id": "f7788c7d",
      "metadata": {
        "id": "f7788c7d"
      },
      "source": [
        "Visualize one full year of sales. The data came with dates sorted, but we can make sure of it and then visualize the first 52 data  points."
      ]
    },
    {
      "cell_type": "code",
      "execution_count": 18,
      "id": "97bb9e2c",
      "metadata": {
        "colab": {
          "base_uri": "https://localhost:8080/",
          "height": 328
        },
        "id": "97bb9e2c",
        "outputId": "7cda36c4-b0bd-4302-b3a8-f3948b29babf"
      },
      "outputs": [
        {
          "output_type": "display_data",
          "data": {
            "text/plain": [
              "<Figure size 432x288 with 1 Axes>"
            ],
            "image/png": "[encoded data removed]"
          },
          "metadata": {
            "needs_background": "light"
          }
        }
      ],
      "source": [
        "data_store1_dept9 = data_store1_dept9.sort_values('Date')\n",
        "data_store1_dept9[['Date', 'Weekly_Sales']].iloc[:52]\\\n",
        "    .set_index('Date').plot(rot=90);"
      ]
    },
    {
      "cell_type": "markdown",
      "id": "863382f7",
      "metadata": {
        "id": "863382f7"
      },
      "source": [
        "❓ Question 2:\n",
        "\n",
        "Do you have any hypotheses about the holidays' impact on the sales?"
      ]
    },
    {
      "cell_type": "markdown",
      "id": "ce4a1b7d",
      "metadata": {
        "id": "ce4a1b7d"
      },
      "source": [
        "From Labor Day onwards, through Halloween, Thanksgiving, Christmas, and New Year - the sales are high, peaking during post Thanksgiving season. "
      ]
    },
    {
      "cell_type": "markdown",
      "id": "1c4efef8",
      "metadata": {
        "id": "1c4efef8"
      },
      "source": [
        "**For the purpose of this notebook, we focus on the sales data from Store 1** in DataFrame `df` and is saved in `train_store1.csv`. Let's read in the data."
      ]
    },
    {
      "cell_type": "code",
      "execution_count": 19,
      "id": "5f836e24",
      "metadata": {
        "execution": {
          "iopub.execute_input": "2022-05-14T21:23:17.224625Z",
          "iopub.status.busy": "2022-05-14T21:23:17.223574Z",
          "iopub.status.idle": "2022-05-14T21:23:17.230682Z",
          "shell.execute_reply": "2022-05-14T21:23:17.231246Z",
          "shell.execute_reply.started": "2022-05-14T20:31:21.509256Z"
        },
        "papermill": {
          "duration": 0.144233,
          "end_time": "2022-05-14T21:23:17.231443",
          "exception": false,
          "start_time": "2022-05-14T21:23:17.087210",
          "status": "completed"
        },
        "tags": [],
        "id": "5f836e24"
      },
      "outputs": [],
      "source": [
        "df = pd.read_csv(\"https://raw.githubusercontent.com/AnjanaSengupta/MLE-Oct-2022/main/assignments/week-04-data-eng-airflow/dat/train-store1.csv\")"
      ]
    },
    {
      "cell_type": "markdown",
      "id": "30a7d25a",
      "metadata": {
        "id": "30a7d25a"
      },
      "source": [
        "Extract week, month, and year information from the raw `Date` column to better manipulate the weekly data later. Pandas comes with powerful features to make this step easy. Reference: [tutorial\n",
        "](https://pandas.pydata.org/docs/getting_started/intro_tutorials/09_timeseries.html). \n",
        "\n",
        "First, use `.dtypes` to check the datatype of the `Date` column. What's the difference between `df[['Date']]` and `df['Date']`?."
      ]
    },
    {
      "cell_type": "code",
      "source": [
        "df['Date']"
      ],
      "metadata": {
        "colab": {
          "base_uri": "https://localhost:8080/"
        },
        "id": "4bpC5guddKU_",
        "outputId": "79b83502-8c05-4ce7-aa07-1ea31dbb44dd"
      },
      "id": "4bpC5guddKU_",
      "execution_count": 20,
      "outputs": [
        {
          "output_type": "execute_result",
          "data": {
            "text/plain": [
              "0        2010-02-05\n",
              "1        2010-02-12\n",
              "2        2010-02-19\n",
              "3        2010-02-26\n",
              "4        2010-03-05\n",
              "            ...    \n",
              "10239    2012-08-31\n",
              "10240    2012-09-07\n",
              "10241    2012-09-14\n",
              "10242    2012-10-05\n",
              "10243    2012-10-12\n",
              "Name: Date, Length: 10244, dtype: object"
            ]
          },
          "metadata": {},
          "execution_count": 20
        }
      ]
    },
    {
      "cell_type": "code",
      "source": [
        "df[['Date']]"
      ],
      "metadata": {
        "colab": {
          "base_uri": "https://localhost:8080/",
          "height": 419
        },
        "id": "6GeHlOhZa5Ev",
        "outputId": "8335bced-dd7e-48b3-e42c-ba03e24fa72c"
      },
      "id": "6GeHlOhZa5Ev",
      "execution_count": 21,
      "outputs": [
        {
          "output_type": "execute_result",
          "data": {
            "text/plain": [
              "             Date\n",
              "0      2010-02-05\n",
              "1      2010-02-12\n",
              "2      2010-02-19\n",
              "3      2010-02-26\n",
              "4      2010-03-05\n",
              "...           ...\n",
              "10239  2012-08-31\n",
              "10240  2012-09-07\n",
              "10241  2012-09-14\n",
              "10242  2012-10-05\n",
              "10243  2012-10-12\n",
              "\n",
              "[10244 rows x 1 columns]"
            ],
            "text/html": [
              "\n",
              "  <div id=\"df-58001f1c-fe32-4d15-b798-1cfa2275951c\">\n",
              "    <div class=\"colab-df-container\">\n",
              "      <div>\n",
              "<style scoped>\n",
              "    .dataframe tbody tr th:only-of-type {\n",
              "        vertical-align: middle;\n",
              "    }\n",
              "\n",
              "    .dataframe tbody tr th {\n",
              "        vertical-align: top;\n",
              "    }\n",
              "\n",
              "    .dataframe thead th {\n",
              "        text-align: right;\n",
              "    }\n",
              "</style>\n",
              "<table border=\"1\" class=\"dataframe\">\n",
              "  <thead>\n",
              "    <tr style=\"text-align: right;\">\n",
              "      <th></th>\n",
              "      <th>Date</th>\n",
              "    </tr>\n",
              "  </thead>\n",
              "  <tbody>\n",
              "    <tr>\n",
              "      <th>0</th>\n",
              "      <td>2010-02-05</td>\n",
              "    </tr>\n",
              "    <tr>\n",
              "      <th>1</th>\n",
              "      <td>2010-02-12</td>\n",
              "    </tr>\n",
              "    <tr>\n",
              "      <th>2</th>\n",
              "      <td>2010-02-19</td>\n",
              "    </tr>\n",
              "    <tr>\n",
              "      <th>3</th>\n",
              "      <td>2010-02-26</td>\n",
              "    </tr>\n",
              "    <tr>\n",
              "      <th>4</th>\n",
              "      <td>2010-03-05</td>\n",
              "    </tr>\n",
              "    <tr>\n",
              "      <th>...</th>\n",
              "      <td>...</td>\n",
              "    </tr>\n",
              "    <tr>\n",
              "      <th>10239</th>\n",
              "      <td>2012-08-31</td>\n",
              "    </tr>\n",
              "    <tr>\n",
              "      <th>10240</th>\n",
              "      <td>2012-09-07</td>\n",
              "    </tr>\n",
              "    <tr>\n",
              "      <th>10241</th>\n",
              "      <td>2012-09-14</td>\n",
              "    </tr>\n",
              "    <tr>\n",
              "      <th>10242</th>\n",
              "      <td>2012-10-05</td>\n",
              "    </tr>\n",
              "    <tr>\n",
              "      <th>10243</th>\n",
              "      <td>2012-10-12</td>\n",
              "    </tr>\n",
              "  </tbody>\n",
              "</table>\n",
              "<p>10244 rows × 1 columns</p>\n",
              "</div>\n",
              "      <button class=\"colab-df-convert\" onclick=\"convertToInteractive('df-58001f1c-fe32-4d15-b798-1cfa2275951c')\"\n",
              "              title=\"Convert this dataframe to an interactive table.\"\n",
              "              style=\"display:none;\">\n",
              "        \n",
              "  <svg xmlns=\"http://www.w3.org/2000/svg\" height=\"24px\"viewBox=\"0 0 24 24\"\n",
              "       width=\"24px\">\n",
              "    <path d=\"M0 0h24v24H0V0z\" fill=\"none\"/>\n",
              "    <path d=\"M18.56 5.44l.94 2.06.94-2.06 2.06-.94-2.06-.94-.94-2.06-.94 2.06-2.06.94zm-11 1L8.5 8.5l.94-2.06 2.06-.94-2.06-.94L8.5 2.5l-.94 2.06-2.06.94zm10 10l.94 2.06.94-2.06 2.06-.94-2.06-.94-.94-2.06-.94 2.06-2.06.94z\"/><path d=\"M17.41 7.96l-1.37-1.37c-.4-.4-.92-.59-1.43-.59-.52 0-1.04.2-1.43.59L10.3 9.45l-7.72 7.72c-.78.78-.78 2.05 0 2.83L4 21.41c.39.39.9.59 1.41.59.51 0 1.02-.2 1.41-.59l7.78-7.78 2.81-2.81c.8-.78.8-2.07 0-2.86zM5.41 20L4 18.59l7.72-7.72 1.47 1.35L5.41 20z\"/>\n",
              "  </svg>\n",
              "      </button>\n",
              "      \n",
              "  <style>\n",
              "    .colab-df-container {\n",
              "      display:flex;\n",
              "      flex-wrap:wrap;\n",
              "      gap: 12px;\n",
              "    }\n",
              "\n",
              "    .colab-df-convert {\n",
              "      background-color: #E8F0FE;\n",
              "      border: none;\n",
              "      border-radius: 50%;\n",
              "      cursor: pointer;\n",
              "      display: none;\n",
              "      fill: #1967D2;\n",
              "      height: 32px;\n",
              "      padding: 0 0 0 0;\n",
              "      width: 32px;\n",
              "    }\n",
              "\n",
              "    .colab-df-convert:hover {\n",
              "      background-color: #E2EBFA;\n",
              "      box-shadow: 0px 1px 2px rgba(60, 64, 67, 0.3), 0px 1px 3px 1px rgba(60, 64, 67, 0.15);\n",
              "      fill: #174EA6;\n",
              "    }\n",
              "\n",
              "    [theme=dark] .colab-df-convert {\n",
              "      background-color: #3B4455;\n",
              "      fill: #D2E3FC;\n",
              "    }\n",
              "\n",
              "    [theme=dark] .colab-df-convert:hover {\n",
              "      background-color: #434B5C;\n",
              "      box-shadow: 0px 1px 3px 1px rgba(0, 0, 0, 0.15);\n",
              "      filter: drop-shadow(0px 1px 2px rgba(0, 0, 0, 0.3));\n",
              "      fill: #FFFFFF;\n",
              "    }\n",
              "  </style>\n",
              "\n",
              "      <script>\n",
              "        const buttonEl =\n",
              "          document.querySelector('#df-58001f1c-fe32-4d15-b798-1cfa2275951c button.colab-df-convert');\n",
              "        buttonEl.style.display =\n",
              "          google.colab.kernel.accessAllowed ? 'block' : 'none';\n",
              "\n",
              "        async function convertToInteractive(key) {\n",
              "          const element = document.querySelector('#df-58001f1c-fe32-4d15-b798-1cfa2275951c');\n",
              "          const dataTable =\n",
              "            await google.colab.kernel.invokeFunction('convertToInteractive',\n",
              "                                                     [key], {});\n",
              "          if (!dataTable) return;\n",
              "\n",
              "          const docLinkHtml = 'Like what you see? Visit the ' +\n",
              "            '<a target=\"_blank\" href=https://colab.research.google.com/notebooks/data_table.ipynb>data table notebook</a>'\n",
              "            + ' to learn more about interactive tables.';\n",
              "          element.innerHTML = '';\n",
              "          dataTable['output_type'] = 'display_data';\n",
              "          await google.colab.output.renderOutput(dataTable, element);\n",
              "          const docLink = document.createElement('div');\n",
              "          docLink.innerHTML = docLinkHtml;\n",
              "          element.appendChild(docLink);\n",
              "        }\n",
              "      </script>\n",
              "    </div>\n",
              "  </div>\n",
              "  "
            ]
          },
          "metadata": {},
          "execution_count": 21
        }
      ]
    },
    {
      "cell_type": "code",
      "execution_count": 22,
      "id": "d5b3324b",
      "metadata": {
        "scrolled": true,
        "colab": {
          "base_uri": "https://localhost:8080/"
        },
        "id": "d5b3324b",
        "outputId": "63f4cd41-90e6-4863-85d7-6fdee516a971"
      },
      "outputs": [
        {
          "output_type": "execute_result",
          "data": {
            "text/plain": [
              "Store             int64\n",
              "Dept              int64\n",
              "Date             object\n",
              "Weekly_Sales    float64\n",
              "IsHoliday          bool\n",
              "Temperature     float64\n",
              "Fuel_Price      float64\n",
              "MarkDown1       float64\n",
              "MarkDown2       float64\n",
              "MarkDown3       float64\n",
              "MarkDown4       float64\n",
              "MarkDown5       float64\n",
              "CPI             float64\n",
              "Unemployment    float64\n",
              "Type             object\n",
              "Size              int64\n",
              "dtype: object"
            ]
          },
          "metadata": {},
          "execution_count": 22
        }
      ],
      "source": [
        "df.dtypes"
      ]
    },
    {
      "cell_type": "markdown",
      "id": "04c7fc60",
      "metadata": {
        "id": "04c7fc60"
      },
      "source": [
        "<details>\n",
        "<summary>Expected Output</summary>\n",
        "Date    object\n",
        "dtype: object\n",
        "</details>"
      ]
    },
    {
      "cell_type": "code",
      "execution_count": 23,
      "id": "31d9ad3d",
      "metadata": {
        "execution": {
          "iopub.execute_input": "2022-05-14T21:23:18.082947Z",
          "iopub.status.busy": "2022-05-14T21:23:18.082240Z",
          "iopub.status.idle": "2022-05-14T21:23:18.382486Z",
          "shell.execute_reply": "2022-05-14T21:23:18.381861Z",
          "shell.execute_reply.started": "2022-05-14T20:31:21.534163Z"
        },
        "papermill": {
          "duration": 0.464264,
          "end_time": "2022-05-14T21:23:18.382641",
          "exception": false,
          "start_time": "2022-05-14T21:23:17.918377",
          "status": "completed"
        },
        "tags": [],
        "id": "31d9ad3d"
      },
      "outputs": [],
      "source": [
        "df.Date=pd.to_datetime(df.Date)"
      ]
    },
    {
      "cell_type": "code",
      "source": [
        "df.Date.dtypes"
      ],
      "metadata": {
        "colab": {
          "base_uri": "https://localhost:8080/"
        },
        "id": "0y5kDuCZejbE",
        "outputId": "92297dc7-535d-40ad-ad12-87408d02e76f"
      },
      "id": "0y5kDuCZejbE",
      "execution_count": 24,
      "outputs": [
        {
          "output_type": "execute_result",
          "data": {
            "text/plain": [
              "dtype('<M8[ns]')"
            ]
          },
          "metadata": {},
          "execution_count": 24
        }
      ]
    },
    {
      "cell_type": "markdown",
      "id": "2e84ece0",
      "metadata": {
        "id": "2e84ece0"
      },
      "source": [
        "Verify that the `Date` column's datatype has changed as expected:"
      ]
    },
    {
      "cell_type": "code",
      "execution_count": 25,
      "id": "786ee438",
      "metadata": {
        "colab": {
          "base_uri": "https://localhost:8080/"
        },
        "id": "786ee438",
        "outputId": "72361492-1598-4d79-838e-b2edbf122690"
      },
      "outputs": [
        {
          "output_type": "execute_result",
          "data": {
            "text/plain": [
              "Date    datetime64[ns]\n",
              "dtype: object"
            ]
          },
          "metadata": {},
          "execution_count": 25
        }
      ],
      "source": [
        "df[['Date']].dtypes "
      ]
    },
    {
      "cell_type": "code",
      "execution_count": 26,
      "id": "20119870",
      "metadata": {
        "execution": {
          "iopub.execute_input": "2022-05-14T21:23:18.082947Z",
          "iopub.status.busy": "2022-05-14T21:23:18.082240Z",
          "iopub.status.idle": "2022-05-14T21:23:18.382486Z",
          "shell.execute_reply": "2022-05-14T21:23:18.381861Z",
          "shell.execute_reply.started": "2022-05-14T20:31:21.534163Z"
        },
        "papermill": {
          "duration": 0.464264,
          "end_time": "2022-05-14T21:23:18.382641",
          "exception": false,
          "start_time": "2022-05-14T21:23:17.918377",
          "status": "completed"
        },
        "tags": [],
        "id": "20119870"
      },
      "outputs": [],
      "source": [
        "df['week'] = df.Date.dt.week\n",
        "df['month'] = df.Date.dt.month \n",
        "df['year'] = df.Date.dt.year "
      ]
    },
    {
      "cell_type": "markdown",
      "id": "0796da36",
      "metadata": {
        "id": "0796da36"
      },
      "source": [
        "Verify that now there are 19 columns in `df`:"
      ]
    },
    {
      "cell_type": "code",
      "execution_count": 27,
      "id": "f793cb55",
      "metadata": {
        "colab": {
          "base_uri": "https://localhost:8080/"
        },
        "id": "f793cb55",
        "outputId": "df1b4626-28fb-4d5d-e2b2-ffb89253f237"
      },
      "outputs": [
        {
          "output_type": "execute_result",
          "data": {
            "text/plain": [
              "(10244, 19)"
            ]
          },
          "metadata": {},
          "execution_count": 27
        }
      ],
      "source": [
        "df.shape"
      ]
    },
    {
      "cell_type": "markdown",
      "id": "14b6bc64",
      "metadata": {
        "papermill": {
          "duration": 0.133103,
          "end_time": "2022-05-14T21:23:18.998289",
          "exception": false,
          "start_time": "2022-05-14T21:23:18.865186",
          "status": "completed"
        },
        "tags": [],
        "id": "14b6bc64"
      },
      "source": [
        "❓ Question 3:\n",
        "\n",
        "Last step before we look deeper into the features is to split the data set into training and testing datasets. Discuss: why do we want to perform EDA only on the training data, not the entire dataset? Shouldn't it be the more the better?"
      ]
    },
    {
      "cell_type": "markdown",
      "id": "e8bb470d",
      "metadata": {
        "id": "e8bb470d"
      },
      "source": [
        "No, we want to perform EDA only on the training data and not the entire dataset as [1] we want to keep the test and training datasets separate so  the model is not affected and/or contaminated by the test data [2] if we test the model on the data that we used to develop the model, we are going to get artificially good results. "
      ]
    },
    {
      "cell_type": "markdown",
      "id": "081ab5c3",
      "metadata": {
        "id": "081ab5c3"
      },
      "source": [
        "*The answer should mention data leakage, and / or overfitting*"
      ]
    },
    {
      "cell_type": "markdown",
      "id": "382aab82",
      "metadata": {
        "papermill": {
          "duration": 0.133103,
          "end_time": "2022-05-14T21:23:18.998289",
          "exception": false,
          "start_time": "2022-05-14T21:23:18.865186",
          "status": "completed"
        },
        "tags": [],
        "id": "382aab82"
      },
      "source": [
        "Split the data into training (80%) and test dataset (20%). Use function `train_test_split` from `scikit-learn` ( a popular library for machine learning in Python ),  and set `random_state` to be 42 for reproducibility ( this is not the best way to do train-test-split due to the temporal nature of the data, however, we will ignore it for now )."
      ]
    },
    {
      "cell_type": "code",
      "execution_count": 28,
      "id": "79a348f9",
      "metadata": {
        "id": "79a348f9"
      },
      "outputs": [],
      "source": [
        "from sklearn.model_selection import train_test_split"
      ]
    },
    {
      "cell_type": "code",
      "execution_count": 29,
      "id": "e253973d",
      "metadata": {
        "execution": {
          "iopub.execute_input": "2022-05-14T21:23:19.272142Z",
          "iopub.status.busy": "2022-05-14T21:23:19.271435Z",
          "iopub.status.idle": "2022-05-14T21:23:19.394337Z",
          "shell.execute_reply": "2022-05-14T21:23:19.393604Z",
          "shell.execute_reply.started": "2022-05-14T20:31:21.942121Z"
        },
        "papermill": {
          "duration": 0.26299,
          "end_time": "2022-05-14T21:23:19.394491",
          "exception": false,
          "start_time": "2022-05-14T21:23:19.131501",
          "status": "completed"
        },
        "tags": [],
        "colab": {
          "base_uri": "https://localhost:8080/"
        },
        "id": "e253973d",
        "outputId": "d8ac038e-0139-4886-c6b7-2451690d3109"
      },
      "outputs": [
        {
          "output_type": "execute_result",
          "data": {
            "text/plain": [
              "[      Store  Dept       Date  Weekly_Sales  IsHoliday  Temperature  \\\n",
              " 4549      1    34 2010-02-26      12005.00      False        46.63   \n",
              " 6496      1    52 2012-07-06       2377.08      False        81.57   \n",
              " 550       1     4 2012-06-01      41566.55      False        77.95   \n",
              " 7235      1    60 2010-06-04       1144.00      False        80.69   \n",
              " 2519      1    19 2012-05-11       1848.79      False        73.77   \n",
              " ...     ...   ...        ...           ...        ...          ...   \n",
              " 5734      1    44 2010-12-10       6310.08      False        46.33   \n",
              " 5191      1    38 2011-07-01      68879.85      False        85.55   \n",
              " 5390      1    40 2012-07-27      53286.98      False        82.66   \n",
              " 860       1     7 2010-02-19      19985.20      False        39.93   \n",
              " 7270      1    60 2011-02-04       1188.00      False        42.27   \n",
              " \n",
              "       Fuel_Price  MarkDown1  MarkDown2  MarkDown3  MarkDown4  MarkDown5  \\\n",
              " 4549       2.561        NaN        NaN        NaN        NaN        NaN   \n",
              " 6496       3.227   12218.76      94.40     192.83    4066.01    6149.04   \n",
              " 550        3.501    6086.21      12.00     370.51     148.75    3690.85   \n",
              " 7235       2.705        NaN        NaN        NaN        NaN        NaN   \n",
              " 2519       3.688    8351.40        NaN      10.52    2443.14    3127.88   \n",
              " ...          ...        ...        ...        ...        ...        ...   \n",
              " 5734       2.843        NaN        NaN        NaN        NaN        NaN   \n",
              " 5191       3.524        NaN        NaN        NaN        NaN        NaN   \n",
              " 5390       3.407    7146.90     389.02       1.59   10267.54    4325.19   \n",
              " 860        2.514        NaN        NaN        NaN        NaN        NaN   \n",
              " 7270       2.989        NaN        NaN        NaN        NaN        NaN   \n",
              " \n",
              "              CPI  Unemployment Type    Size  week  month  year  \n",
              " 4549  211.319643         8.106    A  151315     8      2  2010  \n",
              " 6496  221.883779         6.908    A  151315    27      7  2012  \n",
              " 550   221.747214         7.143    A  151315    22      6  2012  \n",
              " 7235  211.176428         7.808    A  151315    22      6  2010  \n",
              " 2519  221.725663         7.143    A  151315    19      5  2012  \n",
              " ...          ...           ...  ...     ...   ...    ...   ...  \n",
              " 5734  211.465953         7.838    A  151315    49     12  2010  \n",
              " 5191  215.184137         7.962    A  151315    26      7  2011  \n",
              " 5390  221.941295         6.908    A  151315    30      7  2012  \n",
              " 860   211.289143         8.106    A  151315     7      2  2010  \n",
              " 7270  212.566881         7.742    A  151315     5      2  2011  \n",
              " \n",
              " [8195 rows x 19 columns],\n",
              "       Store  Dept       Date  Weekly_Sales  IsHoliday  Temperature  \\\n",
              " 590       1     5 2010-06-11      21817.36      False        80.43   \n",
              " 8933      1    87 2012-09-07      56533.45       True        83.96   \n",
              " 2769      1    21 2011-09-02       8384.67      False        87.83   \n",
              " 7171      1    59 2011-12-09       2044.76      False        43.93   \n",
              " 4030      1    30 2011-03-04       4850.96      False        59.58   \n",
              " ...     ...   ...        ...           ...        ...          ...   \n",
              " 648       1     5 2011-07-22      19331.53      False        85.77   \n",
              " 1195      1     9 2011-01-28      13213.73      False        43.83   \n",
              " 9272      1    92 2010-12-17     156941.48      False        49.84   \n",
              " 879       1     7 2010-07-02      22589.00      False        80.91   \n",
              " 2691      1    21 2010-03-05       8275.44      False        46.50   \n",
              " \n",
              "       Fuel_Price  MarkDown1  MarkDown2  MarkDown3  MarkDown4  MarkDown5  \\\n",
              " 590        2.668        NaN        NaN        NaN        NaN        NaN   \n",
              " 8933       3.730    5204.68      35.74      50.94    4120.32    2737.17   \n",
              " 2769       3.533        NaN        NaN        NaN        NaN        NaN   \n",
              " 7171       3.158    4640.65      19.00     105.02    3639.42   14461.82   \n",
              " 4030       3.288        NaN        NaN        NaN        NaN        NaN   \n",
              " ...          ...        ...        ...        ...        ...        ...   \n",
              " 648        3.651        NaN        NaN        NaN        NaN        NaN   \n",
              " 1195       3.010        NaN        NaN        NaN        NaN        NaN   \n",
              " 9272       2.869        NaN        NaN        NaN        NaN        NaN   \n",
              " 879        2.669        NaN        NaN        NaN        NaN        NaN   \n",
              " 2691       2.625        NaN        NaN        NaN        NaN        NaN   \n",
              " \n",
              "              CPI  Unemployment Type    Size  week  month  year  \n",
              " 590   211.456095         7.808    A  151315    23      6  2010  \n",
              " 8933  222.439015         6.908    A  151315    36      9  2012  \n",
              " 2769  215.797141         7.962    A  151315    35      9  2011  \n",
              " 7171  218.961846         7.866    A  151315    49     12  2011  \n",
              " 4030  213.823333         7.742    A  151315     9      3  2011  \n",
              " ...          ...           ...  ...     ...   ...    ...   ...  \n",
              " 648   215.422278         7.962    A  151315    29      7  2011  \n",
              " 1195  212.197058         7.742    A  151315     4      1  2011  \n",
              " 9272  211.405312         7.838    A  151315    50     12  2010  \n",
              " 879   211.223533         7.787    A  151315    26      7  2010  \n",
              " 2691  211.350143         8.106    A  151315     9      3  2010  \n",
              " \n",
              " [2049 rows x 19 columns]]"
            ]
          },
          "metadata": {},
          "execution_count": 29
        }
      ],
      "source": [
        "train_test_split(df, test_size=0.2, random_state=42)\n",
        "df_train, df_test =  train_test_split(df)\n",
        "df_train['Type'] = 'Train'\n",
        "df_test['Type'] = 'Test'\n",
        "\n",
        "final_df = df_train.append(df_test)\n"
      ]
    },
    {
      "cell_type": "code",
      "execution_count": 30,
      "id": "78f1046e",
      "metadata": {
        "execution": {
          "iopub.execute_input": "2022-05-14T21:23:19.272142Z",
          "iopub.status.busy": "2022-05-14T21:23:19.271435Z",
          "iopub.status.idle": "2022-05-14T21:23:19.394337Z",
          "shell.execute_reply": "2022-05-14T21:23:19.393604Z",
          "shell.execute_reply.started": "2022-05-14T20:31:21.942121Z"
        },
        "papermill": {
          "duration": 0.26299,
          "end_time": "2022-05-14T21:23:19.394491",
          "exception": false,
          "start_time": "2022-05-14T21:23:19.131501",
          "status": "completed"
        },
        "tags": [],
        "colab": {
          "base_uri": "https://localhost:8080/"
        },
        "id": "78f1046e",
        "outputId": "fd95b9e6-84f5-4ef2-d5d4-75bd8ba84ce7"
      },
      "outputs": [
        {
          "output_type": "stream",
          "name": "stdout",
          "text": [
            "Original set  --->  (10244, 19) \n",
            "Training set  --->  (7683, 19) \n",
            "Testing set   --->  (2561, 19)\n"
          ]
        }
      ],
      "source": [
        "print('Original set  ---> ',df.shape,\n",
        "      '\\nTraining set  ---> ',df_train.shape,\n",
        "      '\\nTesting set   ---> ', df_test.shape)"
      ]
    },
    {
      "cell_type": "markdown",
      "id": "74698a5f",
      "metadata": {
        "id": "74698a5f"
      },
      "source": [
        "<details>\n",
        "<summary>Expected Output</summary>\n",
        "\n",
        "    ```\n",
        "    Original set  --->  (10244, 19) \n",
        "    Training set  --->  (8195, 19) \n",
        "    Testing set   --->  (2049, 19)\n",
        "    ```\n",
        "</details>"
      ]
    },
    {
      "cell_type": "markdown",
      "id": "ae7f539f",
      "metadata": {
        "papermill": {
          "duration": 0.133874,
          "end_time": "2022-05-14T21:23:19.663355",
          "exception": false,
          "start_time": "2022-05-14T21:23:19.529481",
          "status": "completed"
        },
        "tags": [],
        "id": "ae7f539f"
      },
      "source": [
        "## Task II: Target, Features, and Distributions"
      ]
    },
    {
      "cell_type": "markdown",
      "id": "0ffc1d40",
      "metadata": {
        "id": "0ffc1d40"
      },
      "source": [
        "We inspect the datatype of column `Date`; now find datatypes for all columns in `df_train` using `.dtypes`:"
      ]
    },
    {
      "cell_type": "code",
      "execution_count": 31,
      "id": "a8fcd41a",
      "metadata": {
        "scrolled": true,
        "colab": {
          "base_uri": "https://localhost:8080/"
        },
        "id": "a8fcd41a",
        "outputId": "9bbfd7d5-9aeb-42c9-f96f-b708b6b323c6"
      },
      "outputs": [
        {
          "output_type": "execute_result",
          "data": {
            "text/plain": [
              "Store                    int64\n",
              "Dept                     int64\n",
              "Date            datetime64[ns]\n",
              "Weekly_Sales           float64\n",
              "IsHoliday                 bool\n",
              "Temperature            float64\n",
              "Fuel_Price             float64\n",
              "MarkDown1              float64\n",
              "MarkDown2              float64\n",
              "MarkDown3              float64\n",
              "MarkDown4              float64\n",
              "MarkDown5              float64\n",
              "CPI                    float64\n",
              "Unemployment           float64\n",
              "Type                    object\n",
              "Size                     int64\n",
              "week                     int64\n",
              "month                    int64\n",
              "year                     int64\n",
              "dtype: object"
            ]
          },
          "metadata": {},
          "execution_count": 31
        }
      ],
      "source": [
        "df_train.dtypes"
      ]
    },
    {
      "cell_type": "markdown",
      "id": "4f94a5ba",
      "metadata": {
        "id": "4f94a5ba"
      },
      "source": [
        "<details>\n",
        "<summary>Expected Output</summary>\n",
        "\n",
        "```\n",
        "Store                    int64\n",
        "Dept                     int64\n",
        "Date            datetime64[ns]\n",
        "Weekly_Sales           float64\n",
        "IsHoliday                 bool\n",
        "Temperature            float64\n",
        "Fuel_Price             float64\n",
        "MarkDown1              float64\n",
        "MarkDown2              float64\n",
        "MarkDown3              float64\n",
        "MarkDown4              float64\n",
        "MarkDown5              float64\n",
        "CPI                    float64\n",
        "Unemployment           float64\n",
        "Type                    object\n",
        "Size                     int64\n",
        "week                     int64\n",
        "month                    int64\n",
        "year                     int64\n",
        "dtype: object\n",
        "```\n",
        "</details>"
      ]
    },
    {
      "cell_type": "markdown",
      "id": "48cd8249",
      "metadata": {
        "id": "48cd8249"
      },
      "source": [
        "Summary statistics provide you with a general understanding of the data. Use method `.describe()`. By default it reports statistics mean, max, min, quantiles for numerical features and counts, unique, mode for categorical features."
      ]
    },
    {
      "cell_type": "code",
      "execution_count": 32,
      "id": "e90817aa",
      "metadata": {
        "scrolled": true,
        "colab": {
          "base_uri": "https://localhost:8080/",
          "height": 361
        },
        "id": "e90817aa",
        "outputId": "4dfb995b-d662-4836-85bd-6eedc0b8fd4d"
      },
      "outputs": [
        {
          "output_type": "execute_result",
          "data": {
            "text/plain": [
              "          Store      Dept  Weekly_Sales  Temperature  Fuel_Price  MarkDown1  \\\n",
              "count 10,244.00 10,244.00     10,244.00    10,244.00   10,244.00   3,657.00   \n",
              "mean       1.00     44.39     21,710.54        68.22        3.22   8,086.73   \n",
              "std        0.00     29.87     27,748.95        14.20        0.43   6,542.42   \n",
              "min        1.00      1.00       -863.00        35.40        2.51     410.31   \n",
              "25%        1.00     20.00      3,465.62        57.79        2.76   4,039.39   \n",
              "50%        1.00     38.00     10,289.38        69.64        3.29   6,154.14   \n",
              "75%        1.00     72.00     31,452.96        80.48        3.59  10,121.97   \n",
              "max        1.00     99.00    203,670.47        91.65        3.91  34,577.06   \n",
              "\n",
              "       MarkDown2  MarkDown3  MarkDown4  MarkDown5       CPI  Unemployment  \\\n",
              "count   3,015.00   3,588.00   3,657.00   3,657.00 10,244.00     10,244.00   \n",
              "mean    2,967.16   1,245.40   3,755.21   5,027.75    216.00          7.61   \n",
              "std     7,911.85   7,867.46   5,950.68   3,267.92      4.34          0.38   \n",
              "min         0.50       0.25       8.00     554.92    210.34          6.57   \n",
              "25%        40.48       6.00     577.14   3,127.88    211.53          7.35   \n",
              "50%       137.86      30.23   1,822.55   4,325.19    215.46          7.79   \n",
              "75%     1,569.00     101.64   3,750.59   6,222.25    220.64          7.84   \n",
              "max    46,011.38  55,805.51  32,403.87  20,475.32    223.44          8.11   \n",
              "\n",
              "            Size      week     month      year  \n",
              "count  10,244.00 10,244.00 10,244.00 10,244.00  \n",
              "mean  151,315.00     25.84      6.45  2,010.96  \n",
              "std         0.00     14.17      3.25      0.80  \n",
              "min   151,315.00      1.00      1.00  2,010.00  \n",
              "25%   151,315.00     14.00      4.00  2,010.00  \n",
              "50%   151,315.00     26.00      6.00  2,011.00  \n",
              "75%   151,315.00     38.00      9.00  2,012.00  \n",
              "max   151,315.00     52.00     12.00  2,012.00  "
            ],
            "text/html": [
              "\n",
              "  <div id=\"df-2765e807-16eb-4394-bb43-112f1194ac70\">\n",
              "    <div class=\"colab-df-container\">\n",
              "      <div>\n",
              "<style scoped>\n",
              "    .dataframe tbody tr th:only-of-type {\n",
              "        vertical-align: middle;\n",
              "    }\n",
              "\n",
              "    .dataframe tbody tr th {\n",
              "        vertical-align: top;\n",
              "    }\n",
              "\n",
              "    .dataframe thead th {\n",
              "        text-align: right;\n",
              "    }\n",
              "</style>\n",
              "<table border=\"1\" class=\"dataframe\">\n",
              "  <thead>\n",
              "    <tr style=\"text-align: right;\">\n",
              "      <th></th>\n",
              "      <th>Store</th>\n",
              "      <th>Dept</th>\n",
              "      <th>Weekly_Sales</th>\n",
              "      <th>Temperature</th>\n",
              "      <th>Fuel_Price</th>\n",
              "      <th>MarkDown1</th>\n",
              "      <th>MarkDown2</th>\n",
              "      <th>MarkDown3</th>\n",
              "      <th>MarkDown4</th>\n",
              "      <th>MarkDown5</th>\n",
              "      <th>CPI</th>\n",
              "      <th>Unemployment</th>\n",
              "      <th>Size</th>\n",
              "      <th>week</th>\n",
              "      <th>month</th>\n",
              "      <th>year</th>\n",
              "    </tr>\n",
              "  </thead>\n",
              "  <tbody>\n",
              "    <tr>\n",
              "      <th>count</th>\n",
              "      <td>10,244.00</td>\n",
              "      <td>10,244.00</td>\n",
              "      <td>10,244.00</td>\n",
              "      <td>10,244.00</td>\n",
              "      <td>10,244.00</td>\n",
              "      <td>3,657.00</td>\n",
              "      <td>3,015.00</td>\n",
              "      <td>3,588.00</td>\n",
              "      <td>3,657.00</td>\n",
              "      <td>3,657.00</td>\n",
              "      <td>10,244.00</td>\n",
              "      <td>10,244.00</td>\n",
              "      <td>10,244.00</td>\n",
              "      <td>10,244.00</td>\n",
              "      <td>10,244.00</td>\n",
              "      <td>10,244.00</td>\n",
              "    </tr>\n",
              "    <tr>\n",
              "      <th>mean</th>\n",
              "      <td>1.00</td>\n",
              "      <td>44.39</td>\n",
              "      <td>21,710.54</td>\n",
              "      <td>68.22</td>\n",
              "      <td>3.22</td>\n",
              "      <td>8,086.73</td>\n",
              "      <td>2,967.16</td>\n",
              "      <td>1,245.40</td>\n",
              "      <td>3,755.21</td>\n",
              "      <td>5,027.75</td>\n",
              "      <td>216.00</td>\n",
              "      <td>7.61</td>\n",
              "      <td>151,315.00</td>\n",
              "      <td>25.84</td>\n",
              "      <td>6.45</td>\n",
              "      <td>2,010.96</td>\n",
              "    </tr>\n",
              "    <tr>\n",
              "      <th>std</th>\n",
              "      <td>0.00</td>\n",
              "      <td>29.87</td>\n",
              "      <td>27,748.95</td>\n",
              "      <td>14.20</td>\n",
              "      <td>0.43</td>\n",
              "      <td>6,542.42</td>\n",
              "      <td>7,911.85</td>\n",
              "      <td>7,867.46</td>\n",
              "      <td>5,950.68</td>\n",
              "      <td>3,267.92</td>\n",
              "      <td>4.34</td>\n",
              "      <td>0.38</td>\n",
              "      <td>0.00</td>\n",
              "      <td>14.17</td>\n",
              "      <td>3.25</td>\n",
              "      <td>0.80</td>\n",
              "    </tr>\n",
              "    <tr>\n",
              "      <th>min</th>\n",
              "      <td>1.00</td>\n",
              "      <td>1.00</td>\n",
              "      <td>-863.00</td>\n",
              "      <td>35.40</td>\n",
              "      <td>2.51</td>\n",
              "      <td>410.31</td>\n",
              "      <td>0.50</td>\n",
              "      <td>0.25</td>\n",
              "      <td>8.00</td>\n",
              "      <td>554.92</td>\n",
              "      <td>210.34</td>\n",
              "      <td>6.57</td>\n",
              "      <td>151,315.00</td>\n",
              "      <td>1.00</td>\n",
              "      <td>1.00</td>\n",
              "      <td>2,010.00</td>\n",
              "    </tr>\n",
              "    <tr>\n",
              "      <th>25%</th>\n",
              "      <td>1.00</td>\n",
              "      <td>20.00</td>\n",
              "      <td>3,465.62</td>\n",
              "      <td>57.79</td>\n",
              "      <td>2.76</td>\n",
              "      <td>4,039.39</td>\n",
              "      <td>40.48</td>\n",
              "      <td>6.00</td>\n",
              "      <td>577.14</td>\n",
              "      <td>3,127.88</td>\n",
              "      <td>211.53</td>\n",
              "      <td>7.35</td>\n",
              "      <td>151,315.00</td>\n",
              "      <td>14.00</td>\n",
              "      <td>4.00</td>\n",
              "      <td>2,010.00</td>\n",
              "    </tr>\n",
              "    <tr>\n",
              "      <th>50%</th>\n",
              "      <td>1.00</td>\n",
              "      <td>38.00</td>\n",
              "      <td>10,289.38</td>\n",
              "      <td>69.64</td>\n",
              "      <td>3.29</td>\n",
              "      <td>6,154.14</td>\n",
              "      <td>137.86</td>\n",
              "      <td>30.23</td>\n",
              "      <td>1,822.55</td>\n",
              "      <td>4,325.19</td>\n",
              "      <td>215.46</td>\n",
              "      <td>7.79</td>\n",
              "      <td>151,315.00</td>\n",
              "      <td>26.00</td>\n",
              "      <td>6.00</td>\n",
              "      <td>2,011.00</td>\n",
              "    </tr>\n",
              "    <tr>\n",
              "      <th>75%</th>\n",
              "      <td>1.00</td>\n",
              "      <td>72.00</td>\n",
              "      <td>31,452.96</td>\n",
              "      <td>80.48</td>\n",
              "      <td>3.59</td>\n",
              "      <td>10,121.97</td>\n",
              "      <td>1,569.00</td>\n",
              "      <td>101.64</td>\n",
              "      <td>3,750.59</td>\n",
              "      <td>6,222.25</td>\n",
              "      <td>220.64</td>\n",
              "      <td>7.84</td>\n",
              "      <td>151,315.00</td>\n",
              "      <td>38.00</td>\n",
              "      <td>9.00</td>\n",
              "      <td>2,012.00</td>\n",
              "    </tr>\n",
              "    <tr>\n",
              "      <th>max</th>\n",
              "      <td>1.00</td>\n",
              "      <td>99.00</td>\n",
              "      <td>203,670.47</td>\n",
              "      <td>91.65</td>\n",
              "      <td>3.91</td>\n",
              "      <td>34,577.06</td>\n",
              "      <td>46,011.38</td>\n",
              "      <td>55,805.51</td>\n",
              "      <td>32,403.87</td>\n",
              "      <td>20,475.32</td>\n",
              "      <td>223.44</td>\n",
              "      <td>8.11</td>\n",
              "      <td>151,315.00</td>\n",
              "      <td>52.00</td>\n",
              "      <td>12.00</td>\n",
              "      <td>2,012.00</td>\n",
              "    </tr>\n",
              "  </tbody>\n",
              "</table>\n",
              "</div>\n",
              "      <button class=\"colab-df-convert\" onclick=\"convertToInteractive('df-2765e807-16eb-4394-bb43-112f1194ac70')\"\n",
              "              title=\"Convert this dataframe to an interactive table.\"\n",
              "              style=\"display:none;\">\n",
              "        \n",
              "  <svg xmlns=\"http://www.w3.org/2000/svg\" height=\"24px\"viewBox=\"0 0 24 24\"\n",
              "       width=\"24px\">\n",
              "    <path d=\"M0 0h24v24H0V0z\" fill=\"none\"/>\n",
              "    <path d=\"M18.56 5.44l.94 2.06.94-2.06 2.06-.94-2.06-.94-.94-2.06-.94 2.06-2.06.94zm-11 1L8.5 8.5l.94-2.06 2.06-.94-2.06-.94L8.5 2.5l-.94 2.06-2.06.94zm10 10l.94 2.06.94-2.06 2.06-.94-2.06-.94-.94-2.06-.94 2.06-2.06.94z\"/><path d=\"M17.41 7.96l-1.37-1.37c-.4-.4-.92-.59-1.43-.59-.52 0-1.04.2-1.43.59L10.3 9.45l-7.72 7.72c-.78.78-.78 2.05 0 2.83L4 21.41c.39.39.9.59 1.41.59.51 0 1.02-.2 1.41-.59l7.78-7.78 2.81-2.81c.8-.78.8-2.07 0-2.86zM5.41 20L4 18.59l7.72-7.72 1.47 1.35L5.41 20z\"/>\n",
              "  </svg>\n",
              "      </button>\n",
              "      \n",
              "  <style>\n",
              "    .colab-df-container {\n",
              "      display:flex;\n",
              "      flex-wrap:wrap;\n",
              "      gap: 12px;\n",
              "    }\n",
              "\n",
              "    .colab-df-convert {\n",
              "      background-color: #E8F0FE;\n",
              "      border: none;\n",
              "      border-radius: 50%;\n",
              "      cursor: pointer;\n",
              "      display: none;\n",
              "      fill: #1967D2;\n",
              "      height: 32px;\n",
              "      padding: 0 0 0 0;\n",
              "      width: 32px;\n",
              "    }\n",
              "\n",
              "    .colab-df-convert:hover {\n",
              "      background-color: #E2EBFA;\n",
              "      box-shadow: 0px 1px 2px rgba(60, 64, 67, 0.3), 0px 1px 3px 1px rgba(60, 64, 67, 0.15);\n",
              "      fill: #174EA6;\n",
              "    }\n",
              "\n",
              "    [theme=dark] .colab-df-convert {\n",
              "      background-color: #3B4455;\n",
              "      fill: #D2E3FC;\n",
              "    }\n",
              "\n",
              "    [theme=dark] .colab-df-convert:hover {\n",
              "      background-color: #434B5C;\n",
              "      box-shadow: 0px 1px 3px 1px rgba(0, 0, 0, 0.15);\n",
              "      filter: drop-shadow(0px 1px 2px rgba(0, 0, 0, 0.3));\n",
              "      fill: #FFFFFF;\n",
              "    }\n",
              "  </style>\n",
              "\n",
              "      <script>\n",
              "        const buttonEl =\n",
              "          document.querySelector('#df-2765e807-16eb-4394-bb43-112f1194ac70 button.colab-df-convert');\n",
              "        buttonEl.style.display =\n",
              "          google.colab.kernel.accessAllowed ? 'block' : 'none';\n",
              "\n",
              "        async function convertToInteractive(key) {\n",
              "          const element = document.querySelector('#df-2765e807-16eb-4394-bb43-112f1194ac70');\n",
              "          const dataTable =\n",
              "            await google.colab.kernel.invokeFunction('convertToInteractive',\n",
              "                                                     [key], {});\n",
              "          if (!dataTable) return;\n",
              "\n",
              "          const docLinkHtml = 'Like what you see? Visit the ' +\n",
              "            '<a target=\"_blank\" href=https://colab.research.google.com/notebooks/data_table.ipynb>data table notebook</a>'\n",
              "            + ' to learn more about interactive tables.';\n",
              "          element.innerHTML = '';\n",
              "          dataTable['output_type'] = 'display_data';\n",
              "          await google.colab.output.renderOutput(dataTable, element);\n",
              "          const docLink = document.createElement('div');\n",
              "          docLink.innerHTML = docLinkHtml;\n",
              "          element.appendChild(docLink);\n",
              "        }\n",
              "      </script>\n",
              "    </div>\n",
              "  </div>\n",
              "  "
            ]
          },
          "metadata": {},
          "execution_count": 32
        }
      ],
      "source": [
        "pd.options.display.float_format = \"{:,.2f}\".format\n",
        "df.describe()"
      ]
    },
    {
      "cell_type": "code",
      "source": [
        "df_train.describe()\n"
      ],
      "metadata": {
        "colab": {
          "base_uri": "https://localhost:8080/",
          "height": 361
        },
        "id": "Momjdgq0ojhQ",
        "outputId": "13052b23-5fee-4a16-a44d-53740d4a3bf9"
      },
      "id": "Momjdgq0ojhQ",
      "execution_count": 33,
      "outputs": [
        {
          "output_type": "execute_result",
          "data": {
            "text/plain": [
              "         Store     Dept  Weekly_Sales  Temperature  Fuel_Price  MarkDown1  \\\n",
              "count 7,683.00 7,683.00      7,683.00     7,683.00    7,683.00   2,714.00   \n",
              "mean      1.00    44.37     21,559.56        68.29        3.22   7,997.69   \n",
              "std       0.00    29.86     27,597.41        14.16        0.42   6,517.38   \n",
              "min       1.00     1.00       -698.00        35.40        2.51     410.31   \n",
              "25%       1.00    19.00      3,419.31        57.79        2.76   4,039.39   \n",
              "50%       1.00    38.00     10,272.79        69.64        3.29   6,154.14   \n",
              "75%       1.00    72.00     31,369.82        80.48        3.59   9,873.33   \n",
              "max       1.00    99.00    203,670.47        91.65        3.91  34,577.06   \n",
              "\n",
              "       MarkDown2  MarkDown3  MarkDown4  MarkDown5      CPI  Unemployment  \\\n",
              "count   2,246.00   2,663.00   2,714.00   2,714.00 7,683.00      7,683.00   \n",
              "mean    2,952.37   1,327.26   3,780.56   5,025.17   215.97          7.61   \n",
              "std     8,001.47   8,134.16   6,055.63   3,302.97     4.33          0.38   \n",
              "min         0.50       0.25       8.00     554.92   210.34          6.57   \n",
              "25%        40.48       6.00     583.44   3,127.88   211.53          7.35   \n",
              "50%       137.86      21.70   1,822.55   4,325.19   215.46          7.79   \n",
              "75%     1,569.00     101.64   3,639.42   6,222.25   220.43          7.84   \n",
              "max    46,011.38  55,805.51  32,403.87  20,475.32   223.44          8.11   \n",
              "\n",
              "            Size     week    month     year  \n",
              "count   7,683.00 7,683.00 7,683.00 7,683.00  \n",
              "mean  151,315.00    25.88     6.46 2,010.96  \n",
              "std         0.00    14.12     3.23     0.79  \n",
              "min   151,315.00     1.00     1.00 2,010.00  \n",
              "25%   151,315.00    14.00     4.00 2,010.00  \n",
              "50%   151,315.00    26.00     6.00 2,011.00  \n",
              "75%   151,315.00    38.00     9.00 2,012.00  \n",
              "max   151,315.00    52.00    12.00 2,012.00  "
            ],
            "text/html": [
              "\n",
              "  <div id=\"df-aead0c5c-4c37-4efb-b0b0-a2a8048c2e28\">\n",
              "    <div class=\"colab-df-container\">\n",
              "      <div>\n",
              "<style scoped>\n",
              "    .dataframe tbody tr th:only-of-type {\n",
              "        vertical-align: middle;\n",
              "    }\n",
              "\n",
              "    .dataframe tbody tr th {\n",
              "        vertical-align: top;\n",
              "    }\n",
              "\n",
              "    .dataframe thead th {\n",
              "        text-align: right;\n",
              "    }\n",
              "</style>\n",
              "<table border=\"1\" class=\"dataframe\">\n",
              "  <thead>\n",
              "    <tr style=\"text-align: right;\">\n",
              "      <th></th>\n",
              "      <th>Store</th>\n",
              "      <th>Dept</th>\n",
              "      <th>Weekly_Sales</th>\n",
              "      <th>Temperature</th>\n",
              "      <th>Fuel_Price</th>\n",
              "      <th>MarkDown1</th>\n",
              "      <th>MarkDown2</th>\n",
              "      <th>MarkDown3</th>\n",
              "      <th>MarkDown4</th>\n",
              "      <th>MarkDown5</th>\n",
              "      <th>CPI</th>\n",
              "      <th>Unemployment</th>\n",
              "      <th>Size</th>\n",
              "      <th>week</th>\n",
              "      <th>month</th>\n",
              "      <th>year</th>\n",
              "    </tr>\n",
              "  </thead>\n",
              "  <tbody>\n",
              "    <tr>\n",
              "      <th>count</th>\n",
              "      <td>7,683.00</td>\n",
              "      <td>7,683.00</td>\n",
              "      <td>7,683.00</td>\n",
              "      <td>7,683.00</td>\n",
              "      <td>7,683.00</td>\n",
              "      <td>2,714.00</td>\n",
              "      <td>2,246.00</td>\n",
              "      <td>2,663.00</td>\n",
              "      <td>2,714.00</td>\n",
              "      <td>2,714.00</td>\n",
              "      <td>7,683.00</td>\n",
              "      <td>7,683.00</td>\n",
              "      <td>7,683.00</td>\n",
              "      <td>7,683.00</td>\n",
              "      <td>7,683.00</td>\n",
              "      <td>7,683.00</td>\n",
              "    </tr>\n",
              "    <tr>\n",
              "      <th>mean</th>\n",
              "      <td>1.00</td>\n",
              "      <td>44.37</td>\n",
              "      <td>21,559.56</td>\n",
              "      <td>68.29</td>\n",
              "      <td>3.22</td>\n",
              "      <td>7,997.69</td>\n",
              "      <td>2,952.37</td>\n",
              "      <td>1,327.26</td>\n",
              "      <td>3,780.56</td>\n",
              "      <td>5,025.17</td>\n",
              "      <td>215.97</td>\n",
              "      <td>7.61</td>\n",
              "      <td>151,315.00</td>\n",
              "      <td>25.88</td>\n",
              "      <td>6.46</td>\n",
              "      <td>2,010.96</td>\n",
              "    </tr>\n",
              "    <tr>\n",
              "      <th>std</th>\n",
              "      <td>0.00</td>\n",
              "      <td>29.86</td>\n",
              "      <td>27,597.41</td>\n",
              "      <td>14.16</td>\n",
              "      <td>0.42</td>\n",
              "      <td>6,517.38</td>\n",
              "      <td>8,001.47</td>\n",
              "      <td>8,134.16</td>\n",
              "      <td>6,055.63</td>\n",
              "      <td>3,302.97</td>\n",
              "      <td>4.33</td>\n",
              "      <td>0.38</td>\n",
              "      <td>0.00</td>\n",
              "      <td>14.12</td>\n",
              "      <td>3.23</td>\n",
              "      <td>0.79</td>\n",
              "    </tr>\n",
              "    <tr>\n",
              "      <th>min</th>\n",
              "      <td>1.00</td>\n",
              "      <td>1.00</td>\n",
              "      <td>-698.00</td>\n",
              "      <td>35.40</td>\n",
              "      <td>2.51</td>\n",
              "      <td>410.31</td>\n",
              "      <td>0.50</td>\n",
              "      <td>0.25</td>\n",
              "      <td>8.00</td>\n",
              "      <td>554.92</td>\n",
              "      <td>210.34</td>\n",
              "      <td>6.57</td>\n",
              "      <td>151,315.00</td>\n",
              "      <td>1.00</td>\n",
              "      <td>1.00</td>\n",
              "      <td>2,010.00</td>\n",
              "    </tr>\n",
              "    <tr>\n",
              "      <th>25%</th>\n",
              "      <td>1.00</td>\n",
              "      <td>19.00</td>\n",
              "      <td>3,419.31</td>\n",
              "      <td>57.79</td>\n",
              "      <td>2.76</td>\n",
              "      <td>4,039.39</td>\n",
              "      <td>40.48</td>\n",
              "      <td>6.00</td>\n",
              "      <td>583.44</td>\n",
              "      <td>3,127.88</td>\n",
              "      <td>211.53</td>\n",
              "      <td>7.35</td>\n",
              "      <td>151,315.00</td>\n",
              "      <td>14.00</td>\n",
              "      <td>4.00</td>\n",
              "      <td>2,010.00</td>\n",
              "    </tr>\n",
              "    <tr>\n",
              "      <th>50%</th>\n",
              "      <td>1.00</td>\n",
              "      <td>38.00</td>\n",
              "      <td>10,272.79</td>\n",
              "      <td>69.64</td>\n",
              "      <td>3.29</td>\n",
              "      <td>6,154.14</td>\n",
              "      <td>137.86</td>\n",
              "      <td>21.70</td>\n",
              "      <td>1,822.55</td>\n",
              "      <td>4,325.19</td>\n",
              "      <td>215.46</td>\n",
              "      <td>7.79</td>\n",
              "      <td>151,315.00</td>\n",
              "      <td>26.00</td>\n",
              "      <td>6.00</td>\n",
              "      <td>2,011.00</td>\n",
              "    </tr>\n",
              "    <tr>\n",
              "      <th>75%</th>\n",
              "      <td>1.00</td>\n",
              "      <td>72.00</td>\n",
              "      <td>31,369.82</td>\n",
              "      <td>80.48</td>\n",
              "      <td>3.59</td>\n",
              "      <td>9,873.33</td>\n",
              "      <td>1,569.00</td>\n",
              "      <td>101.64</td>\n",
              "      <td>3,639.42</td>\n",
              "      <td>6,222.25</td>\n",
              "      <td>220.43</td>\n",
              "      <td>7.84</td>\n",
              "      <td>151,315.00</td>\n",
              "      <td>38.00</td>\n",
              "      <td>9.00</td>\n",
              "      <td>2,012.00</td>\n",
              "    </tr>\n",
              "    <tr>\n",
              "      <th>max</th>\n",
              "      <td>1.00</td>\n",
              "      <td>99.00</td>\n",
              "      <td>203,670.47</td>\n",
              "      <td>91.65</td>\n",
              "      <td>3.91</td>\n",
              "      <td>34,577.06</td>\n",
              "      <td>46,011.38</td>\n",
              "      <td>55,805.51</td>\n",
              "      <td>32,403.87</td>\n",
              "      <td>20,475.32</td>\n",
              "      <td>223.44</td>\n",
              "      <td>8.11</td>\n",
              "      <td>151,315.00</td>\n",
              "      <td>52.00</td>\n",
              "      <td>12.00</td>\n",
              "      <td>2,012.00</td>\n",
              "    </tr>\n",
              "  </tbody>\n",
              "</table>\n",
              "</div>\n",
              "      <button class=\"colab-df-convert\" onclick=\"convertToInteractive('df-aead0c5c-4c37-4efb-b0b0-a2a8048c2e28')\"\n",
              "              title=\"Convert this dataframe to an interactive table.\"\n",
              "              style=\"display:none;\">\n",
              "        \n",
              "  <svg xmlns=\"http://www.w3.org/2000/svg\" height=\"24px\"viewBox=\"0 0 24 24\"\n",
              "       width=\"24px\">\n",
              "    <path d=\"M0 0h24v24H0V0z\" fill=\"none\"/>\n",
              "    <path d=\"M18.56 5.44l.94 2.06.94-2.06 2.06-.94-2.06-.94-.94-2.06-.94 2.06-2.06.94zm-11 1L8.5 8.5l.94-2.06 2.06-.94-2.06-.94L8.5 2.5l-.94 2.06-2.06.94zm10 10l.94 2.06.94-2.06 2.06-.94-2.06-.94-.94-2.06-.94 2.06-2.06.94z\"/><path d=\"M17.41 7.96l-1.37-1.37c-.4-.4-.92-.59-1.43-.59-.52 0-1.04.2-1.43.59L10.3 9.45l-7.72 7.72c-.78.78-.78 2.05 0 2.83L4 21.41c.39.39.9.59 1.41.59.51 0 1.02-.2 1.41-.59l7.78-7.78 2.81-2.81c.8-.78.8-2.07 0-2.86zM5.41 20L4 18.59l7.72-7.72 1.47 1.35L5.41 20z\"/>\n",
              "  </svg>\n",
              "      </button>\n",
              "      \n",
              "  <style>\n",
              "    .colab-df-container {\n",
              "      display:flex;\n",
              "      flex-wrap:wrap;\n",
              "      gap: 12px;\n",
              "    }\n",
              "\n",
              "    .colab-df-convert {\n",
              "      background-color: #E8F0FE;\n",
              "      border: none;\n",
              "      border-radius: 50%;\n",
              "      cursor: pointer;\n",
              "      display: none;\n",
              "      fill: #1967D2;\n",
              "      height: 32px;\n",
              "      padding: 0 0 0 0;\n",
              "      width: 32px;\n",
              "    }\n",
              "\n",
              "    .colab-df-convert:hover {\n",
              "      background-color: #E2EBFA;\n",
              "      box-shadow: 0px 1px 2px rgba(60, 64, 67, 0.3), 0px 1px 3px 1px rgba(60, 64, 67, 0.15);\n",
              "      fill: #174EA6;\n",
              "    }\n",
              "\n",
              "    [theme=dark] .colab-df-convert {\n",
              "      background-color: #3B4455;\n",
              "      fill: #D2E3FC;\n",
              "    }\n",
              "\n",
              "    [theme=dark] .colab-df-convert:hover {\n",
              "      background-color: #434B5C;\n",
              "      box-shadow: 0px 1px 3px 1px rgba(0, 0, 0, 0.15);\n",
              "      filter: drop-shadow(0px 1px 2px rgba(0, 0, 0, 0.3));\n",
              "      fill: #FFFFFF;\n",
              "    }\n",
              "  </style>\n",
              "\n",
              "      <script>\n",
              "        const buttonEl =\n",
              "          document.querySelector('#df-aead0c5c-4c37-4efb-b0b0-a2a8048c2e28 button.colab-df-convert');\n",
              "        buttonEl.style.display =\n",
              "          google.colab.kernel.accessAllowed ? 'block' : 'none';\n",
              "\n",
              "        async function convertToInteractive(key) {\n",
              "          const element = document.querySelector('#df-aead0c5c-4c37-4efb-b0b0-a2a8048c2e28');\n",
              "          const dataTable =\n",
              "            await google.colab.kernel.invokeFunction('convertToInteractive',\n",
              "                                                     [key], {});\n",
              "          if (!dataTable) return;\n",
              "\n",
              "          const docLinkHtml = 'Like what you see? Visit the ' +\n",
              "            '<a target=\"_blank\" href=https://colab.research.google.com/notebooks/data_table.ipynb>data table notebook</a>'\n",
              "            + ' to learn more about interactive tables.';\n",
              "          element.innerHTML = '';\n",
              "          dataTable['output_type'] = 'display_data';\n",
              "          await google.colab.output.renderOutput(dataTable, element);\n",
              "          const docLink = document.createElement('div');\n",
              "          docLink.innerHTML = docLinkHtml;\n",
              "          element.appendChild(docLink);\n",
              "        }\n",
              "      </script>\n",
              "    </div>\n",
              "  </div>\n",
              "  "
            ]
          },
          "metadata": {},
          "execution_count": 33
        }
      ]
    },
    {
      "cell_type": "code",
      "source": [
        "df_test.describe()"
      ],
      "metadata": {
        "colab": {
          "base_uri": "https://localhost:8080/",
          "height": 361
        },
        "id": "b9CPnmCxo7BI",
        "outputId": "8e13f3cf-ee4a-40f2-f897-03a6d373cc01"
      },
      "id": "b9CPnmCxo7BI",
      "execution_count": 34,
      "outputs": [
        {
          "output_type": "execute_result",
          "data": {
            "text/plain": [
              "         Store     Dept  Weekly_Sales  Temperature  Fuel_Price  MarkDown1  \\\n",
              "count 2,561.00 2,561.00      2,561.00     2,561.00    2,561.00     943.00   \n",
              "mean      1.00    44.45     22,163.49        68.03        3.22   8,343.01   \n",
              "std       0.00    29.88     28,199.28        14.33        0.43   6,610.74   \n",
              "min       1.00     1.00       -863.00        35.40        2.51     410.31   \n",
              "25%       1.00    20.00      3,619.49        57.36        2.76   4,139.87   \n",
              "50%       1.00    37.00     10,320.09        69.31        3.29   6,186.19   \n",
              "75%       1.00    72.00     31,595.22        80.48        3.60  10,309.58   \n",
              "max       1.00    99.00    196,810.42        91.65        3.91  34,577.06   \n",
              "\n",
              "       MarkDown2  MarkDown3  MarkDown4  MarkDown5      CPI  Unemployment  \\\n",
              "count     769.00     925.00     943.00     943.00 2,561.00      2,561.00   \n",
              "mean    3,010.37   1,009.74   3,682.25   5,035.16   216.06          7.60   \n",
              "std     7,648.99   7,042.29   5,640.21   3,166.57     4.36          0.38   \n",
              "min         0.50       0.25       8.00     554.92   210.34          6.57   \n",
              "25%        35.74       6.85     577.14   3,261.04   211.53          7.35   \n",
              "50%       151.88      33.88   1,675.49   4,325.19   215.48          7.79   \n",
              "75%     2,807.19     101.64   3,909.38   6,222.25   220.64          7.84   \n",
              "max    46,011.38  55,805.51  32,403.87  20,475.32   223.44          8.11   \n",
              "\n",
              "            Size     week    month     year  \n",
              "count   2,561.00 2,561.00 2,561.00 2,561.00  \n",
              "mean  151,315.00    25.73     6.43 2,010.98  \n",
              "std         0.00    14.33     3.29     0.80  \n",
              "min   151,315.00     1.00     1.00 2,010.00  \n",
              "25%   151,315.00    14.00     4.00 2,010.00  \n",
              "50%   151,315.00    26.00     6.00 2,011.00  \n",
              "75%   151,315.00    38.00     9.00 2,012.00  \n",
              "max   151,315.00    52.00    12.00 2,012.00  "
            ],
            "text/html": [
              "\n",
              "  <div id=\"df-668f3cb6-6b13-439c-bce8-f5deaed8ca8d\">\n",
              "    <div class=\"colab-df-container\">\n",
              "      <div>\n",
              "<style scoped>\n",
              "    .dataframe tbody tr th:only-of-type {\n",
              "        vertical-align: middle;\n",
              "    }\n",
              "\n",
              "    .dataframe tbody tr th {\n",
              "        vertical-align: top;\n",
              "    }\n",
              "\n",
              "    .dataframe thead th {\n",
              "        text-align: right;\n",
              "    }\n",
              "</style>\n",
              "<table border=\"1\" class=\"dataframe\">\n",
              "  <thead>\n",
              "    <tr style=\"text-align: right;\">\n",
              "      <th></th>\n",
              "      <th>Store</th>\n",
              "      <th>Dept</th>\n",
              "      <th>Weekly_Sales</th>\n",
              "      <th>Temperature</th>\n",
              "      <th>Fuel_Price</th>\n",
              "      <th>MarkDown1</th>\n",
              "      <th>MarkDown2</th>\n",
              "      <th>MarkDown3</th>\n",
              "      <th>MarkDown4</th>\n",
              "      <th>MarkDown5</th>\n",
              "      <th>CPI</th>\n",
              "      <th>Unemployment</th>\n",
              "      <th>Size</th>\n",
              "      <th>week</th>\n",
              "      <th>month</th>\n",
              "      <th>year</th>\n",
              "    </tr>\n",
              "  </thead>\n",
              "  <tbody>\n",
              "    <tr>\n",
              "      <th>count</th>\n",
              "      <td>2,561.00</td>\n",
              "      <td>2,561.00</td>\n",
              "      <td>2,561.00</td>\n",
              "      <td>2,561.00</td>\n",
              "      <td>2,561.00</td>\n",
              "      <td>943.00</td>\n",
              "      <td>769.00</td>\n",
              "      <td>925.00</td>\n",
              "      <td>943.00</td>\n",
              "      <td>943.00</td>\n",
              "      <td>2,561.00</td>\n",
              "      <td>2,561.00</td>\n",
              "      <td>2,561.00</td>\n",
              "      <td>2,561.00</td>\n",
              "      <td>2,561.00</td>\n",
              "      <td>2,561.00</td>\n",
              "    </tr>\n",
              "    <tr>\n",
              "      <th>mean</th>\n",
              "      <td>1.00</td>\n",
              "      <td>44.45</td>\n",
              "      <td>22,163.49</td>\n",
              "      <td>68.03</td>\n",
              "      <td>3.22</td>\n",
              "      <td>8,343.01</td>\n",
              "      <td>3,010.37</td>\n",
              "      <td>1,009.74</td>\n",
              "      <td>3,682.25</td>\n",
              "      <td>5,035.16</td>\n",
              "      <td>216.06</td>\n",
              "      <td>7.60</td>\n",
              "      <td>151,315.00</td>\n",
              "      <td>25.73</td>\n",
              "      <td>6.43</td>\n",
              "      <td>2,010.98</td>\n",
              "    </tr>\n",
              "    <tr>\n",
              "      <th>std</th>\n",
              "      <td>0.00</td>\n",
              "      <td>29.88</td>\n",
              "      <td>28,199.28</td>\n",
              "      <td>14.33</td>\n",
              "      <td>0.43</td>\n",
              "      <td>6,610.74</td>\n",
              "      <td>7,648.99</td>\n",
              "      <td>7,042.29</td>\n",
              "      <td>5,640.21</td>\n",
              "      <td>3,166.57</td>\n",
              "      <td>4.36</td>\n",
              "      <td>0.38</td>\n",
              "      <td>0.00</td>\n",
              "      <td>14.33</td>\n",
              "      <td>3.29</td>\n",
              "      <td>0.80</td>\n",
              "    </tr>\n",
              "    <tr>\n",
              "      <th>min</th>\n",
              "      <td>1.00</td>\n",
              "      <td>1.00</td>\n",
              "      <td>-863.00</td>\n",
              "      <td>35.40</td>\n",
              "      <td>2.51</td>\n",
              "      <td>410.31</td>\n",
              "      <td>0.50</td>\n",
              "      <td>0.25</td>\n",
              "      <td>8.00</td>\n",
              "      <td>554.92</td>\n",
              "      <td>210.34</td>\n",
              "      <td>6.57</td>\n",
              "      <td>151,315.00</td>\n",
              "      <td>1.00</td>\n",
              "      <td>1.00</td>\n",
              "      <td>2,010.00</td>\n",
              "    </tr>\n",
              "    <tr>\n",
              "      <th>25%</th>\n",
              "      <td>1.00</td>\n",
              "      <td>20.00</td>\n",
              "      <td>3,619.49</td>\n",
              "      <td>57.36</td>\n",
              "      <td>2.76</td>\n",
              "      <td>4,139.87</td>\n",
              "      <td>35.74</td>\n",
              "      <td>6.85</td>\n",
              "      <td>577.14</td>\n",
              "      <td>3,261.04</td>\n",
              "      <td>211.53</td>\n",
              "      <td>7.35</td>\n",
              "      <td>151,315.00</td>\n",
              "      <td>14.00</td>\n",
              "      <td>4.00</td>\n",
              "      <td>2,010.00</td>\n",
              "    </tr>\n",
              "    <tr>\n",
              "      <th>50%</th>\n",
              "      <td>1.00</td>\n",
              "      <td>37.00</td>\n",
              "      <td>10,320.09</td>\n",
              "      <td>69.31</td>\n",
              "      <td>3.29</td>\n",
              "      <td>6,186.19</td>\n",
              "      <td>151.88</td>\n",
              "      <td>33.88</td>\n",
              "      <td>1,675.49</td>\n",
              "      <td>4,325.19</td>\n",
              "      <td>215.48</td>\n",
              "      <td>7.79</td>\n",
              "      <td>151,315.00</td>\n",
              "      <td>26.00</td>\n",
              "      <td>6.00</td>\n",
              "      <td>2,011.00</td>\n",
              "    </tr>\n",
              "    <tr>\n",
              "      <th>75%</th>\n",
              "      <td>1.00</td>\n",
              "      <td>72.00</td>\n",
              "      <td>31,595.22</td>\n",
              "      <td>80.48</td>\n",
              "      <td>3.60</td>\n",
              "      <td>10,309.58</td>\n",
              "      <td>2,807.19</td>\n",
              "      <td>101.64</td>\n",
              "      <td>3,909.38</td>\n",
              "      <td>6,222.25</td>\n",
              "      <td>220.64</td>\n",
              "      <td>7.84</td>\n",
              "      <td>151,315.00</td>\n",
              "      <td>38.00</td>\n",
              "      <td>9.00</td>\n",
              "      <td>2,012.00</td>\n",
              "    </tr>\n",
              "    <tr>\n",
              "      <th>max</th>\n",
              "      <td>1.00</td>\n",
              "      <td>99.00</td>\n",
              "      <td>196,810.42</td>\n",
              "      <td>91.65</td>\n",
              "      <td>3.91</td>\n",
              "      <td>34,577.06</td>\n",
              "      <td>46,011.38</td>\n",
              "      <td>55,805.51</td>\n",
              "      <td>32,403.87</td>\n",
              "      <td>20,475.32</td>\n",
              "      <td>223.44</td>\n",
              "      <td>8.11</td>\n",
              "      <td>151,315.00</td>\n",
              "      <td>52.00</td>\n",
              "      <td>12.00</td>\n",
              "      <td>2,012.00</td>\n",
              "    </tr>\n",
              "  </tbody>\n",
              "</table>\n",
              "</div>\n",
              "      <button class=\"colab-df-convert\" onclick=\"convertToInteractive('df-668f3cb6-6b13-439c-bce8-f5deaed8ca8d')\"\n",
              "              title=\"Convert this dataframe to an interactive table.\"\n",
              "              style=\"display:none;\">\n",
              "        \n",
              "  <svg xmlns=\"http://www.w3.org/2000/svg\" height=\"24px\"viewBox=\"0 0 24 24\"\n",
              "       width=\"24px\">\n",
              "    <path d=\"M0 0h24v24H0V0z\" fill=\"none\"/>\n",
              "    <path d=\"M18.56 5.44l.94 2.06.94-2.06 2.06-.94-2.06-.94-.94-2.06-.94 2.06-2.06.94zm-11 1L8.5 8.5l.94-2.06 2.06-.94-2.06-.94L8.5 2.5l-.94 2.06-2.06.94zm10 10l.94 2.06.94-2.06 2.06-.94-2.06-.94-.94-2.06-.94 2.06-2.06.94z\"/><path d=\"M17.41 7.96l-1.37-1.37c-.4-.4-.92-.59-1.43-.59-.52 0-1.04.2-1.43.59L10.3 9.45l-7.72 7.72c-.78.78-.78 2.05 0 2.83L4 21.41c.39.39.9.59 1.41.59.51 0 1.02-.2 1.41-.59l7.78-7.78 2.81-2.81c.8-.78.8-2.07 0-2.86zM5.41 20L4 18.59l7.72-7.72 1.47 1.35L5.41 20z\"/>\n",
              "  </svg>\n",
              "      </button>\n",
              "      \n",
              "  <style>\n",
              "    .colab-df-container {\n",
              "      display:flex;\n",
              "      flex-wrap:wrap;\n",
              "      gap: 12px;\n",
              "    }\n",
              "\n",
              "    .colab-df-convert {\n",
              "      background-color: #E8F0FE;\n",
              "      border: none;\n",
              "      border-radius: 50%;\n",
              "      cursor: pointer;\n",
              "      display: none;\n",
              "      fill: #1967D2;\n",
              "      height: 32px;\n",
              "      padding: 0 0 0 0;\n",
              "      width: 32px;\n",
              "    }\n",
              "\n",
              "    .colab-df-convert:hover {\n",
              "      background-color: #E2EBFA;\n",
              "      box-shadow: 0px 1px 2px rgba(60, 64, 67, 0.3), 0px 1px 3px 1px rgba(60, 64, 67, 0.15);\n",
              "      fill: #174EA6;\n",
              "    }\n",
              "\n",
              "    [theme=dark] .colab-df-convert {\n",
              "      background-color: #3B4455;\n",
              "      fill: #D2E3FC;\n",
              "    }\n",
              "\n",
              "    [theme=dark] .colab-df-convert:hover {\n",
              "      background-color: #434B5C;\n",
              "      box-shadow: 0px 1px 3px 1px rgba(0, 0, 0, 0.15);\n",
              "      filter: drop-shadow(0px 1px 2px rgba(0, 0, 0, 0.3));\n",
              "      fill: #FFFFFF;\n",
              "    }\n",
              "  </style>\n",
              "\n",
              "      <script>\n",
              "        const buttonEl =\n",
              "          document.querySelector('#df-668f3cb6-6b13-439c-bce8-f5deaed8ca8d button.colab-df-convert');\n",
              "        buttonEl.style.display =\n",
              "          google.colab.kernel.accessAllowed ? 'block' : 'none';\n",
              "\n",
              "        async function convertToInteractive(key) {\n",
              "          const element = document.querySelector('#df-668f3cb6-6b13-439c-bce8-f5deaed8ca8d');\n",
              "          const dataTable =\n",
              "            await google.colab.kernel.invokeFunction('convertToInteractive',\n",
              "                                                     [key], {});\n",
              "          if (!dataTable) return;\n",
              "\n",
              "          const docLinkHtml = 'Like what you see? Visit the ' +\n",
              "            '<a target=\"_blank\" href=https://colab.research.google.com/notebooks/data_table.ipynb>data table notebook</a>'\n",
              "            + ' to learn more about interactive tables.';\n",
              "          element.innerHTML = '';\n",
              "          dataTable['output_type'] = 'display_data';\n",
              "          await google.colab.output.renderOutput(dataTable, element);\n",
              "          const docLink = document.createElement('div');\n",
              "          docLink.innerHTML = docLinkHtml;\n",
              "          element.appendChild(docLink);\n",
              "        }\n",
              "      </script>\n",
              "    </div>\n",
              "  </div>\n",
              "  "
            ]
          },
          "metadata": {},
          "execution_count": 34
        }
      ]
    },
    {
      "cell_type": "markdown",
      "id": "50b4068e",
      "metadata": {
        "id": "50b4068e"
      },
      "source": [
        "<details>\n",
        "<summary>Expected Output</summary>\n",
        "\n",
        "```\n",
        "\tStore\tDept\tWeekly_Sales\tTemperature\tFuel_Price\tMarkDown1\tMarkDown2\tMarkDown3\tMarkDown4\tMarkDown5\tCPI\tUnemployment\tSize\tweek\tmonth\tyear\n",
        "count\t8,195.00\t8,195.00\t8,195.00\t8,195.00\t8,195.00\t2,931.00\t2,424.00\t2,878.00\t2,931.00\t2,931.00\t8,195.00\t8,195.00\t8,195.00\t8,195.00\t8,195.00\t8,195.00\n",
        "mean\t1.00\t44.65\t21,865.28\t68.19\t3.22\t8,045.43\t2,961.55\t1,236.83\t3,683.59\t5,023.69\t216.00\t7.61\t151,315.00\t25.89\t6.47\t2,010.96\n",
        "std\t0.00\t29.95\t27,970.00\t14.16\t0.43\t6,484.49\t8,032.30\t7,830.99\t5,849.69\t3,303.07\t4.33\t0.38\t0.00\t14.19\t3.25\t0.80\n",
        "min\t1.00\t1.00\t-863.00\t35.40\t2.51\t410.31\t0.50\t0.25\t8.00\t554.92\t210.34\t6.57\t151,315.00\t1.00\t1.00\t2,010.00\n",
        "25%\t1.00\t20.00\t3,502.09\t57.79\t2.76\t4,039.39\t40.48\t6.00\t577.14\t3,127.88\t211.57\t7.35\t151,315.00\t14.00\t4.00\t2,010.00\n",
        "50%\t1.00\t38.00\t10,357.32\t69.64\t3.29\t6,154.14\t137.86\t30.23\t1,822.55\t4,325.19\t215.46\t7.79\t151,315.00\t26.00\t6.00\t2,011.00\n",
        "75%\t1.00\t72.00\t31,647.36\t80.48\t3.59\t10,121.97\t1,569.00\t101.64\t3,639.42\t6,222.25\t220.64\t7.84\t151,315.00\t38.00\t9.00\t2,012.00\n",
        "max\t1.00\t99.00\t203,670.47\t91.65\t3.91\t34,577.06\t46,011.38\t55,805.51\t32,403.87\t20,475.32\t223.44\t8.11\t151,315.00\t52.00\t12.00\t2,012.0\n",
        "```\n",
        "</details>"
      ]
    },
    {
      "cell_type": "markdown",
      "id": "fc9561ad",
      "metadata": {
        "id": "fc9561ad"
      },
      "source": [
        "❓ Question 4:\n",
        "\n",
        "Inspect the output, what are some of your observations?"
      ]
    },
    {
      "cell_type": "markdown",
      "id": "b67b7e01",
      "metadata": {
        "id": "b67b7e01"
      },
      "source": [
        "The summary statistics of the train and test datasets are similar. So, from the summary statistics, it seems as though the test and training data sets are fairly equally distributed. "
      ]
    },
    {
      "cell_type": "markdown",
      "id": "52e70f45",
      "metadata": {
        "id": "52e70f45"
      },
      "source": [
        "Are there any missing values? Use `.isna()` and `.sum()` to show the number of missing values from each column."
      ]
    },
    {
      "cell_type": "code",
      "execution_count": 35,
      "id": "b89849ef",
      "metadata": {
        "colab": {
          "base_uri": "https://localhost:8080/",
          "height": 823
        },
        "id": "b89849ef",
        "outputId": "9fe597e7-dad9-4ea8-8852-060419cbd644"
      },
      "outputs": [
        {
          "output_type": "execute_result",
          "data": {
            "text/plain": [
              "       Store   Dept   Date  Weekly_Sales  IsHoliday  Temperature  Fuel_Price  \\\n",
              "0      False  False  False         False      False        False       False   \n",
              "1      False  False  False         False      False        False       False   \n",
              "2      False  False  False         False      False        False       False   \n",
              "3      False  False  False         False      False        False       False   \n",
              "4      False  False  False         False      False        False       False   \n",
              "...      ...    ...    ...           ...        ...          ...         ...   \n",
              "10239  False  False  False         False      False        False       False   \n",
              "10240  False  False  False         False      False        False       False   \n",
              "10241  False  False  False         False      False        False       False   \n",
              "10242  False  False  False         False      False        False       False   \n",
              "10243  False  False  False         False      False        False       False   \n",
              "\n",
              "       MarkDown1  MarkDown2  MarkDown3  MarkDown4  MarkDown5    CPI  \\\n",
              "0           True       True       True       True       True  False   \n",
              "1           True       True       True       True       True  False   \n",
              "2           True       True       True       True       True  False   \n",
              "3           True       True       True       True       True  False   \n",
              "4           True       True       True       True       True  False   \n",
              "...          ...        ...        ...        ...        ...    ...   \n",
              "10239      False      False      False      False      False  False   \n",
              "10240      False      False      False      False      False  False   \n",
              "10241      False      False      False      False      False  False   \n",
              "10242      False       True      False      False      False  False   \n",
              "10243      False       True      False      False      False  False   \n",
              "\n",
              "       Unemployment   Type   Size   week  month   year  \n",
              "0             False  False  False  False  False  False  \n",
              "1             False  False  False  False  False  False  \n",
              "2             False  False  False  False  False  False  \n",
              "3             False  False  False  False  False  False  \n",
              "4             False  False  False  False  False  False  \n",
              "...             ...    ...    ...    ...    ...    ...  \n",
              "10239         False  False  False  False  False  False  \n",
              "10240         False  False  False  False  False  False  \n",
              "10241         False  False  False  False  False  False  \n",
              "10242         False  False  False  False  False  False  \n",
              "10243         False  False  False  False  False  False  \n",
              "\n",
              "[10244 rows x 19 columns]"
            ],
            "text/html": [
              "\n",
              "  <div id=\"df-378ded4b-d849-4449-8e97-d13c430ea3cb\">\n",
              "    <div class=\"colab-df-container\">\n",
              "      <div>\n",
              "<style scoped>\n",
              "    .dataframe tbody tr th:only-of-type {\n",
              "        vertical-align: middle;\n",
              "    }\n",
              "\n",
              "    .dataframe tbody tr th {\n",
              "        vertical-align: top;\n",
              "    }\n",
              "\n",
              "    .dataframe thead th {\n",
              "        text-align: right;\n",
              "    }\n",
              "</style>\n",
              "<table border=\"1\" class=\"dataframe\">\n",
              "  <thead>\n",
              "    <tr style=\"text-align: right;\">\n",
              "      <th></th>\n",
              "      <th>Store</th>\n",
              "      <th>Dept</th>\n",
              "      <th>Date</th>\n",
              "      <th>Weekly_Sales</th>\n",
              "      <th>IsHoliday</th>\n",
              "      <th>Temperature</th>\n",
              "      <th>Fuel_Price</th>\n",
              "      <th>MarkDown1</th>\n",
              "      <th>MarkDown2</th>\n",
              "      <th>MarkDown3</th>\n",
              "      <th>MarkDown4</th>\n",
              "      <th>MarkDown5</th>\n",
              "      <th>CPI</th>\n",
              "      <th>Unemployment</th>\n",
              "      <th>Type</th>\n",
              "      <th>Size</th>\n",
              "      <th>week</th>\n",
              "      <th>month</th>\n",
              "      <th>year</th>\n",
              "    </tr>\n",
              "  </thead>\n",
              "  <tbody>\n",
              "    <tr>\n",
              "      <th>0</th>\n",
              "      <td>False</td>\n",
              "      <td>False</td>\n",
              "      <td>False</td>\n",
              "      <td>False</td>\n",
              "      <td>False</td>\n",
              "      <td>False</td>\n",
              "      <td>False</td>\n",
              "      <td>True</td>\n",
              "      <td>True</td>\n",
              "      <td>True</td>\n",
              "      <td>True</td>\n",
              "      <td>True</td>\n",
              "      <td>False</td>\n",
              "      <td>False</td>\n",
              "      <td>False</td>\n",
              "      <td>False</td>\n",
              "      <td>False</td>\n",
              "      <td>False</td>\n",
              "      <td>False</td>\n",
              "    </tr>\n",
              "    <tr>\n",
              "      <th>1</th>\n",
              "      <td>False</td>\n",
              "      <td>False</td>\n",
              "      <td>False</td>\n",
              "      <td>False</td>\n",
              "      <td>False</td>\n",
              "      <td>False</td>\n",
              "      <td>False</td>\n",
              "      <td>True</td>\n",
              "      <td>True</td>\n",
              "      <td>True</td>\n",
              "      <td>True</td>\n",
              "      <td>True</td>\n",
              "      <td>False</td>\n",
              "      <td>False</td>\n",
              "      <td>False</td>\n",
              "      <td>False</td>\n",
              "      <td>False</td>\n",
              "      <td>False</td>\n",
              "      <td>False</td>\n",
              "    </tr>\n",
              "    <tr>\n",
              "      <th>2</th>\n",
              "      <td>False</td>\n",
              "      <td>False</td>\n",
              "      <td>False</td>\n",
              "      <td>False</td>\n",
              "      <td>False</td>\n",
              "      <td>False</td>\n",
              "      <td>False</td>\n",
              "      <td>True</td>\n",
              "      <td>True</td>\n",
              "      <td>True</td>\n",
              "      <td>True</td>\n",
              "      <td>True</td>\n",
              "      <td>False</td>\n",
              "      <td>False</td>\n",
              "      <td>False</td>\n",
              "      <td>False</td>\n",
              "      <td>False</td>\n",
              "      <td>False</td>\n",
              "      <td>False</td>\n",
              "    </tr>\n",
              "    <tr>\n",
              "      <th>3</th>\n",
              "      <td>False</td>\n",
              "      <td>False</td>\n",
              "      <td>False</td>\n",
              "      <td>False</td>\n",
              "      <td>False</td>\n",
              "      <td>False</td>\n",
              "      <td>False</td>\n",
              "      <td>True</td>\n",
              "      <td>True</td>\n",
              "      <td>True</td>\n",
              "      <td>True</td>\n",
              "      <td>True</td>\n",
              "      <td>False</td>\n",
              "      <td>False</td>\n",
              "      <td>False</td>\n",
              "      <td>False</td>\n",
              "      <td>False</td>\n",
              "      <td>False</td>\n",
              "      <td>False</td>\n",
              "    </tr>\n",
              "    <tr>\n",
              "      <th>4</th>\n",
              "      <td>False</td>\n",
              "      <td>False</td>\n",
              "      <td>False</td>\n",
              "      <td>False</td>\n",
              "      <td>False</td>\n",
              "      <td>False</td>\n",
              "      <td>False</td>\n",
              "      <td>True</td>\n",
              "      <td>True</td>\n",
              "      <td>True</td>\n",
              "      <td>True</td>\n",
              "      <td>True</td>\n",
              "      <td>False</td>\n",
              "      <td>False</td>\n",
              "      <td>False</td>\n",
              "      <td>False</td>\n",
              "      <td>False</td>\n",
              "      <td>False</td>\n",
              "      <td>False</td>\n",
              "    </tr>\n",
              "    <tr>\n",
              "      <th>...</th>\n",
              "      <td>...</td>\n",
              "      <td>...</td>\n",
              "      <td>...</td>\n",
              "      <td>...</td>\n",
              "      <td>...</td>\n",
              "      <td>...</td>\n",
              "      <td>...</td>\n",
              "      <td>...</td>\n",
              "      <td>...</td>\n",
              "      <td>...</td>\n",
              "      <td>...</td>\n",
              "      <td>...</td>\n",
              "      <td>...</td>\n",
              "      <td>...</td>\n",
              "      <td>...</td>\n",
              "      <td>...</td>\n",
              "      <td>...</td>\n",
              "      <td>...</td>\n",
              "      <td>...</td>\n",
              "    </tr>\n",
              "    <tr>\n",
              "      <th>10239</th>\n",
              "      <td>False</td>\n",
              "      <td>False</td>\n",
              "      <td>False</td>\n",
              "      <td>False</td>\n",
              "      <td>False</td>\n",
              "      <td>False</td>\n",
              "      <td>False</td>\n",
              "      <td>False</td>\n",
              "      <td>False</td>\n",
              "      <td>False</td>\n",
              "      <td>False</td>\n",
              "      <td>False</td>\n",
              "      <td>False</td>\n",
              "      <td>False</td>\n",
              "      <td>False</td>\n",
              "      <td>False</td>\n",
              "      <td>False</td>\n",
              "      <td>False</td>\n",
              "      <td>False</td>\n",
              "    </tr>\n",
              "    <tr>\n",
              "      <th>10240</th>\n",
              "      <td>False</td>\n",
              "      <td>False</td>\n",
              "      <td>False</td>\n",
              "      <td>False</td>\n",
              "      <td>False</td>\n",
              "      <td>False</td>\n",
              "      <td>False</td>\n",
              "      <td>False</td>\n",
              "      <td>False</td>\n",
              "      <td>False</td>\n",
              "      <td>False</td>\n",
              "      <td>False</td>\n",
              "      <td>False</td>\n",
              "      <td>False</td>\n",
              "      <td>False</td>\n",
              "      <td>False</td>\n",
              "      <td>False</td>\n",
              "      <td>False</td>\n",
              "      <td>False</td>\n",
              "    </tr>\n",
              "    <tr>\n",
              "      <th>10241</th>\n",
              "      <td>False</td>\n",
              "      <td>False</td>\n",
              "      <td>False</td>\n",
              "      <td>False</td>\n",
              "      <td>False</td>\n",
              "      <td>False</td>\n",
              "      <td>False</td>\n",
              "      <td>False</td>\n",
              "      <td>False</td>\n",
              "      <td>False</td>\n",
              "      <td>False</td>\n",
              "      <td>False</td>\n",
              "      <td>False</td>\n",
              "      <td>False</td>\n",
              "      <td>False</td>\n",
              "      <td>False</td>\n",
              "      <td>False</td>\n",
              "      <td>False</td>\n",
              "      <td>False</td>\n",
              "    </tr>\n",
              "    <tr>\n",
              "      <th>10242</th>\n",
              "      <td>False</td>\n",
              "      <td>False</td>\n",
              "      <td>False</td>\n",
              "      <td>False</td>\n",
              "      <td>False</td>\n",
              "      <td>False</td>\n",
              "      <td>False</td>\n",
              "      <td>False</td>\n",
              "      <td>True</td>\n",
              "      <td>False</td>\n",
              "      <td>False</td>\n",
              "      <td>False</td>\n",
              "      <td>False</td>\n",
              "      <td>False</td>\n",
              "      <td>False</td>\n",
              "      <td>False</td>\n",
              "      <td>False</td>\n",
              "      <td>False</td>\n",
              "      <td>False</td>\n",
              "    </tr>\n",
              "    <tr>\n",
              "      <th>10243</th>\n",
              "      <td>False</td>\n",
              "      <td>False</td>\n",
              "      <td>False</td>\n",
              "      <td>False</td>\n",
              "      <td>False</td>\n",
              "      <td>False</td>\n",
              "      <td>False</td>\n",
              "      <td>False</td>\n",
              "      <td>True</td>\n",
              "      <td>False</td>\n",
              "      <td>False</td>\n",
              "      <td>False</td>\n",
              "      <td>False</td>\n",
              "      <td>False</td>\n",
              "      <td>False</td>\n",
              "      <td>False</td>\n",
              "      <td>False</td>\n",
              "      <td>False</td>\n",
              "      <td>False</td>\n",
              "    </tr>\n",
              "  </tbody>\n",
              "</table>\n",
              "<p>10244 rows × 19 columns</p>\n",
              "</div>\n",
              "      <button class=\"colab-df-convert\" onclick=\"convertToInteractive('df-378ded4b-d849-4449-8e97-d13c430ea3cb')\"\n",
              "              title=\"Convert this dataframe to an interactive table.\"\n",
              "              style=\"display:none;\">\n",
              "        \n",
              "  <svg xmlns=\"http://www.w3.org/2000/svg\" height=\"24px\"viewBox=\"0 0 24 24\"\n",
              "       width=\"24px\">\n",
              "    <path d=\"M0 0h24v24H0V0z\" fill=\"none\"/>\n",
              "    <path d=\"M18.56 5.44l.94 2.06.94-2.06 2.06-.94-2.06-.94-.94-2.06-.94 2.06-2.06.94zm-11 1L8.5 8.5l.94-2.06 2.06-.94-2.06-.94L8.5 2.5l-.94 2.06-2.06.94zm10 10l.94 2.06.94-2.06 2.06-.94-2.06-.94-.94-2.06-.94 2.06-2.06.94z\"/><path d=\"M17.41 7.96l-1.37-1.37c-.4-.4-.92-.59-1.43-.59-.52 0-1.04.2-1.43.59L10.3 9.45l-7.72 7.72c-.78.78-.78 2.05 0 2.83L4 21.41c.39.39.9.59 1.41.59.51 0 1.02-.2 1.41-.59l7.78-7.78 2.81-2.81c.8-.78.8-2.07 0-2.86zM5.41 20L4 18.59l7.72-7.72 1.47 1.35L5.41 20z\"/>\n",
              "  </svg>\n",
              "      </button>\n",
              "      \n",
              "  <style>\n",
              "    .colab-df-container {\n",
              "      display:flex;\n",
              "      flex-wrap:wrap;\n",
              "      gap: 12px;\n",
              "    }\n",
              "\n",
              "    .colab-df-convert {\n",
              "      background-color: #E8F0FE;\n",
              "      border: none;\n",
              "      border-radius: 50%;\n",
              "      cursor: pointer;\n",
              "      display: none;\n",
              "      fill: #1967D2;\n",
              "      height: 32px;\n",
              "      padding: 0 0 0 0;\n",
              "      width: 32px;\n",
              "    }\n",
              "\n",
              "    .colab-df-convert:hover {\n",
              "      background-color: #E2EBFA;\n",
              "      box-shadow: 0px 1px 2px rgba(60, 64, 67, 0.3), 0px 1px 3px 1px rgba(60, 64, 67, 0.15);\n",
              "      fill: #174EA6;\n",
              "    }\n",
              "\n",
              "    [theme=dark] .colab-df-convert {\n",
              "      background-color: #3B4455;\n",
              "      fill: #D2E3FC;\n",
              "    }\n",
              "\n",
              "    [theme=dark] .colab-df-convert:hover {\n",
              "      background-color: #434B5C;\n",
              "      box-shadow: 0px 1px 3px 1px rgba(0, 0, 0, 0.15);\n",
              "      filter: drop-shadow(0px 1px 2px rgba(0, 0, 0, 0.3));\n",
              "      fill: #FFFFFF;\n",
              "    }\n",
              "  </style>\n",
              "\n",
              "      <script>\n",
              "        const buttonEl =\n",
              "          document.querySelector('#df-378ded4b-d849-4449-8e97-d13c430ea3cb button.colab-df-convert');\n",
              "        buttonEl.style.display =\n",
              "          google.colab.kernel.accessAllowed ? 'block' : 'none';\n",
              "\n",
              "        async function convertToInteractive(key) {\n",
              "          const element = document.querySelector('#df-378ded4b-d849-4449-8e97-d13c430ea3cb');\n",
              "          const dataTable =\n",
              "            await google.colab.kernel.invokeFunction('convertToInteractive',\n",
              "                                                     [key], {});\n",
              "          if (!dataTable) return;\n",
              "\n",
              "          const docLinkHtml = 'Like what you see? Visit the ' +\n",
              "            '<a target=\"_blank\" href=https://colab.research.google.com/notebooks/data_table.ipynb>data table notebook</a>'\n",
              "            + ' to learn more about interactive tables.';\n",
              "          element.innerHTML = '';\n",
              "          dataTable['output_type'] = 'display_data';\n",
              "          await google.colab.output.renderOutput(dataTable, element);\n",
              "          const docLink = document.createElement('div');\n",
              "          docLink.innerHTML = docLinkHtml;\n",
              "          element.appendChild(docLink);\n",
              "        }\n",
              "      </script>\n",
              "    </div>\n",
              "  </div>\n",
              "  "
            ]
          },
          "metadata": {},
          "execution_count": 35
        },
        {
          "output_type": "execute_result",
          "data": {
            "text/plain": [
              "Store              0\n",
              "Dept               0\n",
              "Date               0\n",
              "Weekly_Sales       0\n",
              "IsHoliday          0\n",
              "Temperature        0\n",
              "Fuel_Price         0\n",
              "MarkDown1       6587\n",
              "MarkDown2       7229\n",
              "MarkDown3       6656\n",
              "MarkDown4       6587\n",
              "MarkDown5       6587\n",
              "CPI                0\n",
              "Unemployment       0\n",
              "Type               0\n",
              "Size               0\n",
              "week               0\n",
              "month              0\n",
              "year               0\n",
              "dtype: int64"
            ]
          },
          "metadata": {},
          "execution_count": 35
        }
      ],
      "source": [
        "df.isna()\n",
        "df.isna().sum()"
      ]
    },
    {
      "cell_type": "markdown",
      "id": "d5806930",
      "metadata": {
        "id": "d5806930"
      },
      "source": [
        "<details>\n",
        "<summary>Expected Output</summary>\n",
        "\n",
        "```\n",
        "Store              0\n",
        "Dept               0\n",
        "Date               0\n",
        "Weekly_Sales       0\n",
        "IsHoliday          0\n",
        "Temperature        0\n",
        "Fuel_Price         0\n",
        "MarkDown1       5264\n",
        "MarkDown2       5771\n",
        "MarkDown3       5317\n",
        "MarkDown4       5264\n",
        "MarkDown5       5264\n",
        "CPI                0\n",
        "Unemployment       0\n",
        "Type               0\n",
        "Size               0\n",
        "week               0\n",
        "month              0\n",
        "year               0\n",
        "dtype: int64\n",
        "```\n",
        "</details>"
      ]
    },
    {
      "cell_type": "markdown",
      "id": "226d2c82",
      "metadata": {
        "id": "226d2c82"
      },
      "source": [
        "What do you think the target variable is in this problem? Assign the column name to `target` for later use."
      ]
    },
    {
      "cell_type": "code",
      "execution_count": 36,
      "id": "632db34e",
      "metadata": {
        "id": "632db34e"
      },
      "outputs": [],
      "source": [
        "target = df['Weekly_Sales']"
      ]
    },
    {
      "cell_type": "code",
      "source": [
        "target.head(5)"
      ],
      "metadata": {
        "colab": {
          "base_uri": "https://localhost:8080/"
        },
        "id": "eJ9YheyTkiTT",
        "outputId": "c5bb8a87-2c63-4fc0-f896-778a7da3cba7"
      },
      "id": "eJ9YheyTkiTT",
      "execution_count": 37,
      "outputs": [
        {
          "output_type": "execute_result",
          "data": {
            "text/plain": [
              "0   24,924.50\n",
              "1   46,039.49\n",
              "2   41,595.55\n",
              "3   19,403.54\n",
              "4   21,827.90\n",
              "Name: Weekly_Sales, dtype: float64"
            ]
          },
          "metadata": {},
          "execution_count": 37
        }
      ]
    },
    {
      "cell_type": "code",
      "source": [
        "target.sample(3)"
      ],
      "metadata": {
        "colab": {
          "base_uri": "https://localhost:8080/"
        },
        "id": "_kD8E7gIkh8O",
        "outputId": "e6bd51c5-0a74-41ac-8ec9-27059d72912d"
      },
      "id": "_kD8E7gIkh8O",
      "execution_count": 38,
      "outputs": [
        {
          "output_type": "execute_result",
          "data": {
            "text/plain": [
              "3757      411.94\n",
              "3995    4,124.82\n",
              "7649   72,377.79\n",
              "Name: Weekly_Sales, dtype: float64"
            ]
          },
          "metadata": {},
          "execution_count": 38
        }
      ]
    },
    {
      "cell_type": "code",
      "source": [
        "target.tail(5)"
      ],
      "metadata": {
        "colab": {
          "base_uri": "https://localhost:8080/"
        },
        "id": "jAk2yH4hjkyq",
        "outputId": "b7b4ee3d-d3d2-4a9b-e2cc-1e3e5032903b"
      },
      "id": "jAk2yH4hjkyq",
      "execution_count": 39,
      "outputs": [
        {
          "output_type": "execute_result",
          "data": {
            "text/plain": [
              "10239    20.06\n",
              "10240     0.05\n",
              "10241     0.03\n",
              "10242   635.00\n",
              "10243    80.00\n",
              "Name: Weekly_Sales, dtype: float64"
            ]
          },
          "metadata": {},
          "execution_count": 39
        }
      ]
    },
    {
      "cell_type": "code",
      "source": [
        "target.describe()"
      ],
      "metadata": {
        "colab": {
          "base_uri": "https://localhost:8080/"
        },
        "id": "jTJsX1gRk2_E",
        "outputId": "33b91d46-f8ba-4f34-b200-df79831aeae1"
      },
      "id": "jTJsX1gRk2_E",
      "execution_count": 40,
      "outputs": [
        {
          "output_type": "execute_result",
          "data": {
            "text/plain": [
              "count    10,244.00\n",
              "mean     21,710.54\n",
              "std      27,748.95\n",
              "min        -863.00\n",
              "25%       3,465.62\n",
              "50%      10,289.38\n",
              "75%      31,452.96\n",
              "max     203,670.47\n",
              "Name: Weekly_Sales, dtype: float64"
            ]
          },
          "metadata": {},
          "execution_count": 40
        }
      ]
    },
    {
      "cell_type": "markdown",
      "id": "89c325e9",
      "metadata": {
        "id": "89c325e9"
      },
      "source": [
        "Visualize the distribution of target variable using `distplot()` from library `seaborn` ( Why seaborn? Check out a comparison between Matplotlib and Seaborn [here](https://analyticsindiamag.com/comparing-python-data-visualization-tools-matplotlib-vs-seaborn/) ). Anything here you observe but the output from `.describe` does not make obvious? Does it follow a normal distribution?"
      ]
    },
    {
      "cell_type": "code",
      "execution_count": 41,
      "id": "3bfdecf1",
      "metadata": {
        "colab": {
          "base_uri": "https://localhost:8080/",
          "height": 291
        },
        "id": "3bfdecf1",
        "outputId": "910fc295-0c4c-44ab-aa94-00fefeadb92f"
      },
      "outputs": [
        {
          "output_type": "display_data",
          "data": {
            "text/plain": [
              "<Figure size 432x288 with 1 Axes>"
            ],
            "image/png": "[encoded data removed]"
          },
          "metadata": {
            "needs_background": "light"
          }
        }
      ],
      "source": [
        "import seaborn as sns\n",
        "sns.distplot(target,bins=100);"
      ]
    },
    {
      "cell_type": "code",
      "source": [],
      "metadata": {
        "id": "UC4Z4X4hlGmD"
      },
      "id": "UC4Z4X4hlGmD",
      "execution_count": 41,
      "outputs": []
    },
    {
      "cell_type": "markdown",
      "id": "af6bb611",
      "metadata": {
        "id": "af6bb611"
      },
      "source": [
        "Notice that there exists nonpositive weekly sales. How many of rows are there that the weekly sales are negative or 0?"
      ]
    },
    {
      "cell_type": "code",
      "source": [
        "non_pos_weekly_sales = df[target <= 0] # Expected Output: 13"
      ],
      "metadata": {
        "id": "Bt1r3lREsL_y"
      },
      "id": "Bt1r3lREsL_y",
      "execution_count": 42,
      "outputs": []
    },
    {
      "cell_type": "code",
      "source": [
        "(df_test[target <= 0]).describe()"
      ],
      "metadata": {
        "colab": {
          "base_uri": "https://localhost:8080/",
          "height": 361
        },
        "id": "HpFsMVlStArS",
        "outputId": "94101afc-e8be-44e3-f548-b4b41eb34df4"
      },
      "id": "HpFsMVlStArS",
      "execution_count": 43,
      "outputs": [
        {
          "output_type": "execute_result",
          "data": {
            "text/plain": [
              "       Store  Dept  Weekly_Sales  Temperature  Fuel_Price  MarkDown1  \\\n",
              "count   7.00  7.00          7.00         7.00        7.00       4.00   \n",
              "mean    1.00 39.14       -212.85        60.49        3.43  12,179.56   \n",
              "std     0.00 19.10        299.67        17.48        0.50   6,470.69   \n",
              "min     1.00  6.00       -863.00        39.93        2.51   6,118.56   \n",
              "25%     1.00 32.50       -210.50        44.68        3.25   8,934.64   \n",
              "50%     1.00 47.00       -139.65        65.93        3.51  10,654.77   \n",
              "75%     1.00 51.00        -32.50        71.59        3.77  13,899.70   \n",
              "max     1.00 54.00         -1.27        85.05        3.91  21,290.13   \n",
              "\n",
              "       MarkDown2  MarkDown3  MarkDown4  MarkDown5    CPI  Unemployment  \\\n",
              "count       3.00       4.00       4.00       4.00   7.00          7.00   \n",
              "mean    3,772.25      22.88   5,194.41   3,789.28 217.74          7.47   \n",
              "std     6,314.44      31.40   3,475.91     716.95   4.72          0.40   \n",
              "min         9.48       4.97     426.72   3,261.04 211.29          6.91   \n",
              "25%       127.24       6.38   3,839.69   3,367.26 213.78          7.25   \n",
              "50%       245.00       8.32   5,970.81   3,529.94 220.43          7.35   \n",
              "75%     5,653.64      24.82   7,325.52   3,951.97 221.48          7.71   \n",
              "max    11,062.27      69.89   8,409.31   4,836.22 221.96          8.11   \n",
              "\n",
              "            Size  week  month     year  \n",
              "count       7.00  7.00   7.00     7.00  \n",
              "mean  151,315.00 14.14   3.71 2,011.43  \n",
              "std         0.00  9.99   2.43     0.79  \n",
              "min   151,315.00  3.00   1.00 2,010.00  \n",
              "25%   151,315.00  7.00   2.00 2,011.00  \n",
              "50%   151,315.00 12.00   3.00 2,012.00  \n",
              "75%   151,315.00 19.00   5.00 2,012.00  \n",
              "max   151,315.00 32.00   8.00 2,012.00  "
            ],
            "text/html": [
              "\n",
              "  <div id=\"df-41944878-de47-405a-bb7b-37459c502263\">\n",
              "    <div class=\"colab-df-container\">\n",
              "      <div>\n",
              "<style scoped>\n",
              "    .dataframe tbody tr th:only-of-type {\n",
              "        vertical-align: middle;\n",
              "    }\n",
              "\n",
              "    .dataframe tbody tr th {\n",
              "        vertical-align: top;\n",
              "    }\n",
              "\n",
              "    .dataframe thead th {\n",
              "        text-align: right;\n",
              "    }\n",
              "</style>\n",
              "<table border=\"1\" class=\"dataframe\">\n",
              "  <thead>\n",
              "    <tr style=\"text-align: right;\">\n",
              "      <th></th>\n",
              "      <th>Store</th>\n",
              "      <th>Dept</th>\n",
              "      <th>Weekly_Sales</th>\n",
              "      <th>Temperature</th>\n",
              "      <th>Fuel_Price</th>\n",
              "      <th>MarkDown1</th>\n",
              "      <th>MarkDown2</th>\n",
              "      <th>MarkDown3</th>\n",
              "      <th>MarkDown4</th>\n",
              "      <th>MarkDown5</th>\n",
              "      <th>CPI</th>\n",
              "      <th>Unemployment</th>\n",
              "      <th>Size</th>\n",
              "      <th>week</th>\n",
              "      <th>month</th>\n",
              "      <th>year</th>\n",
              "    </tr>\n",
              "  </thead>\n",
              "  <tbody>\n",
              "    <tr>\n",
              "      <th>count</th>\n",
              "      <td>7.00</td>\n",
              "      <td>7.00</td>\n",
              "      <td>7.00</td>\n",
              "      <td>7.00</td>\n",
              "      <td>7.00</td>\n",
              "      <td>4.00</td>\n",
              "      <td>3.00</td>\n",
              "      <td>4.00</td>\n",
              "      <td>4.00</td>\n",
              "      <td>4.00</td>\n",
              "      <td>7.00</td>\n",
              "      <td>7.00</td>\n",
              "      <td>7.00</td>\n",
              "      <td>7.00</td>\n",
              "      <td>7.00</td>\n",
              "      <td>7.00</td>\n",
              "    </tr>\n",
              "    <tr>\n",
              "      <th>mean</th>\n",
              "      <td>1.00</td>\n",
              "      <td>39.14</td>\n",
              "      <td>-212.85</td>\n",
              "      <td>60.49</td>\n",
              "      <td>3.43</td>\n",
              "      <td>12,179.56</td>\n",
              "      <td>3,772.25</td>\n",
              "      <td>22.88</td>\n",
              "      <td>5,194.41</td>\n",
              "      <td>3,789.28</td>\n",
              "      <td>217.74</td>\n",
              "      <td>7.47</td>\n",
              "      <td>151,315.00</td>\n",
              "      <td>14.14</td>\n",
              "      <td>3.71</td>\n",
              "      <td>2,011.43</td>\n",
              "    </tr>\n",
              "    <tr>\n",
              "      <th>std</th>\n",
              "      <td>0.00</td>\n",
              "      <td>19.10</td>\n",
              "      <td>299.67</td>\n",
              "      <td>17.48</td>\n",
              "      <td>0.50</td>\n",
              "      <td>6,470.69</td>\n",
              "      <td>6,314.44</td>\n",
              "      <td>31.40</td>\n",
              "      <td>3,475.91</td>\n",
              "      <td>716.95</td>\n",
              "      <td>4.72</td>\n",
              "      <td>0.40</td>\n",
              "      <td>0.00</td>\n",
              "      <td>9.99</td>\n",
              "      <td>2.43</td>\n",
              "      <td>0.79</td>\n",
              "    </tr>\n",
              "    <tr>\n",
              "      <th>min</th>\n",
              "      <td>1.00</td>\n",
              "      <td>6.00</td>\n",
              "      <td>-863.00</td>\n",
              "      <td>39.93</td>\n",
              "      <td>2.51</td>\n",
              "      <td>6,118.56</td>\n",
              "      <td>9.48</td>\n",
              "      <td>4.97</td>\n",
              "      <td>426.72</td>\n",
              "      <td>3,261.04</td>\n",
              "      <td>211.29</td>\n",
              "      <td>6.91</td>\n",
              "      <td>151,315.00</td>\n",
              "      <td>3.00</td>\n",
              "      <td>1.00</td>\n",
              "      <td>2,010.00</td>\n",
              "    </tr>\n",
              "    <tr>\n",
              "      <th>25%</th>\n",
              "      <td>1.00</td>\n",
              "      <td>32.50</td>\n",
              "      <td>-210.50</td>\n",
              "      <td>44.68</td>\n",
              "      <td>3.25</td>\n",
              "      <td>8,934.64</td>\n",
              "      <td>127.24</td>\n",
              "      <td>6.38</td>\n",
              "      <td>3,839.69</td>\n",
              "      <td>3,367.26</td>\n",
              "      <td>213.78</td>\n",
              "      <td>7.25</td>\n",
              "      <td>151,315.00</td>\n",
              "      <td>7.00</td>\n",
              "      <td>2.00</td>\n",
              "      <td>2,011.00</td>\n",
              "    </tr>\n",
              "    <tr>\n",
              "      <th>50%</th>\n",
              "      <td>1.00</td>\n",
              "      <td>47.00</td>\n",
              "      <td>-139.65</td>\n",
              "      <td>65.93</td>\n",
              "      <td>3.51</td>\n",
              "      <td>10,654.77</td>\n",
              "      <td>245.00</td>\n",
              "      <td>8.32</td>\n",
              "      <td>5,970.81</td>\n",
              "      <td>3,529.94</td>\n",
              "      <td>220.43</td>\n",
              "      <td>7.35</td>\n",
              "      <td>151,315.00</td>\n",
              "      <td>12.00</td>\n",
              "      <td>3.00</td>\n",
              "      <td>2,012.00</td>\n",
              "    </tr>\n",
              "    <tr>\n",
              "      <th>75%</th>\n",
              "      <td>1.00</td>\n",
              "      <td>51.00</td>\n",
              "      <td>-32.50</td>\n",
              "      <td>71.59</td>\n",
              "      <td>3.77</td>\n",
              "      <td>13,899.70</td>\n",
              "      <td>5,653.64</td>\n",
              "      <td>24.82</td>\n",
              "      <td>7,325.52</td>\n",
              "      <td>3,951.97</td>\n",
              "      <td>221.48</td>\n",
              "      <td>7.71</td>\n",
              "      <td>151,315.00</td>\n",
              "      <td>19.00</td>\n",
              "      <td>5.00</td>\n",
              "      <td>2,012.00</td>\n",
              "    </tr>\n",
              "    <tr>\n",
              "      <th>max</th>\n",
              "      <td>1.00</td>\n",
              "      <td>54.00</td>\n",
              "      <td>-1.27</td>\n",
              "      <td>85.05</td>\n",
              "      <td>3.91</td>\n",
              "      <td>21,290.13</td>\n",
              "      <td>11,062.27</td>\n",
              "      <td>69.89</td>\n",
              "      <td>8,409.31</td>\n",
              "      <td>4,836.22</td>\n",
              "      <td>221.96</td>\n",
              "      <td>8.11</td>\n",
              "      <td>151,315.00</td>\n",
              "      <td>32.00</td>\n",
              "      <td>8.00</td>\n",
              "      <td>2,012.00</td>\n",
              "    </tr>\n",
              "  </tbody>\n",
              "</table>\n",
              "</div>\n",
              "      <button class=\"colab-df-convert\" onclick=\"convertToInteractive('df-41944878-de47-405a-bb7b-37459c502263')\"\n",
              "              title=\"Convert this dataframe to an interactive table.\"\n",
              "              style=\"display:none;\">\n",
              "        \n",
              "  <svg xmlns=\"http://www.w3.org/2000/svg\" height=\"24px\"viewBox=\"0 0 24 24\"\n",
              "       width=\"24px\">\n",
              "    <path d=\"M0 0h24v24H0V0z\" fill=\"none\"/>\n",
              "    <path d=\"M18.56 5.44l.94 2.06.94-2.06 2.06-.94-2.06-.94-.94-2.06-.94 2.06-2.06.94zm-11 1L8.5 8.5l.94-2.06 2.06-.94-2.06-.94L8.5 2.5l-.94 2.06-2.06.94zm10 10l.94 2.06.94-2.06 2.06-.94-2.06-.94-.94-2.06-.94 2.06-2.06.94z\"/><path d=\"M17.41 7.96l-1.37-1.37c-.4-.4-.92-.59-1.43-.59-.52 0-1.04.2-1.43.59L10.3 9.45l-7.72 7.72c-.78.78-.78 2.05 0 2.83L4 21.41c.39.39.9.59 1.41.59.51 0 1.02-.2 1.41-.59l7.78-7.78 2.81-2.81c.8-.78.8-2.07 0-2.86zM5.41 20L4 18.59l7.72-7.72 1.47 1.35L5.41 20z\"/>\n",
              "  </svg>\n",
              "      </button>\n",
              "      \n",
              "  <style>\n",
              "    .colab-df-container {\n",
              "      display:flex;\n",
              "      flex-wrap:wrap;\n",
              "      gap: 12px;\n",
              "    }\n",
              "\n",
              "    .colab-df-convert {\n",
              "      background-color: #E8F0FE;\n",
              "      border: none;\n",
              "      border-radius: 50%;\n",
              "      cursor: pointer;\n",
              "      display: none;\n",
              "      fill: #1967D2;\n",
              "      height: 32px;\n",
              "      padding: 0 0 0 0;\n",
              "      width: 32px;\n",
              "    }\n",
              "\n",
              "    .colab-df-convert:hover {\n",
              "      background-color: #E2EBFA;\n",
              "      box-shadow: 0px 1px 2px rgba(60, 64, 67, 0.3), 0px 1px 3px 1px rgba(60, 64, 67, 0.15);\n",
              "      fill: #174EA6;\n",
              "    }\n",
              "\n",
              "    [theme=dark] .colab-df-convert {\n",
              "      background-color: #3B4455;\n",
              "      fill: #D2E3FC;\n",
              "    }\n",
              "\n",
              "    [theme=dark] .colab-df-convert:hover {\n",
              "      background-color: #434B5C;\n",
              "      box-shadow: 0px 1px 3px 1px rgba(0, 0, 0, 0.15);\n",
              "      filter: drop-shadow(0px 1px 2px rgba(0, 0, 0, 0.3));\n",
              "      fill: #FFFFFF;\n",
              "    }\n",
              "  </style>\n",
              "\n",
              "      <script>\n",
              "        const buttonEl =\n",
              "          document.querySelector('#df-41944878-de47-405a-bb7b-37459c502263 button.colab-df-convert');\n",
              "        buttonEl.style.display =\n",
              "          google.colab.kernel.accessAllowed ? 'block' : 'none';\n",
              "\n",
              "        async function convertToInteractive(key) {\n",
              "          const element = document.querySelector('#df-41944878-de47-405a-bb7b-37459c502263');\n",
              "          const dataTable =\n",
              "            await google.colab.kernel.invokeFunction('convertToInteractive',\n",
              "                                                     [key], {});\n",
              "          if (!dataTable) return;\n",
              "\n",
              "          const docLinkHtml = 'Like what you see? Visit the ' +\n",
              "            '<a target=\"_blank\" href=https://colab.research.google.com/notebooks/data_table.ipynb>data table notebook</a>'\n",
              "            + ' to learn more about interactive tables.';\n",
              "          element.innerHTML = '';\n",
              "          dataTable['output_type'] = 'display_data';\n",
              "          await google.colab.output.renderOutput(dataTable, element);\n",
              "          const docLink = document.createElement('div');\n",
              "          docLink.innerHTML = docLinkHtml;\n",
              "          element.appendChild(docLink);\n",
              "        }\n",
              "      </script>\n",
              "    </div>\n",
              "  </div>\n",
              "  "
            ]
          },
          "metadata": {},
          "execution_count": 43
        }
      ]
    },
    {
      "cell_type": "code",
      "source": [
        "df_train[target <= 0].describe()"
      ],
      "metadata": {
        "colab": {
          "base_uri": "https://localhost:8080/",
          "height": 361
        },
        "id": "hOnuMPhKsitc",
        "outputId": "2b54a988-0b04-4448-de04-234b959bac67"
      },
      "id": "hOnuMPhKsitc",
      "execution_count": 44,
      "outputs": [
        {
          "output_type": "execute_result",
          "data": {
            "text/plain": [
              "       Store  Dept  Weekly_Sales  Temperature  Fuel_Price  MarkDown1  \\\n",
              "count  11.00 11.00         11.00        11.00       11.00       3.00   \n",
              "mean    1.00 47.64       -224.36        68.44        3.35   5,784.85   \n",
              "std     0.00  2.11        245.13        14.68        0.39   4,014.88   \n",
              "min     1.00 47.00       -698.00        47.96        2.63   2,725.36   \n",
              "25%     1.00 47.00       -398.00        58.27        3.19   3,511.76   \n",
              "50%     1.00 47.00       -198.00        64.74        3.48   4,298.16   \n",
              "75%     1.00 47.00        -10.50        78.78        3.63   7,314.60   \n",
              "max     1.00 54.00          0.00        90.76        3.73  10,331.04   \n",
              "\n",
              "       MarkDown2  MarkDown3  MarkDown4  MarkDown5    CPI  Unemployment  \\\n",
              "count       3.00       3.00       3.00       3.00  11.00         11.00   \n",
              "mean       66.62     214.24   1,140.33   3,422.32 216.17          7.79   \n",
              "std        75.66     364.13   1,409.63   1,843.51   3.32          0.25   \n",
              "min         7.50       2.02      24.90   2,017.69 211.38          7.35   \n",
              "25%        23.99       4.01     348.16   2,378.56 214.59          7.71   \n",
              "50%        40.48       6.00     671.43   2,739.43 215.61          7.87   \n",
              "75%        96.18     320.35   1,698.04   4,124.64 218.36          7.96   \n",
              "max       151.88     634.70   2,724.65   5,509.84 221.21          8.11   \n",
              "\n",
              "            Size  week  month     year  \n",
              "count      11.00 11.00  11.00    11.00  \n",
              "mean  151,315.00 25.36   6.45 2,011.00  \n",
              "std         0.00 15.05   3.39     0.63  \n",
              "min   151,315.00 10.00   3.00 2,010.00  \n",
              "25%   151,315.00 10.50   3.00 2,011.00  \n",
              "50%   151,315.00 27.00   7.00 2,011.00  \n",
              "75%   151,315.00 36.50   9.00 2,011.00  \n",
              "max   151,315.00 51.00  12.00 2,012.00  "
            ],
            "text/html": [
              "\n",
              "  <div id=\"df-ce62e5c3-bbf9-42f2-ad6a-527f7ace6424\">\n",
              "    <div class=\"colab-df-container\">\n",
              "      <div>\n",
              "<style scoped>\n",
              "    .dataframe tbody tr th:only-of-type {\n",
              "        vertical-align: middle;\n",
              "    }\n",
              "\n",
              "    .dataframe tbody tr th {\n",
              "        vertical-align: top;\n",
              "    }\n",
              "\n",
              "    .dataframe thead th {\n",
              "        text-align: right;\n",
              "    }\n",
              "</style>\n",
              "<table border=\"1\" class=\"dataframe\">\n",
              "  <thead>\n",
              "    <tr style=\"text-align: right;\">\n",
              "      <th></th>\n",
              "      <th>Store</th>\n",
              "      <th>Dept</th>\n",
              "      <th>Weekly_Sales</th>\n",
              "      <th>Temperature</th>\n",
              "      <th>Fuel_Price</th>\n",
              "      <th>MarkDown1</th>\n",
              "      <th>MarkDown2</th>\n",
              "      <th>MarkDown3</th>\n",
              "      <th>MarkDown4</th>\n",
              "      <th>MarkDown5</th>\n",
              "      <th>CPI</th>\n",
              "      <th>Unemployment</th>\n",
              "      <th>Size</th>\n",
              "      <th>week</th>\n",
              "      <th>month</th>\n",
              "      <th>year</th>\n",
              "    </tr>\n",
              "  </thead>\n",
              "  <tbody>\n",
              "    <tr>\n",
              "      <th>count</th>\n",
              "      <td>11.00</td>\n",
              "      <td>11.00</td>\n",
              "      <td>11.00</td>\n",
              "      <td>11.00</td>\n",
              "      <td>11.00</td>\n",
              "      <td>3.00</td>\n",
              "      <td>3.00</td>\n",
              "      <td>3.00</td>\n",
              "      <td>3.00</td>\n",
              "      <td>3.00</td>\n",
              "      <td>11.00</td>\n",
              "      <td>11.00</td>\n",
              "      <td>11.00</td>\n",
              "      <td>11.00</td>\n",
              "      <td>11.00</td>\n",
              "      <td>11.00</td>\n",
              "    </tr>\n",
              "    <tr>\n",
              "      <th>mean</th>\n",
              "      <td>1.00</td>\n",
              "      <td>47.64</td>\n",
              "      <td>-224.36</td>\n",
              "      <td>68.44</td>\n",
              "      <td>3.35</td>\n",
              "      <td>5,784.85</td>\n",
              "      <td>66.62</td>\n",
              "      <td>214.24</td>\n",
              "      <td>1,140.33</td>\n",
              "      <td>3,422.32</td>\n",
              "      <td>216.17</td>\n",
              "      <td>7.79</td>\n",
              "      <td>151,315.00</td>\n",
              "      <td>25.36</td>\n",
              "      <td>6.45</td>\n",
              "      <td>2,011.00</td>\n",
              "    </tr>\n",
              "    <tr>\n",
              "      <th>std</th>\n",
              "      <td>0.00</td>\n",
              "      <td>2.11</td>\n",
              "      <td>245.13</td>\n",
              "      <td>14.68</td>\n",
              "      <td>0.39</td>\n",
              "      <td>4,014.88</td>\n",
              "      <td>75.66</td>\n",
              "      <td>364.13</td>\n",
              "      <td>1,409.63</td>\n",
              "      <td>1,843.51</td>\n",
              "      <td>3.32</td>\n",
              "      <td>0.25</td>\n",
              "      <td>0.00</td>\n",
              "      <td>15.05</td>\n",
              "      <td>3.39</td>\n",
              "      <td>0.63</td>\n",
              "    </tr>\n",
              "    <tr>\n",
              "      <th>min</th>\n",
              "      <td>1.00</td>\n",
              "      <td>47.00</td>\n",
              "      <td>-698.00</td>\n",
              "      <td>47.96</td>\n",
              "      <td>2.63</td>\n",
              "      <td>2,725.36</td>\n",
              "      <td>7.50</td>\n",
              "      <td>2.02</td>\n",
              "      <td>24.90</td>\n",
              "      <td>2,017.69</td>\n",
              "      <td>211.38</td>\n",
              "      <td>7.35</td>\n",
              "      <td>151,315.00</td>\n",
              "      <td>10.00</td>\n",
              "      <td>3.00</td>\n",
              "      <td>2,010.00</td>\n",
              "    </tr>\n",
              "    <tr>\n",
              "      <th>25%</th>\n",
              "      <td>1.00</td>\n",
              "      <td>47.00</td>\n",
              "      <td>-398.00</td>\n",
              "      <td>58.27</td>\n",
              "      <td>3.19</td>\n",
              "      <td>3,511.76</td>\n",
              "      <td>23.99</td>\n",
              "      <td>4.01</td>\n",
              "      <td>348.16</td>\n",
              "      <td>2,378.56</td>\n",
              "      <td>214.59</td>\n",
              "      <td>7.71</td>\n",
              "      <td>151,315.00</td>\n",
              "      <td>10.50</td>\n",
              "      <td>3.00</td>\n",
              "      <td>2,011.00</td>\n",
              "    </tr>\n",
              "    <tr>\n",
              "      <th>50%</th>\n",
              "      <td>1.00</td>\n",
              "      <td>47.00</td>\n",
              "      <td>-198.00</td>\n",
              "      <td>64.74</td>\n",
              "      <td>3.48</td>\n",
              "      <td>4,298.16</td>\n",
              "      <td>40.48</td>\n",
              "      <td>6.00</td>\n",
              "      <td>671.43</td>\n",
              "      <td>2,739.43</td>\n",
              "      <td>215.61</td>\n",
              "      <td>7.87</td>\n",
              "      <td>151,315.00</td>\n",
              "      <td>27.00</td>\n",
              "      <td>7.00</td>\n",
              "      <td>2,011.00</td>\n",
              "    </tr>\n",
              "    <tr>\n",
              "      <th>75%</th>\n",
              "      <td>1.00</td>\n",
              "      <td>47.00</td>\n",
              "      <td>-10.50</td>\n",
              "      <td>78.78</td>\n",
              "      <td>3.63</td>\n",
              "      <td>7,314.60</td>\n",
              "      <td>96.18</td>\n",
              "      <td>320.35</td>\n",
              "      <td>1,698.04</td>\n",
              "      <td>4,124.64</td>\n",
              "      <td>218.36</td>\n",
              "      <td>7.96</td>\n",
              "      <td>151,315.00</td>\n",
              "      <td>36.50</td>\n",
              "      <td>9.00</td>\n",
              "      <td>2,011.00</td>\n",
              "    </tr>\n",
              "    <tr>\n",
              "      <th>max</th>\n",
              "      <td>1.00</td>\n",
              "      <td>54.00</td>\n",
              "      <td>0.00</td>\n",
              "      <td>90.76</td>\n",
              "      <td>3.73</td>\n",
              "      <td>10,331.04</td>\n",
              "      <td>151.88</td>\n",
              "      <td>634.70</td>\n",
              "      <td>2,724.65</td>\n",
              "      <td>5,509.84</td>\n",
              "      <td>221.21</td>\n",
              "      <td>8.11</td>\n",
              "      <td>151,315.00</td>\n",
              "      <td>51.00</td>\n",
              "      <td>12.00</td>\n",
              "      <td>2,012.00</td>\n",
              "    </tr>\n",
              "  </tbody>\n",
              "</table>\n",
              "</div>\n",
              "      <button class=\"colab-df-convert\" onclick=\"convertToInteractive('df-ce62e5c3-bbf9-42f2-ad6a-527f7ace6424')\"\n",
              "              title=\"Convert this dataframe to an interactive table.\"\n",
              "              style=\"display:none;\">\n",
              "        \n",
              "  <svg xmlns=\"http://www.w3.org/2000/svg\" height=\"24px\"viewBox=\"0 0 24 24\"\n",
              "       width=\"24px\">\n",
              "    <path d=\"M0 0h24v24H0V0z\" fill=\"none\"/>\n",
              "    <path d=\"M18.56 5.44l.94 2.06.94-2.06 2.06-.94-2.06-.94-.94-2.06-.94 2.06-2.06.94zm-11 1L8.5 8.5l.94-2.06 2.06-.94-2.06-.94L8.5 2.5l-.94 2.06-2.06.94zm10 10l.94 2.06.94-2.06 2.06-.94-2.06-.94-.94-2.06-.94 2.06-2.06.94z\"/><path d=\"M17.41 7.96l-1.37-1.37c-.4-.4-.92-.59-1.43-.59-.52 0-1.04.2-1.43.59L10.3 9.45l-7.72 7.72c-.78.78-.78 2.05 0 2.83L4 21.41c.39.39.9.59 1.41.59.51 0 1.02-.2 1.41-.59l7.78-7.78 2.81-2.81c.8-.78.8-2.07 0-2.86zM5.41 20L4 18.59l7.72-7.72 1.47 1.35L5.41 20z\"/>\n",
              "  </svg>\n",
              "      </button>\n",
              "      \n",
              "  <style>\n",
              "    .colab-df-container {\n",
              "      display:flex;\n",
              "      flex-wrap:wrap;\n",
              "      gap: 12px;\n",
              "    }\n",
              "\n",
              "    .colab-df-convert {\n",
              "      background-color: #E8F0FE;\n",
              "      border: none;\n",
              "      border-radius: 50%;\n",
              "      cursor: pointer;\n",
              "      display: none;\n",
              "      fill: #1967D2;\n",
              "      height: 32px;\n",
              "      padding: 0 0 0 0;\n",
              "      width: 32px;\n",
              "    }\n",
              "\n",
              "    .colab-df-convert:hover {\n",
              "      background-color: #E2EBFA;\n",
              "      box-shadow: 0px 1px 2px rgba(60, 64, 67, 0.3), 0px 1px 3px 1px rgba(60, 64, 67, 0.15);\n",
              "      fill: #174EA6;\n",
              "    }\n",
              "\n",
              "    [theme=dark] .colab-df-convert {\n",
              "      background-color: #3B4455;\n",
              "      fill: #D2E3FC;\n",
              "    }\n",
              "\n",
              "    [theme=dark] .colab-df-convert:hover {\n",
              "      background-color: #434B5C;\n",
              "      box-shadow: 0px 1px 3px 1px rgba(0, 0, 0, 0.15);\n",
              "      filter: drop-shadow(0px 1px 2px rgba(0, 0, 0, 0.3));\n",
              "      fill: #FFFFFF;\n",
              "    }\n",
              "  </style>\n",
              "\n",
              "      <script>\n",
              "        const buttonEl =\n",
              "          document.querySelector('#df-ce62e5c3-bbf9-42f2-ad6a-527f7ace6424 button.colab-df-convert');\n",
              "        buttonEl.style.display =\n",
              "          google.colab.kernel.accessAllowed ? 'block' : 'none';\n",
              "\n",
              "        async function convertToInteractive(key) {\n",
              "          const element = document.querySelector('#df-ce62e5c3-bbf9-42f2-ad6a-527f7ace6424');\n",
              "          const dataTable =\n",
              "            await google.colab.kernel.invokeFunction('convertToInteractive',\n",
              "                                                     [key], {});\n",
              "          if (!dataTable) return;\n",
              "\n",
              "          const docLinkHtml = 'Like what you see? Visit the ' +\n",
              "            '<a target=\"_blank\" href=https://colab.research.google.com/notebooks/data_table.ipynb>data table notebook</a>'\n",
              "            + ' to learn more about interactive tables.';\n",
              "          element.innerHTML = '';\n",
              "          dataTable['output_type'] = 'display_data';\n",
              "          await google.colab.output.renderOutput(dataTable, element);\n",
              "          const docLink = document.createElement('div');\n",
              "          docLink.innerHTML = docLinkHtml;\n",
              "          element.appendChild(docLink);\n",
              "        }\n",
              "      </script>\n",
              "    </div>\n",
              "  </div>\n",
              "  "
            ]
          },
          "metadata": {},
          "execution_count": 44
        }
      ]
    },
    {
      "cell_type": "code",
      "execution_count": 45,
      "id": "ac3ff614",
      "metadata": {
        "colab": {
          "base_uri": "https://localhost:8080/",
          "height": 361
        },
        "id": "ac3ff614",
        "outputId": "6378c70d-d483-4a85-bffb-bef159a1ef86"
      },
      "outputs": [
        {
          "output_type": "execute_result",
          "data": {
            "text/plain": [
              "       Store  Dept  Weekly_Sales  Temperature  Fuel_Price  MarkDown1  \\\n",
              "count  18.00 18.00         18.00        18.00       18.00       7.00   \n",
              "mean    1.00 44.33       -219.88        65.35        3.38   9,438.97   \n",
              "std     0.00 12.23        258.99        15.83        0.42   6,163.73   \n",
              "min     1.00  6.00       -863.00        39.93        2.51   2,725.36   \n",
              "25%     1.00 47.00       -279.25        54.62        3.15   5,208.36   \n",
              "50%     1.00 47.00       -168.82        65.34        3.50   9,873.33   \n",
              "75%     1.00 47.00        -16.50        74.60        3.66  10,883.63   \n",
              "max     1.00 54.00          0.00        90.76        3.91  21,290.13   \n",
              "\n",
              "       MarkDown2  MarkDown3  MarkDown4  MarkDown5    CPI  Unemployment  \\\n",
              "count       6.00       7.00       7.00       7.00  18.00         18.00   \n",
              "mean    1,919.43     104.89   3,456.95   3,632.01 216.78          7.66   \n",
              "std     4,480.03     234.85   3,376.27   1,195.13   3.87          0.35   \n",
              "min         7.50       2.02      24.90   2,017.69 211.29          6.91   \n",
              "25%        17.23       5.48     549.08   3,000.23 214.35          7.35   \n",
              "50%        96.18       6.85   2,724.65   3,402.66 215.70          7.74   \n",
              "75%       221.72      39.84   5,970.81   4,246.72 220.90          7.94   \n",
              "max    11,062.27     634.70   8,409.31   5,509.84 221.96          8.11   \n",
              "\n",
              "            Size  week  month     year  \n",
              "count      18.00 18.00  18.00    18.00  \n",
              "mean  151,315.00 21.00   5.39 2,011.17  \n",
              "std         0.00 14.15   3.27     0.71  \n",
              "min   151,315.00  3.00   1.00 2,010.00  \n",
              "25%   151,315.00 10.00   3.00 2,011.00  \n",
              "50%   151,315.00 16.00   4.50 2,011.00  \n",
              "75%   151,315.00 32.00   8.00 2,012.00  \n",
              "max   151,315.00 51.00  12.00 2,012.00  "
            ],
            "text/html": [
              "\n",
              "  <div id=\"df-3aef5173-71af-4ff1-95fa-9311c4981ef5\">\n",
              "    <div class=\"colab-df-container\">\n",
              "      <div>\n",
              "<style scoped>\n",
              "    .dataframe tbody tr th:only-of-type {\n",
              "        vertical-align: middle;\n",
              "    }\n",
              "\n",
              "    .dataframe tbody tr th {\n",
              "        vertical-align: top;\n",
              "    }\n",
              "\n",
              "    .dataframe thead th {\n",
              "        text-align: right;\n",
              "    }\n",
              "</style>\n",
              "<table border=\"1\" class=\"dataframe\">\n",
              "  <thead>\n",
              "    <tr style=\"text-align: right;\">\n",
              "      <th></th>\n",
              "      <th>Store</th>\n",
              "      <th>Dept</th>\n",
              "      <th>Weekly_Sales</th>\n",
              "      <th>Temperature</th>\n",
              "      <th>Fuel_Price</th>\n",
              "      <th>MarkDown1</th>\n",
              "      <th>MarkDown2</th>\n",
              "      <th>MarkDown3</th>\n",
              "      <th>MarkDown4</th>\n",
              "      <th>MarkDown5</th>\n",
              "      <th>CPI</th>\n",
              "      <th>Unemployment</th>\n",
              "      <th>Size</th>\n",
              "      <th>week</th>\n",
              "      <th>month</th>\n",
              "      <th>year</th>\n",
              "    </tr>\n",
              "  </thead>\n",
              "  <tbody>\n",
              "    <tr>\n",
              "      <th>count</th>\n",
              "      <td>18.00</td>\n",
              "      <td>18.00</td>\n",
              "      <td>18.00</td>\n",
              "      <td>18.00</td>\n",
              "      <td>18.00</td>\n",
              "      <td>7.00</td>\n",
              "      <td>6.00</td>\n",
              "      <td>7.00</td>\n",
              "      <td>7.00</td>\n",
              "      <td>7.00</td>\n",
              "      <td>18.00</td>\n",
              "      <td>18.00</td>\n",
              "      <td>18.00</td>\n",
              "      <td>18.00</td>\n",
              "      <td>18.00</td>\n",
              "      <td>18.00</td>\n",
              "    </tr>\n",
              "    <tr>\n",
              "      <th>mean</th>\n",
              "      <td>1.00</td>\n",
              "      <td>44.33</td>\n",
              "      <td>-219.88</td>\n",
              "      <td>65.35</td>\n",
              "      <td>3.38</td>\n",
              "      <td>9,438.97</td>\n",
              "      <td>1,919.43</td>\n",
              "      <td>104.89</td>\n",
              "      <td>3,456.95</td>\n",
              "      <td>3,632.01</td>\n",
              "      <td>216.78</td>\n",
              "      <td>7.66</td>\n",
              "      <td>151,315.00</td>\n",
              "      <td>21.00</td>\n",
              "      <td>5.39</td>\n",
              "      <td>2,011.17</td>\n",
              "    </tr>\n",
              "    <tr>\n",
              "      <th>std</th>\n",
              "      <td>0.00</td>\n",
              "      <td>12.23</td>\n",
              "      <td>258.99</td>\n",
              "      <td>15.83</td>\n",
              "      <td>0.42</td>\n",
              "      <td>6,163.73</td>\n",
              "      <td>4,480.03</td>\n",
              "      <td>234.85</td>\n",
              "      <td>3,376.27</td>\n",
              "      <td>1,195.13</td>\n",
              "      <td>3.87</td>\n",
              "      <td>0.35</td>\n",
              "      <td>0.00</td>\n",
              "      <td>14.15</td>\n",
              "      <td>3.27</td>\n",
              "      <td>0.71</td>\n",
              "    </tr>\n",
              "    <tr>\n",
              "      <th>min</th>\n",
              "      <td>1.00</td>\n",
              "      <td>6.00</td>\n",
              "      <td>-863.00</td>\n",
              "      <td>39.93</td>\n",
              "      <td>2.51</td>\n",
              "      <td>2,725.36</td>\n",
              "      <td>7.50</td>\n",
              "      <td>2.02</td>\n",
              "      <td>24.90</td>\n",
              "      <td>2,017.69</td>\n",
              "      <td>211.29</td>\n",
              "      <td>6.91</td>\n",
              "      <td>151,315.00</td>\n",
              "      <td>3.00</td>\n",
              "      <td>1.00</td>\n",
              "      <td>2,010.00</td>\n",
              "    </tr>\n",
              "    <tr>\n",
              "      <th>25%</th>\n",
              "      <td>1.00</td>\n",
              "      <td>47.00</td>\n",
              "      <td>-279.25</td>\n",
              "      <td>54.62</td>\n",
              "      <td>3.15</td>\n",
              "      <td>5,208.36</td>\n",
              "      <td>17.23</td>\n",
              "      <td>5.48</td>\n",
              "      <td>549.08</td>\n",
              "      <td>3,000.23</td>\n",
              "      <td>214.35</td>\n",
              "      <td>7.35</td>\n",
              "      <td>151,315.00</td>\n",
              "      <td>10.00</td>\n",
              "      <td>3.00</td>\n",
              "      <td>2,011.00</td>\n",
              "    </tr>\n",
              "    <tr>\n",
              "      <th>50%</th>\n",
              "      <td>1.00</td>\n",
              "      <td>47.00</td>\n",
              "      <td>-168.82</td>\n",
              "      <td>65.34</td>\n",
              "      <td>3.50</td>\n",
              "      <td>9,873.33</td>\n",
              "      <td>96.18</td>\n",
              "      <td>6.85</td>\n",
              "      <td>2,724.65</td>\n",
              "      <td>3,402.66</td>\n",
              "      <td>215.70</td>\n",
              "      <td>7.74</td>\n",
              "      <td>151,315.00</td>\n",
              "      <td>16.00</td>\n",
              "      <td>4.50</td>\n",
              "      <td>2,011.00</td>\n",
              "    </tr>\n",
              "    <tr>\n",
              "      <th>75%</th>\n",
              "      <td>1.00</td>\n",
              "      <td>47.00</td>\n",
              "      <td>-16.50</td>\n",
              "      <td>74.60</td>\n",
              "      <td>3.66</td>\n",
              "      <td>10,883.63</td>\n",
              "      <td>221.72</td>\n",
              "      <td>39.84</td>\n",
              "      <td>5,970.81</td>\n",
              "      <td>4,246.72</td>\n",
              "      <td>220.90</td>\n",
              "      <td>7.94</td>\n",
              "      <td>151,315.00</td>\n",
              "      <td>32.00</td>\n",
              "      <td>8.00</td>\n",
              "      <td>2,012.00</td>\n",
              "    </tr>\n",
              "    <tr>\n",
              "      <th>max</th>\n",
              "      <td>1.00</td>\n",
              "      <td>54.00</td>\n",
              "      <td>0.00</td>\n",
              "      <td>90.76</td>\n",
              "      <td>3.91</td>\n",
              "      <td>21,290.13</td>\n",
              "      <td>11,062.27</td>\n",
              "      <td>634.70</td>\n",
              "      <td>8,409.31</td>\n",
              "      <td>5,509.84</td>\n",
              "      <td>221.96</td>\n",
              "      <td>8.11</td>\n",
              "      <td>151,315.00</td>\n",
              "      <td>51.00</td>\n",
              "      <td>12.00</td>\n",
              "      <td>2,012.00</td>\n",
              "    </tr>\n",
              "  </tbody>\n",
              "</table>\n",
              "</div>\n",
              "      <button class=\"colab-df-convert\" onclick=\"convertToInteractive('df-3aef5173-71af-4ff1-95fa-9311c4981ef5')\"\n",
              "              title=\"Convert this dataframe to an interactive table.\"\n",
              "              style=\"display:none;\">\n",
              "        \n",
              "  <svg xmlns=\"http://www.w3.org/2000/svg\" height=\"24px\"viewBox=\"0 0 24 24\"\n",
              "       width=\"24px\">\n",
              "    <path d=\"M0 0h24v24H0V0z\" fill=\"none\"/>\n",
              "    <path d=\"M18.56 5.44l.94 2.06.94-2.06 2.06-.94-2.06-.94-.94-2.06-.94 2.06-2.06.94zm-11 1L8.5 8.5l.94-2.06 2.06-.94-2.06-.94L8.5 2.5l-.94 2.06-2.06.94zm10 10l.94 2.06.94-2.06 2.06-.94-2.06-.94-.94-2.06-.94 2.06-2.06.94z\"/><path d=\"M17.41 7.96l-1.37-1.37c-.4-.4-.92-.59-1.43-.59-.52 0-1.04.2-1.43.59L10.3 9.45l-7.72 7.72c-.78.78-.78 2.05 0 2.83L4 21.41c.39.39.9.59 1.41.59.51 0 1.02-.2 1.41-.59l7.78-7.78 2.81-2.81c.8-.78.8-2.07 0-2.86zM5.41 20L4 18.59l7.72-7.72 1.47 1.35L5.41 20z\"/>\n",
              "  </svg>\n",
              "      </button>\n",
              "      \n",
              "  <style>\n",
              "    .colab-df-container {\n",
              "      display:flex;\n",
              "      flex-wrap:wrap;\n",
              "      gap: 12px;\n",
              "    }\n",
              "\n",
              "    .colab-df-convert {\n",
              "      background-color: #E8F0FE;\n",
              "      border: none;\n",
              "      border-radius: 50%;\n",
              "      cursor: pointer;\n",
              "      display: none;\n",
              "      fill: #1967D2;\n",
              "      height: 32px;\n",
              "      padding: 0 0 0 0;\n",
              "      width: 32px;\n",
              "    }\n",
              "\n",
              "    .colab-df-convert:hover {\n",
              "      background-color: #E2EBFA;\n",
              "      box-shadow: 0px 1px 2px rgba(60, 64, 67, 0.3), 0px 1px 3px 1px rgba(60, 64, 67, 0.15);\n",
              "      fill: #174EA6;\n",
              "    }\n",
              "\n",
              "    [theme=dark] .colab-df-convert {\n",
              "      background-color: #3B4455;\n",
              "      fill: #D2E3FC;\n",
              "    }\n",
              "\n",
              "    [theme=dark] .colab-df-convert:hover {\n",
              "      background-color: #434B5C;\n",
              "      box-shadow: 0px 1px 3px 1px rgba(0, 0, 0, 0.15);\n",
              "      filter: drop-shadow(0px 1px 2px rgba(0, 0, 0, 0.3));\n",
              "      fill: #FFFFFF;\n",
              "    }\n",
              "  </style>\n",
              "\n",
              "      <script>\n",
              "        const buttonEl =\n",
              "          document.querySelector('#df-3aef5173-71af-4ff1-95fa-9311c4981ef5 button.colab-df-convert');\n",
              "        buttonEl.style.display =\n",
              "          google.colab.kernel.accessAllowed ? 'block' : 'none';\n",
              "\n",
              "        async function convertToInteractive(key) {\n",
              "          const element = document.querySelector('#df-3aef5173-71af-4ff1-95fa-9311c4981ef5');\n",
              "          const dataTable =\n",
              "            await google.colab.kernel.invokeFunction('convertToInteractive',\n",
              "                                                     [key], {});\n",
              "          if (!dataTable) return;\n",
              "\n",
              "          const docLinkHtml = 'Like what you see? Visit the ' +\n",
              "            '<a target=\"_blank\" href=https://colab.research.google.com/notebooks/data_table.ipynb>data table notebook</a>'\n",
              "            + ' to learn more about interactive tables.';\n",
              "          element.innerHTML = '';\n",
              "          dataTable['output_type'] = 'display_data';\n",
              "          await google.colab.output.renderOutput(dataTable, element);\n",
              "          const docLink = document.createElement('div');\n",
              "          docLink.innerHTML = docLinkHtml;\n",
              "          element.appendChild(docLink);\n",
              "        }\n",
              "      </script>\n",
              "    </div>\n",
              "  </div>\n",
              "  "
            ]
          },
          "metadata": {},
          "execution_count": 45
        }
      ],
      "source": [
        "non_pos_weekly_sales.describe()"
      ]
    },
    {
      "cell_type": "markdown",
      "id": "f6a5cb2f",
      "metadata": {
        "id": "f6a5cb2f"
      },
      "source": [
        "What percentage is the negative and zero sales?"
      ]
    },
    {
      "cell_type": "code",
      "execution_count": 46,
      "id": "b6ca3264",
      "metadata": {
        "id": "b6ca3264"
      },
      "outputs": [],
      "source": [
        "# YOUR CODE HERE"
      ]
    },
    {
      "cell_type": "markdown",
      "id": "6dd0f0ff",
      "metadata": {
        "id": "6dd0f0ff"
      },
      "source": [
        "<details>\n",
        "<summary>Expected Output</summary>\n",
        "\n",
        "`0.0015863331299572911` or `0.16%`\n",
        "</details>"
      ]
    },
    {
      "cell_type": "markdown",
      "id": "3b4f87f2",
      "metadata": {
        "id": "3b4f87f2"
      },
      "source": [
        "After communicating your findings, the stakeholders confirm that you can remove these data entries for now and they are launching an investigation by analysts and data engineers. \n",
        "\n",
        "Now remove them from the training dataset."
      ]
    },
    {
      "cell_type": "code",
      "execution_count": 47,
      "id": "2a0f0348",
      "metadata": {
        "colab": {
          "base_uri": "https://localhost:8080/"
        },
        "id": "2a0f0348",
        "outputId": "24edc9b7-4fb6-4f64-ff7a-95712d7ea887"
      },
      "outputs": [
        {
          "output_type": "execute_result",
          "data": {
            "text/plain": [
              "(7672, 19)"
            ]
          },
          "metadata": {},
          "execution_count": 47
        }
      ],
      "source": [
        "mask = df[target > 0]\n",
        "df_pos_train = df_train[target > 0]\n",
        "df_pos_train.shape # Expected Output: (8182, 19)"
      ]
    },
    {
      "cell_type": "markdown",
      "id": "65a2db90",
      "metadata": {
        "id": "65a2db90"
      },
      "source": [
        "Let's move on to features. "
      ]
    },
    {
      "cell_type": "markdown",
      "id": "fdf5d222",
      "metadata": {
        "id": "fdf5d222"
      },
      "source": [
        "Though almost all the come through as numerical, should they all be treated as numerical features? Let's inspect the number of unique values: "
      ]
    },
    {
      "cell_type": "code",
      "execution_count": 48,
      "id": "7c72b2ae",
      "metadata": {
        "colab": {
          "base_uri": "https://localhost:8080/"
        },
        "id": "7c72b2ae",
        "outputId": "5ac51755-862d-412d-f9d5-42ed91c39eab"
      },
      "outputs": [
        {
          "output_type": "execute_result",
          "data": {
            "text/plain": [
              "[('Store', 1),\n",
              " ('Dept', 77),\n",
              " ('Date', 143),\n",
              " ('Weekly_Sales', 10042),\n",
              " ('IsHoliday', 2),\n",
              " ('Temperature', 143),\n",
              " ('Fuel_Price', 137),\n",
              " ('MarkDown1', 51),\n",
              " ('MarkDown2', 41),\n",
              " ('MarkDown3', 49),\n",
              " ('MarkDown4', 51),\n",
              " ('MarkDown5', 51),\n",
              " ('CPI', 143),\n",
              " ('Unemployment', 12),\n",
              " ('Type', 1),\n",
              " ('Size', 1),\n",
              " ('week', 52),\n",
              " ('month', 12),\n",
              " ('year', 3)]"
            ]
          },
          "metadata": {},
          "execution_count": 48
        }
      ],
      "source": [
        "[(col, df[col].nunique())for col in df_train.columns]"
      ]
    },
    {
      "cell_type": "markdown",
      "id": "baf52e83",
      "metadata": {
        "id": "baf52e83"
      },
      "source": [
        "`Temperature`, `CPI`, `Unemployment`, `Fuel_Price` are continuous. Those tie to the second business objective. Let us put these four into a list and store it in `external_factors`. From earlier, we noticed that `MarkDownx` columns contain some missing values, we will treat them in a later task. "
      ]
    },
    {
      "cell_type": "code",
      "execution_count": 49,
      "id": "66c9ed4c",
      "metadata": {
        "id": "66c9ed4c"
      },
      "outputs": [],
      "source": [
        "external_factors = ['Temperature','CPI','Unemployment', 'Fuel_Price']"
      ]
    },
    {
      "cell_type": "code",
      "source": [
        "pd.DataFrame.boxplot(df_train.Temperature, figsize=(6,4))"
      ],
      "metadata": {
        "colab": {
          "base_uri": "https://localhost:8080/",
          "height": 282
        },
        "id": "QXCq3M5q0RQu",
        "outputId": "016fc10e-ab7f-4785-eae3-a6fb7f5ebdf5"
      },
      "id": "QXCq3M5q0RQu",
      "execution_count": 64,
      "outputs": [
        {
          "output_type": "execute_result",
          "data": {
            "text/plain": [
              "<matplotlib.axes._subplots.AxesSubplot at 0x7f5a5fa8d410>"
            ]
          },
          "metadata": {},
          "execution_count": 64
        },
        {
          "output_type": "display_data",
          "data": {
            "text/plain": [
              "<Figure size 432x288 with 1 Axes>"
            ],
            "image/png": "[encoded data removed]"
          },
          "metadata": {
            "needs_background": "light"
          }
        }
      ]
    },
    {
      "cell_type": "markdown",
      "id": "ec5737d6",
      "metadata": {
        "id": "ec5737d6"
      },
      "source": [
        "Visualize Temperature in a box plot, what do you think is the advantage of a box plot over a histogram? You can use `pd.DataFrame.boxplot()`, set the figure size as (6, 4), and turn off the grid."
      ]
    },
    {
      "cell_type": "markdown",
      "id": "290e747c",
      "metadata": {
        "id": "290e747c"
      },
      "source": [
        "❓ Question 5:\n",
        "\n",
        "Visualize Temperature in a box plot, what do you think the advantage of a box plot over histogram? \n",
        "\n",
        "HINT: You can use `pd.DataFrame.boxplot()`, set the figure size as (6, 4), and turn off the grid."
      ]
    },
    {
      "cell_type": "markdown",
      "id": "d61e2c38",
      "metadata": {
        "id": "d61e2c38"
      },
      "source": [
        "Boxplots don't just show frequency but also the extreme data points, i.e., outliers. Therefore, they show the range of the data, which affects the summary statistics in a critical way. "
      ]
    },
    {
      "cell_type": "code",
      "execution_count": 51,
      "id": "c79a4a6d",
      "metadata": {
        "id": "c79a4a6d"
      },
      "outputs": [],
      "source": []
    },
    {
      "cell_type": "markdown",
      "id": "98178024",
      "metadata": {
        "id": "98178024"
      },
      "source": [
        "Let's visualize all four numerical features in both density plot and box plot. Note any observations."
      ]
    },
    {
      "cell_type": "code",
      "execution_count": 52,
      "id": "8011f033",
      "metadata": {
        "colab": {
          "base_uri": "https://localhost:8080/",
          "height": 594
        },
        "id": "8011f033",
        "outputId": "64e7fb84-4cd1-4f39-9362-3da42d15aa9b"
      },
      "outputs": [
        {
          "output_type": "stream",
          "name": "stdout",
          "text": [
            "                                 \u001b[1mNumeric Features Distribution                                  \n"
          ]
        },
        {
          "output_type": "display_data",
          "data": {
            "text/plain": [
              "<Figure size 864x288 with 4 Axes>"
            ],
            "image/png": "[encoded data removed]"
          },
          "metadata": {
            "needs_background": "light"
          }
        },
        {
          "output_type": "display_data",
          "data": {
            "text/plain": [
              "<Figure size 864x288 with 4 Axes>"
            ],
            "image/png": "[encoded data removed]"
          },
          "metadata": {
            "needs_background": "light"
          }
        }
      ],
      "source": [
        "import matplotlib.pyplot as plt\n",
        "print('\\033[1mNumeric Features Distribution'.center(100))\n",
        "\n",
        "figsize = (12, 4)\n",
        "\n",
        "n=len(external_factors)\n",
        "colors = ['g', 'b', 'r', 'y', 'k']\n",
        "\n",
        "# histogram\n",
        "plt.figure(figsize=figsize)\n",
        "for i in range(len(external_factors)):\n",
        "    plt.subplot(1,n,i+1)\n",
        "    sns.distplot(df_train[external_factors[i]],\n",
        "                 bins=10, \n",
        "                 color = colors[i])\n",
        "plt.tight_layout();\n",
        "\n",
        "# boxplot\n",
        "plt.figure(figsize=figsize)\n",
        "for i in range(len(external_factors)):\n",
        "    plt.subplot(1,n,i+1)\n",
        "    df_train.boxplot(external_factors[i], grid=False)\n",
        "plt.tight_layout();"
      ]
    },
    {
      "cell_type": "markdown",
      "id": "7b8c8bc4",
      "metadata": {
        "id": "7b8c8bc4"
      },
      "source": [
        "We will investigate the impacts of the external factors later. Now let's scan through the other features."
      ]
    },
    {
      "cell_type": "markdown",
      "id": "92b165a4",
      "metadata": {
        "id": "92b165a4"
      },
      "source": [
        "`Store`, `Type`, and `Size` each has only one unique value, offering no information, we can safely ignore them. "
      ]
    },
    {
      "cell_type": "markdown",
      "id": "38b8f257",
      "metadata": {
        "id": "38b8f257"
      },
      "source": [
        "We extracted `year`, `month`, and `week` from  `Date`, thus `Date` is redundant; but it is easy to find the date range in the training dataset using `Date`:"
      ]
    },
    {
      "cell_type": "code",
      "execution_count": 65,
      "id": "fc1a58c0",
      "metadata": {
        "colab": {
          "base_uri": "https://localhost:8080/"
        },
        "id": "fc1a58c0",
        "outputId": "e88bd393-fff7-4192-a3ca-e428cc430d57"
      },
      "outputs": [
        {
          "output_type": "execute_result",
          "data": {
            "text/plain": [
              "(Timestamp('2010-02-05 00:00:00'), Timestamp('2012-10-26 00:00:00'))"
            ]
          },
          "metadata": {},
          "execution_count": 65
        }
      ],
      "source": [
        "df_train['Date'].min(), df_train['Date'].max() # Expected Output: (Timestamp('2010-02-05 00:00:00'), Timestamp('2012-10-26 00:00:00'))"
      ]
    },
    {
      "cell_type": "markdown",
      "id": "86745e55",
      "metadata": {
        "id": "86745e55"
      },
      "source": [
        "Our training data ranges from 5th of February 2010 to 26th of October 2012."
      ]
    },
    {
      "cell_type": "markdown",
      "id": "fc93438e",
      "metadata": {
        "id": "fc93438e"
      },
      "source": [
        "It makes more sense to treat `year`, `month`, `week` as categorical, more accurately ordinal; and the boolean feature `IsHoliday` can be considered as categorical, so can `Dept`. Let's put these column names into a list `categoricalFeatures`."
      ]
    },
    {
      "cell_type": "code",
      "execution_count": 66,
      "id": "668b91ec",
      "metadata": {
        "id": "668b91ec"
      },
      "outputs": [],
      "source": [
        "categoricalFeatures = ['year','month','week','IsHoliday', 'Dept']"
      ]
    },
    {
      "cell_type": "markdown",
      "id": "937c1cdd",
      "metadata": {
        "id": "937c1cdd"
      },
      "source": [
        "For the categorical features, we are more interested in the frequency of each value, use `pd.Series.value_counts` to see how many rows where `IsHoliday` is true and false respectively ( Data imbalance is the norm )."
      ]
    },
    {
      "cell_type": "code",
      "execution_count": 68,
      "id": "012d208d",
      "metadata": {
        "colab": {
          "base_uri": "https://localhost:8080/"
        },
        "id": "012d208d",
        "outputId": "f902dfba-006f-4703-8d49-133bccf78a60"
      },
      "outputs": [
        {
          "output_type": "execute_result",
          "data": {
            "text/plain": [
              "False    7129\n",
              "True      554\n",
              "Name: IsHoliday, dtype: int64"
            ]
          },
          "metadata": {},
          "execution_count": 68
        }
      ],
      "source": [
        "pd.Series.value_counts(df_train.IsHoliday)"
      ]
    },
    {
      "cell_type": "markdown",
      "id": "3af9fc85",
      "metadata": {
        "id": "3af9fc85"
      },
      "source": [
        "<details>\n",
        "<summary>Expected Output</summary>\n",
        "\n",
        "```\n",
        "False    7586\n",
        "True      596\n",
        "Name: IsHoliday, dtype: int64\n",
        "```\n",
        "</details>"
      ]
    },
    {
      "cell_type": "markdown",
      "id": "81c091c4",
      "metadata": {
        "id": "81c091c4"
      },
      "source": [
        "Visualize the distribution of `month`; use `sns.countplot()`."
      ]
    },
    {
      "cell_type": "code",
      "execution_count": 69,
      "id": "3e2077ec",
      "metadata": {
        "colab": {
          "base_uri": "https://localhost:8080/",
          "height": 296
        },
        "id": "3e2077ec",
        "outputId": "8244ae2e-fe89-4d4b-e2e1-e13499fb8ead"
      },
      "outputs": [
        {
          "output_type": "execute_result",
          "data": {
            "text/plain": [
              "<matplotlib.axes._subplots.AxesSubplot at 0x7f5a5f5a2d50>"
            ]
          },
          "metadata": {},
          "execution_count": 69
        },
        {
          "output_type": "display_data",
          "data": {
            "text/plain": [
              "<Figure size 432x288 with 1 Axes>"
            ],
            "image/png": "[encoded data removed]"
          },
          "metadata": {
            "needs_background": "light"
          }
        }
      ],
      "source": [
        "sns.countplot(df_train.month)"
      ]
    },
    {
      "cell_type": "code",
      "execution_count": 70,
      "id": "5dbb21d9",
      "metadata": {
        "colab": {
          "base_uri": "https://localhost:8080/",
          "height": 774
        },
        "id": "5dbb21d9",
        "outputId": "733a53e4-2f6e-43cf-a705-6680d8bb4ea0"
      },
      "outputs": [
        {
          "output_type": "stream",
          "name": "stdout",
          "text": [
            "                               \u001b[1mVisualising Categorical Features:                                \n"
          ]
        },
        {
          "output_type": "display_data",
          "data": {
            "text/plain": [
              "<Figure size 864x864 with 5 Axes>"
            ],
            "image/png": "[encoded data removed]"
          },
          "metadata": {
            "needs_background": "light"
          }
        }
      ],
      "source": [
        "#Visualising the categorical features \n",
        "\n",
        "print('\\033[1mVisualising Categorical Features:'.center(100))\n",
        "\n",
        "plt.figure(figsize=(12,12))\n",
        "\n",
        "for i in range(len(categoricalFeatures)):\n",
        "    plt.subplot(6,1,i+1)\n",
        "    sns.countplot(df_train[categoricalFeatures[i]])\n",
        "plt.tight_layout();"
      ]
    },
    {
      "cell_type": "markdown",
      "id": "ef3b243b",
      "metadata": {
        "id": "ef3b243b"
      },
      "source": [
        "❓ Question 6: \n",
        "\n",
        "Discuss with your pair programming partner: There is less data in 2012 than the previous two years, did the sale drop from previous years? Does it affect what we see in the plots for month and week? Does the plot below clarify it to some degree?"
      ]
    },
    {
      "cell_type": "markdown",
      "source": [
        "From examining the data, it's clear in 2012 df_train dataset, there isn't data after September, not sure why. I doubt that this data has gone into the test dataset, although it may have. Holidays are the busiest seasons of the year and missing those values (Oct, Nov, Dec) will seem like the sales dropped, but it could be something else. "
      ],
      "metadata": {
        "id": "AUGCj1TrxPYM"
      },
      "id": "AUGCj1TrxPYM"
    },
    {
      "cell_type": "markdown",
      "id": "f4d9e53a",
      "metadata": {
        "id": "f4d9e53a"
      },
      "source": [
        "`YOUR ANSWER HERE`"
      ]
    },
    {
      "cell_type": "code",
      "execution_count": 91,
      "id": "761fe3b3",
      "metadata": {
        "colab": {
          "base_uri": "https://localhost:8080/",
          "height": 388
        },
        "id": "761fe3b3",
        "outputId": "aa0cdfc8-4f44-4ffd-8666-3d0c675c5e45"
      },
      "outputs": [
        {
          "output_type": "display_data",
          "data": {
            "text/plain": [
              "<Figure size 864x432 with 1 Axes>"
            ],
            "image/png": "[encoded data removed]"
          },
          "metadata": {
            "needs_background": "light"
          }
        }
      ],
      "source": [
        "plt.figure(figsize=(12, 6))\n",
        "#year_12 = df_train[df_train[\"year\"] == 2012]\n",
        "#year_12.head(10)\n",
        "#year_12.describe()\n",
        "\n",
        "#year_11 = df_train[df_train[\"year\"] == 2011]\n",
        "#year_11.head(10)\n",
        "#year_11.describe()\n",
        "\n",
        "#year_10 = df_train[df_train[\"year\"] == 2010]\n",
        "#year_10.head(10)\n",
        "#year_10.describe()\n",
        "\n",
        "sns.lineplot(data=df_train, x=\"week\", y=\"Weekly_Sales\",  style='year');"
      ]
    },
    {
      "cell_type": "markdown",
      "id": "23c9df48",
      "metadata": {
        "id": "23c9df48"
      },
      "source": [
        "## Task III: Impact from Holidays"
      ]
    },
    {
      "cell_type": "markdown",
      "id": "ab8d13d4",
      "metadata": {
        "id": "ab8d13d4"
      },
      "source": [
        "The first business objective is to understand the impact of holidays on weekly sales. "
      ]
    },
    {
      "cell_type": "markdown",
      "id": "7f937f9f",
      "metadata": {
        "id": "7f937f9f"
      },
      "source": [
        "There is a flag provided for us: `IsHoliday`, let's calculate the average weekly sales for holiday weeks and non-holiday weeks, respectively. For this, we will use `.groupBy` and `.mean()`. Are holiday sales higher?"
      ]
    },
    {
      "cell_type": "code",
      "execution_count": 100,
      "id": "1c0cde2d",
      "metadata": {
        "colab": {
          "base_uri": "https://localhost:8080/",
          "height": 486
        },
        "id": "1c0cde2d",
        "outputId": "5d6e1004-b729-496a-f771-9c90a82aad45"
      },
      "outputs": [
        {
          "output_type": "execute_result",
          "data": {
            "text/plain": [
              "       Store   Dept  Weekly_Sales  Temperature  Fuel_Price  MarkDown1  \\\n",
              "count 554.00 554.00        554.00       554.00      554.00     224.00   \n",
              "mean    1.00  44.21     23,277.25        58.28        3.10   6,207.36   \n",
              "std     0.00  30.29     29,842.02        16.45        0.38   4,843.81   \n",
              "min     1.00   1.00          4.88        36.39        2.55     410.31   \n",
              "25%     1.00  19.00      3,630.11        44.55        2.73     410.31   \n",
              "50%     1.00  37.00     11,466.41        60.14        3.13   5,204.68   \n",
              "75%     1.00  72.00     32,755.31        76.00        3.41   5,762.10   \n",
              "max     1.00  99.00    203,670.47        83.96        3.73  13,925.06   \n",
              "\n",
              "       MarkDown2  MarkDown3  MarkDown4  MarkDown5    CPI  Unemployment  \\\n",
              "count     224.00     224.00     224.00     224.00 554.00        554.00   \n",
              "mean   13,412.36  14,552.90   3,306.39   3,680.87 215.63          7.73   \n",
              "std    19,288.69  24,439.09   3,291.38   2,352.28   4.06          0.33   \n",
              "min        35.74      50.94       8.00     554.92 211.24          6.91   \n",
              "25%        98.00     101.64       8.00     554.92 211.50          7.74   \n",
              "50%        98.00     260.36     983.65   2,737.17 215.86          7.84   \n",
              "75%    46,011.38  55,805.51   4,120.32   4,735.78 219.54          7.87   \n",
              "max    46,011.38  55,805.51   8,471.88   6,886.04 222.44          8.11   \n",
              "\n",
              "            Size   week  month     year  \n",
              "count     554.00 554.00 554.00   554.00  \n",
              "mean  151,315.00  32.55   7.94 2,010.81  \n",
              "std         0.00  18.06   3.97     0.74  \n",
              "min   151,315.00   6.00   2.00 2,010.00  \n",
              "25%   151,315.00   6.00   2.00 2,010.00  \n",
              "50%   151,315.00  36.00   9.00 2,011.00  \n",
              "75%   151,315.00  47.00  11.00 2,011.00  \n",
              "max   151,315.00  52.00  12.00 2,012.00  "
            ],
            "text/html": [
              "\n",
              "  <div id=\"df-6789c67c-d02a-4c7e-a0c6-05639a9c0567\">\n",
              "    <div class=\"colab-df-container\">\n",
              "      <div>\n",
              "<style scoped>\n",
              "    .dataframe tbody tr th:only-of-type {\n",
              "        vertical-align: middle;\n",
              "    }\n",
              "\n",
              "    .dataframe tbody tr th {\n",
              "        vertical-align: top;\n",
              "    }\n",
              "\n",
              "    .dataframe thead th {\n",
              "        text-align: right;\n",
              "    }\n",
              "</style>\n",
              "<table border=\"1\" class=\"dataframe\">\n",
              "  <thead>\n",
              "    <tr style=\"text-align: right;\">\n",
              "      <th></th>\n",
              "      <th>Store</th>\n",
              "      <th>Dept</th>\n",
              "      <th>Weekly_Sales</th>\n",
              "      <th>Temperature</th>\n",
              "      <th>Fuel_Price</th>\n",
              "      <th>MarkDown1</th>\n",
              "      <th>MarkDown2</th>\n",
              "      <th>MarkDown3</th>\n",
              "      <th>MarkDown4</th>\n",
              "      <th>MarkDown5</th>\n",
              "      <th>CPI</th>\n",
              "      <th>Unemployment</th>\n",
              "      <th>Size</th>\n",
              "      <th>week</th>\n",
              "      <th>month</th>\n",
              "      <th>year</th>\n",
              "    </tr>\n",
              "  </thead>\n",
              "  <tbody>\n",
              "    <tr>\n",
              "      <th>count</th>\n",
              "      <td>554.00</td>\n",
              "      <td>554.00</td>\n",
              "      <td>554.00</td>\n",
              "      <td>554.00</td>\n",
              "      <td>554.00</td>\n",
              "      <td>224.00</td>\n",
              "      <td>224.00</td>\n",
              "      <td>224.00</td>\n",
              "      <td>224.00</td>\n",
              "      <td>224.00</td>\n",
              "      <td>554.00</td>\n",
              "      <td>554.00</td>\n",
              "      <td>554.00</td>\n",
              "      <td>554.00</td>\n",
              "      <td>554.00</td>\n",
              "      <td>554.00</td>\n",
              "    </tr>\n",
              "    <tr>\n",
              "      <th>mean</th>\n",
              "      <td>1.00</td>\n",
              "      <td>44.21</td>\n",
              "      <td>23,277.25</td>\n",
              "      <td>58.28</td>\n",
              "      <td>3.10</td>\n",
              "      <td>6,207.36</td>\n",
              "      <td>13,412.36</td>\n",
              "      <td>14,552.90</td>\n",
              "      <td>3,306.39</td>\n",
              "      <td>3,680.87</td>\n",
              "      <td>215.63</td>\n",
              "      <td>7.73</td>\n",
              "      <td>151,315.00</td>\n",
              "      <td>32.55</td>\n",
              "      <td>7.94</td>\n",
              "      <td>2,010.81</td>\n",
              "    </tr>\n",
              "    <tr>\n",
              "      <th>std</th>\n",
              "      <td>0.00</td>\n",
              "      <td>30.29</td>\n",
              "      <td>29,842.02</td>\n",
              "      <td>16.45</td>\n",
              "      <td>0.38</td>\n",
              "      <td>4,843.81</td>\n",
              "      <td>19,288.69</td>\n",
              "      <td>24,439.09</td>\n",
              "      <td>3,291.38</td>\n",
              "      <td>2,352.28</td>\n",
              "      <td>4.06</td>\n",
              "      <td>0.33</td>\n",
              "      <td>0.00</td>\n",
              "      <td>18.06</td>\n",
              "      <td>3.97</td>\n",
              "      <td>0.74</td>\n",
              "    </tr>\n",
              "    <tr>\n",
              "      <th>min</th>\n",
              "      <td>1.00</td>\n",
              "      <td>1.00</td>\n",
              "      <td>4.88</td>\n",
              "      <td>36.39</td>\n",
              "      <td>2.55</td>\n",
              "      <td>410.31</td>\n",
              "      <td>35.74</td>\n",
              "      <td>50.94</td>\n",
              "      <td>8.00</td>\n",
              "      <td>554.92</td>\n",
              "      <td>211.24</td>\n",
              "      <td>6.91</td>\n",
              "      <td>151,315.00</td>\n",
              "      <td>6.00</td>\n",
              "      <td>2.00</td>\n",
              "      <td>2,010.00</td>\n",
              "    </tr>\n",
              "    <tr>\n",
              "      <th>25%</th>\n",
              "      <td>1.00</td>\n",
              "      <td>19.00</td>\n",
              "      <td>3,630.11</td>\n",
              "      <td>44.55</td>\n",
              "      <td>2.73</td>\n",
              "      <td>410.31</td>\n",
              "      <td>98.00</td>\n",
              "      <td>101.64</td>\n",
              "      <td>8.00</td>\n",
              "      <td>554.92</td>\n",
              "      <td>211.50</td>\n",
              "      <td>7.74</td>\n",
              "      <td>151,315.00</td>\n",
              "      <td>6.00</td>\n",
              "      <td>2.00</td>\n",
              "      <td>2,010.00</td>\n",
              "    </tr>\n",
              "    <tr>\n",
              "      <th>50%</th>\n",
              "      <td>1.00</td>\n",
              "      <td>37.00</td>\n",
              "      <td>11,466.41</td>\n",
              "      <td>60.14</td>\n",
              "      <td>3.13</td>\n",
              "      <td>5,204.68</td>\n",
              "      <td>98.00</td>\n",
              "      <td>260.36</td>\n",
              "      <td>983.65</td>\n",
              "      <td>2,737.17</td>\n",
              "      <td>215.86</td>\n",
              "      <td>7.84</td>\n",
              "      <td>151,315.00</td>\n",
              "      <td>36.00</td>\n",
              "      <td>9.00</td>\n",
              "      <td>2,011.00</td>\n",
              "    </tr>\n",
              "    <tr>\n",
              "      <th>75%</th>\n",
              "      <td>1.00</td>\n",
              "      <td>72.00</td>\n",
              "      <td>32,755.31</td>\n",
              "      <td>76.00</td>\n",
              "      <td>3.41</td>\n",
              "      <td>5,762.10</td>\n",
              "      <td>46,011.38</td>\n",
              "      <td>55,805.51</td>\n",
              "      <td>4,120.32</td>\n",
              "      <td>4,735.78</td>\n",
              "      <td>219.54</td>\n",
              "      <td>7.87</td>\n",
              "      <td>151,315.00</td>\n",
              "      <td>47.00</td>\n",
              "      <td>11.00</td>\n",
              "      <td>2,011.00</td>\n",
              "    </tr>\n",
              "    <tr>\n",
              "      <th>max</th>\n",
              "      <td>1.00</td>\n",
              "      <td>99.00</td>\n",
              "      <td>203,670.47</td>\n",
              "      <td>83.96</td>\n",
              "      <td>3.73</td>\n",
              "      <td>13,925.06</td>\n",
              "      <td>46,011.38</td>\n",
              "      <td>55,805.51</td>\n",
              "      <td>8,471.88</td>\n",
              "      <td>6,886.04</td>\n",
              "      <td>222.44</td>\n",
              "      <td>8.11</td>\n",
              "      <td>151,315.00</td>\n",
              "      <td>52.00</td>\n",
              "      <td>12.00</td>\n",
              "      <td>2,012.00</td>\n",
              "    </tr>\n",
              "  </tbody>\n",
              "</table>\n",
              "</div>\n",
              "      <button class=\"colab-df-convert\" onclick=\"convertToInteractive('df-6789c67c-d02a-4c7e-a0c6-05639a9c0567')\"\n",
              "              title=\"Convert this dataframe to an interactive table.\"\n",
              "              style=\"display:none;\">\n",
              "        \n",
              "  <svg xmlns=\"http://www.w3.org/2000/svg\" height=\"24px\"viewBox=\"0 0 24 24\"\n",
              "       width=\"24px\">\n",
              "    <path d=\"M0 0h24v24H0V0z\" fill=\"none\"/>\n",
              "    <path d=\"M18.56 5.44l.94 2.06.94-2.06 2.06-.94-2.06-.94-.94-2.06-.94 2.06-2.06.94zm-11 1L8.5 8.5l.94-2.06 2.06-.94-2.06-.94L8.5 2.5l-.94 2.06-2.06.94zm10 10l.94 2.06.94-2.06 2.06-.94-2.06-.94-.94-2.06-.94 2.06-2.06.94z\"/><path d=\"M17.41 7.96l-1.37-1.37c-.4-.4-.92-.59-1.43-.59-.52 0-1.04.2-1.43.59L10.3 9.45l-7.72 7.72c-.78.78-.78 2.05 0 2.83L4 21.41c.39.39.9.59 1.41.59.51 0 1.02-.2 1.41-.59l7.78-7.78 2.81-2.81c.8-.78.8-2.07 0-2.86zM5.41 20L4 18.59l7.72-7.72 1.47 1.35L5.41 20z\"/>\n",
              "  </svg>\n",
              "      </button>\n",
              "      \n",
              "  <style>\n",
              "    .colab-df-container {\n",
              "      display:flex;\n",
              "      flex-wrap:wrap;\n",
              "      gap: 12px;\n",
              "    }\n",
              "\n",
              "    .colab-df-convert {\n",
              "      background-color: #E8F0FE;\n",
              "      border: none;\n",
              "      border-radius: 50%;\n",
              "      cursor: pointer;\n",
              "      display: none;\n",
              "      fill: #1967D2;\n",
              "      height: 32px;\n",
              "      padding: 0 0 0 0;\n",
              "      width: 32px;\n",
              "    }\n",
              "\n",
              "    .colab-df-convert:hover {\n",
              "      background-color: #E2EBFA;\n",
              "      box-shadow: 0px 1px 2px rgba(60, 64, 67, 0.3), 0px 1px 3px 1px rgba(60, 64, 67, 0.15);\n",
              "      fill: #174EA6;\n",
              "    }\n",
              "\n",
              "    [theme=dark] .colab-df-convert {\n",
              "      background-color: #3B4455;\n",
              "      fill: #D2E3FC;\n",
              "    }\n",
              "\n",
              "    [theme=dark] .colab-df-convert:hover {\n",
              "      background-color: #434B5C;\n",
              "      box-shadow: 0px 1px 3px 1px rgba(0, 0, 0, 0.15);\n",
              "      filter: drop-shadow(0px 1px 2px rgba(0, 0, 0, 0.3));\n",
              "      fill: #FFFFFF;\n",
              "    }\n",
              "  </style>\n",
              "\n",
              "      <script>\n",
              "        const buttonEl =\n",
              "          document.querySelector('#df-6789c67c-d02a-4c7e-a0c6-05639a9c0567 button.colab-df-convert');\n",
              "        buttonEl.style.display =\n",
              "          google.colab.kernel.accessAllowed ? 'block' : 'none';\n",
              "\n",
              "        async function convertToInteractive(key) {\n",
              "          const element = document.querySelector('#df-6789c67c-d02a-4c7e-a0c6-05639a9c0567');\n",
              "          const dataTable =\n",
              "            await google.colab.kernel.invokeFunction('convertToInteractive',\n",
              "                                                     [key], {});\n",
              "          if (!dataTable) return;\n",
              "\n",
              "          const docLinkHtml = 'Like what you see? Visit the ' +\n",
              "            '<a target=\"_blank\" href=https://colab.research.google.com/notebooks/data_table.ipynb>data table notebook</a>'\n",
              "            + ' to learn more about interactive tables.';\n",
              "          element.innerHTML = '';\n",
              "          dataTable['output_type'] = 'display_data';\n",
              "          await google.colab.output.renderOutput(dataTable, element);\n",
              "          const docLink = document.createElement('div');\n",
              "          docLink.innerHTML = docLinkHtml;\n",
              "          element.appendChild(docLink);\n",
              "        }\n",
              "      </script>\n",
              "    </div>\n",
              "  </div>\n",
              "  "
            ]
          },
          "metadata": {},
          "execution_count": 100
        },
        {
          "output_type": "execute_result",
          "data": {
            "text/plain": [
              "           Store  Dept  Weekly_Sales  Temperature  Fuel_Price  MarkDown1  \\\n",
              "IsHoliday                                                                  \n",
              "False       1.00 44.38     21,426.08        69.07        3.23   8,158.74   \n",
              "True        1.00 44.21     23,277.25        58.28        3.10   6,207.36   \n",
              "\n",
              "           MarkDown2  MarkDown3  MarkDown4  MarkDown5    CPI  Unemployment  \\\n",
              "IsHoliday                                                                    \n",
              "False       1,793.60     112.61   3,823.22   5,146.11 216.00          7.60   \n",
              "True       13,412.36  14,552.90   3,306.39   3,680.87 215.63          7.73   \n",
              "\n",
              "                Size  week  month     year  superbowl  laborday  thanksgiving  \\\n",
              "IsHoliday                                                                       \n",
              "False     151,315.00 25.36   6.35 2,010.97       0.00      0.00          0.00   \n",
              "True      151,315.00 32.55   7.94 2,010.81       0.29      0.31          0.20   \n",
              "\n",
              "           christmas  \n",
              "IsHoliday             \n",
              "False           0.00  \n",
              "True            0.19  "
            ],
            "text/html": [
              "\n",
              "  <div id=\"df-d3e29dd0-dffa-4b6b-af22-02ffadab80f0\">\n",
              "    <div class=\"colab-df-container\">\n",
              "      <div>\n",
              "<style scoped>\n",
              "    .dataframe tbody tr th:only-of-type {\n",
              "        vertical-align: middle;\n",
              "    }\n",
              "\n",
              "    .dataframe tbody tr th {\n",
              "        vertical-align: top;\n",
              "    }\n",
              "\n",
              "    .dataframe thead th {\n",
              "        text-align: right;\n",
              "    }\n",
              "</style>\n",
              "<table border=\"1\" class=\"dataframe\">\n",
              "  <thead>\n",
              "    <tr style=\"text-align: right;\">\n",
              "      <th></th>\n",
              "      <th>Store</th>\n",
              "      <th>Dept</th>\n",
              "      <th>Weekly_Sales</th>\n",
              "      <th>Temperature</th>\n",
              "      <th>Fuel_Price</th>\n",
              "      <th>MarkDown1</th>\n",
              "      <th>MarkDown2</th>\n",
              "      <th>MarkDown3</th>\n",
              "      <th>MarkDown4</th>\n",
              "      <th>MarkDown5</th>\n",
              "      <th>CPI</th>\n",
              "      <th>Unemployment</th>\n",
              "      <th>Size</th>\n",
              "      <th>week</th>\n",
              "      <th>month</th>\n",
              "      <th>year</th>\n",
              "      <th>superbowl</th>\n",
              "      <th>laborday</th>\n",
              "      <th>thanksgiving</th>\n",
              "      <th>christmas</th>\n",
              "    </tr>\n",
              "    <tr>\n",
              "      <th>IsHoliday</th>\n",
              "      <th></th>\n",
              "      <th></th>\n",
              "      <th></th>\n",
              "      <th></th>\n",
              "      <th></th>\n",
              "      <th></th>\n",
              "      <th></th>\n",
              "      <th></th>\n",
              "      <th></th>\n",
              "      <th></th>\n",
              "      <th></th>\n",
              "      <th></th>\n",
              "      <th></th>\n",
              "      <th></th>\n",
              "      <th></th>\n",
              "      <th></th>\n",
              "      <th></th>\n",
              "      <th></th>\n",
              "      <th></th>\n",
              "      <th></th>\n",
              "    </tr>\n",
              "  </thead>\n",
              "  <tbody>\n",
              "    <tr>\n",
              "      <th>False</th>\n",
              "      <td>1.00</td>\n",
              "      <td>44.38</td>\n",
              "      <td>21,426.08</td>\n",
              "      <td>69.07</td>\n",
              "      <td>3.23</td>\n",
              "      <td>8,158.74</td>\n",
              "      <td>1,793.60</td>\n",
              "      <td>112.61</td>\n",
              "      <td>3,823.22</td>\n",
              "      <td>5,146.11</td>\n",
              "      <td>216.00</td>\n",
              "      <td>7.60</td>\n",
              "      <td>151,315.00</td>\n",
              "      <td>25.36</td>\n",
              "      <td>6.35</td>\n",
              "      <td>2,010.97</td>\n",
              "      <td>0.00</td>\n",
              "      <td>0.00</td>\n",
              "      <td>0.00</td>\n",
              "      <td>0.00</td>\n",
              "    </tr>\n",
              "    <tr>\n",
              "      <th>True</th>\n",
              "      <td>1.00</td>\n",
              "      <td>44.21</td>\n",
              "      <td>23,277.25</td>\n",
              "      <td>58.28</td>\n",
              "      <td>3.10</td>\n",
              "      <td>6,207.36</td>\n",
              "      <td>13,412.36</td>\n",
              "      <td>14,552.90</td>\n",
              "      <td>3,306.39</td>\n",
              "      <td>3,680.87</td>\n",
              "      <td>215.63</td>\n",
              "      <td>7.73</td>\n",
              "      <td>151,315.00</td>\n",
              "      <td>32.55</td>\n",
              "      <td>7.94</td>\n",
              "      <td>2,010.81</td>\n",
              "      <td>0.29</td>\n",
              "      <td>0.31</td>\n",
              "      <td>0.20</td>\n",
              "      <td>0.19</td>\n",
              "    </tr>\n",
              "  </tbody>\n",
              "</table>\n",
              "</div>\n",
              "      <button class=\"colab-df-convert\" onclick=\"convertToInteractive('df-d3e29dd0-dffa-4b6b-af22-02ffadab80f0')\"\n",
              "              title=\"Convert this dataframe to an interactive table.\"\n",
              "              style=\"display:none;\">\n",
              "        \n",
              "  <svg xmlns=\"http://www.w3.org/2000/svg\" height=\"24px\"viewBox=\"0 0 24 24\"\n",
              "       width=\"24px\">\n",
              "    <path d=\"M0 0h24v24H0V0z\" fill=\"none\"/>\n",
              "    <path d=\"M18.56 5.44l.94 2.06.94-2.06 2.06-.94-2.06-.94-.94-2.06-.94 2.06-2.06.94zm-11 1L8.5 8.5l.94-2.06 2.06-.94-2.06-.94L8.5 2.5l-.94 2.06-2.06.94zm10 10l.94 2.06.94-2.06 2.06-.94-2.06-.94-.94-2.06-.94 2.06-2.06.94z\"/><path d=\"M17.41 7.96l-1.37-1.37c-.4-.4-.92-.59-1.43-.59-.52 0-1.04.2-1.43.59L10.3 9.45l-7.72 7.72c-.78.78-.78 2.05 0 2.83L4 21.41c.39.39.9.59 1.41.59.51 0 1.02-.2 1.41-.59l7.78-7.78 2.81-2.81c.8-.78.8-2.07 0-2.86zM5.41 20L4 18.59l7.72-7.72 1.47 1.35L5.41 20z\"/>\n",
              "  </svg>\n",
              "      </button>\n",
              "      \n",
              "  <style>\n",
              "    .colab-df-container {\n",
              "      display:flex;\n",
              "      flex-wrap:wrap;\n",
              "      gap: 12px;\n",
              "    }\n",
              "\n",
              "    .colab-df-convert {\n",
              "      background-color: #E8F0FE;\n",
              "      border: none;\n",
              "      border-radius: 50%;\n",
              "      cursor: pointer;\n",
              "      display: none;\n",
              "      fill: #1967D2;\n",
              "      height: 32px;\n",
              "      padding: 0 0 0 0;\n",
              "      width: 32px;\n",
              "    }\n",
              "\n",
              "    .colab-df-convert:hover {\n",
              "      background-color: #E2EBFA;\n",
              "      box-shadow: 0px 1px 2px rgba(60, 64, 67, 0.3), 0px 1px 3px 1px rgba(60, 64, 67, 0.15);\n",
              "      fill: #174EA6;\n",
              "    }\n",
              "\n",
              "    [theme=dark] .colab-df-convert {\n",
              "      background-color: #3B4455;\n",
              "      fill: #D2E3FC;\n",
              "    }\n",
              "\n",
              "    [theme=dark] .colab-df-convert:hover {\n",
              "      background-color: #434B5C;\n",
              "      box-shadow: 0px 1px 3px 1px rgba(0, 0, 0, 0.15);\n",
              "      filter: drop-shadow(0px 1px 2px rgba(0, 0, 0, 0.3));\n",
              "      fill: #FFFFFF;\n",
              "    }\n",
              "  </style>\n",
              "\n",
              "      <script>\n",
              "        const buttonEl =\n",
              "          document.querySelector('#df-d3e29dd0-dffa-4b6b-af22-02ffadab80f0 button.colab-df-convert');\n",
              "        buttonEl.style.display =\n",
              "          google.colab.kernel.accessAllowed ? 'block' : 'none';\n",
              "\n",
              "        async function convertToInteractive(key) {\n",
              "          const element = document.querySelector('#df-d3e29dd0-dffa-4b6b-af22-02ffadab80f0');\n",
              "          const dataTable =\n",
              "            await google.colab.kernel.invokeFunction('convertToInteractive',\n",
              "                                                     [key], {});\n",
              "          if (!dataTable) return;\n",
              "\n",
              "          const docLinkHtml = 'Like what you see? Visit the ' +\n",
              "            '<a target=\"_blank\" href=https://colab.research.google.com/notebooks/data_table.ipynb>data table notebook</a>'\n",
              "            + ' to learn more about interactive tables.';\n",
              "          element.innerHTML = '';\n",
              "          dataTable['output_type'] = 'display_data';\n",
              "          await google.colab.output.renderOutput(dataTable, element);\n",
              "          const docLink = document.createElement('div');\n",
              "          docLink.innerHTML = docLinkHtml;\n",
              "          element.appendChild(docLink);\n",
              "        }\n",
              "      </script>\n",
              "    </div>\n",
              "  </div>\n",
              "  "
            ]
          },
          "metadata": {},
          "execution_count": 100
        }
      ],
      "source": [
        "df_train[df_train.IsHoliday].describe()\n",
        "df_train_holidays = df_train.IsHoliday\n",
        "df_train.groupby(['IsHoliday']).mean()"
      ]
    },
    {
      "cell_type": "markdown",
      "id": "2c06d48a",
      "metadata": {
        "id": "2c06d48a"
      },
      "source": [
        "<details>\n",
        "<summary>Expected Output</summary>\n",
        "\n",
        "```\n",
        "IsHoliday\n",
        "False   21,756.05\n",
        "True    23,737.05\n",
        "Name: Weekly_Sales, dtype: float64\n",
        "```\n",
        "</details>\n"
      ]
    },
    {
      "cell_type": "markdown",
      "id": "b78e1c70",
      "metadata": {
        "id": "b78e1c70"
      },
      "source": [
        "But we would like to understand it at more granular level, remember [Simpson's paradox](https://en.wikipedia.org/wiki/Simpson's_paradox)? To save some time,  date mapping are identified for the training data\n",
        "\n",
        "- Super Bowl: 12-Feb-10, 11-Feb-11, 10-Feb-12\n",
        "- Labor Day: 10-Sep-10, 9-Sep-11, 7-Sep-12\n",
        "- Thanksgiving: 26-Nov-10, 25-Nov-11\n",
        "- Christmas: 31-Dec-10, 30-Dec-11"
      ]
    },
    {
      "cell_type": "markdown",
      "id": "1dfee7f9",
      "metadata": {
        "id": "1dfee7f9"
      },
      "source": [
        "We create a flag for each holiday to help you analyze weekly sale by each holiday type"
      ]
    },
    {
      "cell_type": "code",
      "execution_count": 101,
      "id": "c6193c58",
      "metadata": {
        "id": "c6193c58"
      },
      "outputs": [],
      "source": [
        "superbowl_mask = df_train['Date'].isin(['2010-02-12', '2011-02-11', '2012-02-10'])\n",
        "laborday_mask = df_train['Date'].isin(['2010-09-10', '2011-09-09','2012-09-07'])\n",
        "thanksgiving_mask = df_train['Date'].isin(['2010-11-26', '2011-11-25'])\n",
        "christmas_mask = df_train['Date'].isin(['2010-12-31', '2011-12-30'])"
      ]
    },
    {
      "cell_type": "code",
      "execution_count": 102,
      "id": "125ace7c",
      "metadata": {
        "id": "125ace7c"
      },
      "outputs": [],
      "source": [
        "df_train['superbowl'] = superbowl_mask\n",
        "df_train['laborday'] = laborday_mask\n",
        "df_train['thanksgiving'] =thanksgiving_mask\n",
        "df_train['christmas'] = christmas_mask"
      ]
    },
    {
      "cell_type": "markdown",
      "id": "c936a755",
      "metadata": {
        "id": "c936a755"
      },
      "source": [
        "Run the next cell to see 1) how many weekly sales fell on Christmas (does it make sense? what did we not account for?) 2) what is the average weekly sales stratified by whether it is Christmas week or not?"
      ]
    },
    {
      "cell_type": "code",
      "execution_count": 103,
      "id": "8ba7d867",
      "metadata": {
        "colab": {
          "base_uri": "https://localhost:8080/",
          "height": 142
        },
        "id": "8ba7d867",
        "outputId": "d4926124-f2bb-4b7c-f841-c5b631e2c587"
      },
      "outputs": [
        {
          "output_type": "execute_result",
          "data": {
            "text/plain": [
              "           count  avg_weekly_sales\n",
              "christmas                         \n",
              "False       7575         21,603.96\n",
              "True         108         18,445.32"
            ],
            "text/html": [
              "\n",
              "  <div id=\"df-e12dc498-2e71-4192-9046-a1633190f70a\">\n",
              "    <div class=\"colab-df-container\">\n",
              "      <div>\n",
              "<style scoped>\n",
              "    .dataframe tbody tr th:only-of-type {\n",
              "        vertical-align: middle;\n",
              "    }\n",
              "\n",
              "    .dataframe tbody tr th {\n",
              "        vertical-align: top;\n",
              "    }\n",
              "\n",
              "    .dataframe thead th {\n",
              "        text-align: right;\n",
              "    }\n",
              "</style>\n",
              "<table border=\"1\" class=\"dataframe\">\n",
              "  <thead>\n",
              "    <tr style=\"text-align: right;\">\n",
              "      <th></th>\n",
              "      <th>count</th>\n",
              "      <th>avg_weekly_sales</th>\n",
              "    </tr>\n",
              "    <tr>\n",
              "      <th>christmas</th>\n",
              "      <th></th>\n",
              "      <th></th>\n",
              "    </tr>\n",
              "  </thead>\n",
              "  <tbody>\n",
              "    <tr>\n",
              "      <th>False</th>\n",
              "      <td>7575</td>\n",
              "      <td>21,603.96</td>\n",
              "    </tr>\n",
              "    <tr>\n",
              "      <th>True</th>\n",
              "      <td>108</td>\n",
              "      <td>18,445.32</td>\n",
              "    </tr>\n",
              "  </tbody>\n",
              "</table>\n",
              "</div>\n",
              "      <button class=\"colab-df-convert\" onclick=\"convertToInteractive('df-e12dc498-2e71-4192-9046-a1633190f70a')\"\n",
              "              title=\"Convert this dataframe to an interactive table.\"\n",
              "              style=\"display:none;\">\n",
              "        \n",
              "  <svg xmlns=\"http://www.w3.org/2000/svg\" height=\"24px\"viewBox=\"0 0 24 24\"\n",
              "       width=\"24px\">\n",
              "    <path d=\"M0 0h24v24H0V0z\" fill=\"none\"/>\n",
              "    <path d=\"M18.56 5.44l.94 2.06.94-2.06 2.06-.94-2.06-.94-.94-2.06-.94 2.06-2.06.94zm-11 1L8.5 8.5l.94-2.06 2.06-.94-2.06-.94L8.5 2.5l-.94 2.06-2.06.94zm10 10l.94 2.06.94-2.06 2.06-.94-2.06-.94-.94-2.06-.94 2.06-2.06.94z\"/><path d=\"M17.41 7.96l-1.37-1.37c-.4-.4-.92-.59-1.43-.59-.52 0-1.04.2-1.43.59L10.3 9.45l-7.72 7.72c-.78.78-.78 2.05 0 2.83L4 21.41c.39.39.9.59 1.41.59.51 0 1.02-.2 1.41-.59l7.78-7.78 2.81-2.81c.8-.78.8-2.07 0-2.86zM5.41 20L4 18.59l7.72-7.72 1.47 1.35L5.41 20z\"/>\n",
              "  </svg>\n",
              "      </button>\n",
              "      \n",
              "  <style>\n",
              "    .colab-df-container {\n",
              "      display:flex;\n",
              "      flex-wrap:wrap;\n",
              "      gap: 12px;\n",
              "    }\n",
              "\n",
              "    .colab-df-convert {\n",
              "      background-color: #E8F0FE;\n",
              "      border: none;\n",
              "      border-radius: 50%;\n",
              "      cursor: pointer;\n",
              "      display: none;\n",
              "      fill: #1967D2;\n",
              "      height: 32px;\n",
              "      padding: 0 0 0 0;\n",
              "      width: 32px;\n",
              "    }\n",
              "\n",
              "    .colab-df-convert:hover {\n",
              "      background-color: #E2EBFA;\n",
              "      box-shadow: 0px 1px 2px rgba(60, 64, 67, 0.3), 0px 1px 3px 1px rgba(60, 64, 67, 0.15);\n",
              "      fill: #174EA6;\n",
              "    }\n",
              "\n",
              "    [theme=dark] .colab-df-convert {\n",
              "      background-color: #3B4455;\n",
              "      fill: #D2E3FC;\n",
              "    }\n",
              "\n",
              "    [theme=dark] .colab-df-convert:hover {\n",
              "      background-color: #434B5C;\n",
              "      box-shadow: 0px 1px 3px 1px rgba(0, 0, 0, 0.15);\n",
              "      filter: drop-shadow(0px 1px 2px rgba(0, 0, 0, 0.3));\n",
              "      fill: #FFFFFF;\n",
              "    }\n",
              "  </style>\n",
              "\n",
              "      <script>\n",
              "        const buttonEl =\n",
              "          document.querySelector('#df-e12dc498-2e71-4192-9046-a1633190f70a button.colab-df-convert');\n",
              "        buttonEl.style.display =\n",
              "          google.colab.kernel.accessAllowed ? 'block' : 'none';\n",
              "\n",
              "        async function convertToInteractive(key) {\n",
              "          const element = document.querySelector('#df-e12dc498-2e71-4192-9046-a1633190f70a');\n",
              "          const dataTable =\n",
              "            await google.colab.kernel.invokeFunction('convertToInteractive',\n",
              "                                                     [key], {});\n",
              "          if (!dataTable) return;\n",
              "\n",
              "          const docLinkHtml = 'Like what you see? Visit the ' +\n",
              "            '<a target=\"_blank\" href=https://colab.research.google.com/notebooks/data_table.ipynb>data table notebook</a>'\n",
              "            + ' to learn more about interactive tables.';\n",
              "          element.innerHTML = '';\n",
              "          dataTable['output_type'] = 'display_data';\n",
              "          await google.colab.output.renderOutput(dataTable, element);\n",
              "          const docLink = document.createElement('div');\n",
              "          docLink.innerHTML = docLinkHtml;\n",
              "          element.appendChild(docLink);\n",
              "        }\n",
              "      </script>\n",
              "    </div>\n",
              "  </div>\n",
              "  "
            ]
          },
          "metadata": {},
          "execution_count": 103
        }
      ],
      "source": [
        "df_train.groupby(['christmas'])\\\n",
        "        .agg(count = ('christmas', 'size'), \n",
        "             avg_weekly_sales = ('Weekly_Sales','mean'))"
      ]
    },
    {
      "cell_type": "markdown",
      "id": "70af8383",
      "metadata": {
        "id": "70af8383"
      },
      "source": [
        "Perform the same for the other three holidays:"
      ]
    },
    {
      "cell_type": "code",
      "source": [
        "df_train.groupby(['superbowl'])\\\n",
        "        .agg(count = ('superbowl', 'size'), \n",
        "             avg_weekly_sales = ('Weekly_Sales','mean'))"
      ],
      "metadata": {
        "id": "9aI3Oz7x6GYm"
      },
      "id": "9aI3Oz7x6GYm",
      "execution_count": null,
      "outputs": []
    },
    {
      "cell_type": "code",
      "execution_count": 116,
      "id": "ba8c5637",
      "metadata": {
        "colab": {
          "base_uri": "https://localhost:8080/",
          "height": 517
        },
        "id": "ba8c5637",
        "outputId": "50d86b40-0032-4251-9291-d2a982e55185"
      },
      "outputs": [
        {
          "output_type": "execute_result",
          "data": {
            "text/plain": [
              "           count  avg_weekly_sales\n",
              "superbowl                         \n",
              "False       7521         21,486.16\n",
              "True         162         24,967.34"
            ],
            "text/html": [
              "\n",
              "  <div id=\"df-909556c4-1e94-409e-9601-e26701402b03\">\n",
              "    <div class=\"colab-df-container\">\n",
              "      <div>\n",
              "<style scoped>\n",
              "    .dataframe tbody tr th:only-of-type {\n",
              "        vertical-align: middle;\n",
              "    }\n",
              "\n",
              "    .dataframe tbody tr th {\n",
              "        vertical-align: top;\n",
              "    }\n",
              "\n",
              "    .dataframe thead th {\n",
              "        text-align: right;\n",
              "    }\n",
              "</style>\n",
              "<table border=\"1\" class=\"dataframe\">\n",
              "  <thead>\n",
              "    <tr style=\"text-align: right;\">\n",
              "      <th></th>\n",
              "      <th>count</th>\n",
              "      <th>avg_weekly_sales</th>\n",
              "    </tr>\n",
              "    <tr>\n",
              "      <th>superbowl</th>\n",
              "      <th></th>\n",
              "      <th></th>\n",
              "    </tr>\n",
              "  </thead>\n",
              "  <tbody>\n",
              "    <tr>\n",
              "      <th>False</th>\n",
              "      <td>7521</td>\n",
              "      <td>21,486.16</td>\n",
              "    </tr>\n",
              "    <tr>\n",
              "      <th>True</th>\n",
              "      <td>162</td>\n",
              "      <td>24,967.34</td>\n",
              "    </tr>\n",
              "  </tbody>\n",
              "</table>\n",
              "</div>\n",
              "      <button class=\"colab-df-convert\" onclick=\"convertToInteractive('df-909556c4-1e94-409e-9601-e26701402b03')\"\n",
              "              title=\"Convert this dataframe to an interactive table.\"\n",
              "              style=\"display:none;\">\n",
              "        \n",
              "  <svg xmlns=\"http://www.w3.org/2000/svg\" height=\"24px\"viewBox=\"0 0 24 24\"\n",
              "       width=\"24px\">\n",
              "    <path d=\"M0 0h24v24H0V0z\" fill=\"none\"/>\n",
              "    <path d=\"M18.56 5.44l.94 2.06.94-2.06 2.06-.94-2.06-.94-.94-2.06-.94 2.06-2.06.94zm-11 1L8.5 8.5l.94-2.06 2.06-.94-2.06-.94L8.5 2.5l-.94 2.06-2.06.94zm10 10l.94 2.06.94-2.06 2.06-.94-2.06-.94-.94-2.06-.94 2.06-2.06.94z\"/><path d=\"M17.41 7.96l-1.37-1.37c-.4-.4-.92-.59-1.43-.59-.52 0-1.04.2-1.43.59L10.3 9.45l-7.72 7.72c-.78.78-.78 2.05 0 2.83L4 21.41c.39.39.9.59 1.41.59.51 0 1.02-.2 1.41-.59l7.78-7.78 2.81-2.81c.8-.78.8-2.07 0-2.86zM5.41 20L4 18.59l7.72-7.72 1.47 1.35L5.41 20z\"/>\n",
              "  </svg>\n",
              "      </button>\n",
              "      \n",
              "  <style>\n",
              "    .colab-df-container {\n",
              "      display:flex;\n",
              "      flex-wrap:wrap;\n",
              "      gap: 12px;\n",
              "    }\n",
              "\n",
              "    .colab-df-convert {\n",
              "      background-color: #E8F0FE;\n",
              "      border: none;\n",
              "      border-radius: 50%;\n",
              "      cursor: pointer;\n",
              "      display: none;\n",
              "      fill: #1967D2;\n",
              "      height: 32px;\n",
              "      padding: 0 0 0 0;\n",
              "      width: 32px;\n",
              "    }\n",
              "\n",
              "    .colab-df-convert:hover {\n",
              "      background-color: #E2EBFA;\n",
              "      box-shadow: 0px 1px 2px rgba(60, 64, 67, 0.3), 0px 1px 3px 1px rgba(60, 64, 67, 0.15);\n",
              "      fill: #174EA6;\n",
              "    }\n",
              "\n",
              "    [theme=dark] .colab-df-convert {\n",
              "      background-color: #3B4455;\n",
              "      fill: #D2E3FC;\n",
              "    }\n",
              "\n",
              "    [theme=dark] .colab-df-convert:hover {\n",
              "      background-color: #434B5C;\n",
              "      box-shadow: 0px 1px 3px 1px rgba(0, 0, 0, 0.15);\n",
              "      filter: drop-shadow(0px 1px 2px rgba(0, 0, 0, 0.3));\n",
              "      fill: #FFFFFF;\n",
              "    }\n",
              "  </style>\n",
              "\n",
              "      <script>\n",
              "        const buttonEl =\n",
              "          document.querySelector('#df-909556c4-1e94-409e-9601-e26701402b03 button.colab-df-convert');\n",
              "        buttonEl.style.display =\n",
              "          google.colab.kernel.accessAllowed ? 'block' : 'none';\n",
              "\n",
              "        async function convertToInteractive(key) {\n",
              "          const element = document.querySelector('#df-909556c4-1e94-409e-9601-e26701402b03');\n",
              "          const dataTable =\n",
              "            await google.colab.kernel.invokeFunction('convertToInteractive',\n",
              "                                                     [key], {});\n",
              "          if (!dataTable) return;\n",
              "\n",
              "          const docLinkHtml = 'Like what you see? Visit the ' +\n",
              "            '<a target=\"_blank\" href=https://colab.research.google.com/notebooks/data_table.ipynb>data table notebook</a>'\n",
              "            + ' to learn more about interactive tables.';\n",
              "          element.innerHTML = '';\n",
              "          dataTable['output_type'] = 'display_data';\n",
              "          await google.colab.output.renderOutput(dataTable, element);\n",
              "          const docLink = document.createElement('div');\n",
              "          docLink.innerHTML = docLinkHtml;\n",
              "          element.appendChild(docLink);\n",
              "        }\n",
              "      </script>\n",
              "    </div>\n",
              "  </div>\n",
              "  "
            ]
          },
          "metadata": {},
          "execution_count": 116
        },
        {
          "output_type": "execute_result",
          "data": {
            "text/plain": [
              "          count  avg_weekly_sales\n",
              "laborday                         \n",
              "False      7510         21,555.78\n",
              "True        173         21,723.59"
            ],
            "text/html": [
              "\n",
              "  <div id=\"df-2fa50cd3-2153-4344-babf-f95bef9715ef\">\n",
              "    <div class=\"colab-df-container\">\n",
              "      <div>\n",
              "<style scoped>\n",
              "    .dataframe tbody tr th:only-of-type {\n",
              "        vertical-align: middle;\n",
              "    }\n",
              "\n",
              "    .dataframe tbody tr th {\n",
              "        vertical-align: top;\n",
              "    }\n",
              "\n",
              "    .dataframe thead th {\n",
              "        text-align: right;\n",
              "    }\n",
              "</style>\n",
              "<table border=\"1\" class=\"dataframe\">\n",
              "  <thead>\n",
              "    <tr style=\"text-align: right;\">\n",
              "      <th></th>\n",
              "      <th>count</th>\n",
              "      <th>avg_weekly_sales</th>\n",
              "    </tr>\n",
              "    <tr>\n",
              "      <th>laborday</th>\n",
              "      <th></th>\n",
              "      <th></th>\n",
              "    </tr>\n",
              "  </thead>\n",
              "  <tbody>\n",
              "    <tr>\n",
              "      <th>False</th>\n",
              "      <td>7510</td>\n",
              "      <td>21,555.78</td>\n",
              "    </tr>\n",
              "    <tr>\n",
              "      <th>True</th>\n",
              "      <td>173</td>\n",
              "      <td>21,723.59</td>\n",
              "    </tr>\n",
              "  </tbody>\n",
              "</table>\n",
              "</div>\n",
              "      <button class=\"colab-df-convert\" onclick=\"convertToInteractive('df-2fa50cd3-2153-4344-babf-f95bef9715ef')\"\n",
              "              title=\"Convert this dataframe to an interactive table.\"\n",
              "              style=\"display:none;\">\n",
              "        \n",
              "  <svg xmlns=\"http://www.w3.org/2000/svg\" height=\"24px\"viewBox=\"0 0 24 24\"\n",
              "       width=\"24px\">\n",
              "    <path d=\"M0 0h24v24H0V0z\" fill=\"none\"/>\n",
              "    <path d=\"M18.56 5.44l.94 2.06.94-2.06 2.06-.94-2.06-.94-.94-2.06-.94 2.06-2.06.94zm-11 1L8.5 8.5l.94-2.06 2.06-.94-2.06-.94L8.5 2.5l-.94 2.06-2.06.94zm10 10l.94 2.06.94-2.06 2.06-.94-2.06-.94-.94-2.06-.94 2.06-2.06.94z\"/><path d=\"M17.41 7.96l-1.37-1.37c-.4-.4-.92-.59-1.43-.59-.52 0-1.04.2-1.43.59L10.3 9.45l-7.72 7.72c-.78.78-.78 2.05 0 2.83L4 21.41c.39.39.9.59 1.41.59.51 0 1.02-.2 1.41-.59l7.78-7.78 2.81-2.81c.8-.78.8-2.07 0-2.86zM5.41 20L4 18.59l7.72-7.72 1.47 1.35L5.41 20z\"/>\n",
              "  </svg>\n",
              "      </button>\n",
              "      \n",
              "  <style>\n",
              "    .colab-df-container {\n",
              "      display:flex;\n",
              "      flex-wrap:wrap;\n",
              "      gap: 12px;\n",
              "    }\n",
              "\n",
              "    .colab-df-convert {\n",
              "      background-color: #E8F0FE;\n",
              "      border: none;\n",
              "      border-radius: 50%;\n",
              "      cursor: pointer;\n",
              "      display: none;\n",
              "      fill: #1967D2;\n",
              "      height: 32px;\n",
              "      padding: 0 0 0 0;\n",
              "      width: 32px;\n",
              "    }\n",
              "\n",
              "    .colab-df-convert:hover {\n",
              "      background-color: #E2EBFA;\n",
              "      box-shadow: 0px 1px 2px rgba(60, 64, 67, 0.3), 0px 1px 3px 1px rgba(60, 64, 67, 0.15);\n",
              "      fill: #174EA6;\n",
              "    }\n",
              "\n",
              "    [theme=dark] .colab-df-convert {\n",
              "      background-color: #3B4455;\n",
              "      fill: #D2E3FC;\n",
              "    }\n",
              "\n",
              "    [theme=dark] .colab-df-convert:hover {\n",
              "      background-color: #434B5C;\n",
              "      box-shadow: 0px 1px 3px 1px rgba(0, 0, 0, 0.15);\n",
              "      filter: drop-shadow(0px 1px 2px rgba(0, 0, 0, 0.3));\n",
              "      fill: #FFFFFF;\n",
              "    }\n",
              "  </style>\n",
              "\n",
              "      <script>\n",
              "        const buttonEl =\n",
              "          document.querySelector('#df-2fa50cd3-2153-4344-babf-f95bef9715ef button.colab-df-convert');\n",
              "        buttonEl.style.display =\n",
              "          google.colab.kernel.accessAllowed ? 'block' : 'none';\n",
              "\n",
              "        async function convertToInteractive(key) {\n",
              "          const element = document.querySelector('#df-2fa50cd3-2153-4344-babf-f95bef9715ef');\n",
              "          const dataTable =\n",
              "            await google.colab.kernel.invokeFunction('convertToInteractive',\n",
              "                                                     [key], {});\n",
              "          if (!dataTable) return;\n",
              "\n",
              "          const docLinkHtml = 'Like what you see? Visit the ' +\n",
              "            '<a target=\"_blank\" href=https://colab.research.google.com/notebooks/data_table.ipynb>data table notebook</a>'\n",
              "            + ' to learn more about interactive tables.';\n",
              "          element.innerHTML = '';\n",
              "          dataTable['output_type'] = 'display_data';\n",
              "          await google.colab.output.renderOutput(dataTable, element);\n",
              "          const docLink = document.createElement('div');\n",
              "          docLink.innerHTML = docLinkHtml;\n",
              "          element.appendChild(docLink);\n",
              "        }\n",
              "      </script>\n",
              "    </div>\n",
              "  </div>\n",
              "  "
            ]
          },
          "metadata": {},
          "execution_count": 116
        },
        {
          "output_type": "execute_result",
          "data": {
            "text/plain": [
              "              count  avg_weekly_sales\n",
              "thanksgiving                         \n",
              "False          7572         21,466.12\n",
              "True            111         27,933.43"
            ],
            "text/html": [
              "\n",
              "  <div id=\"df-8d5fe2bc-7ffd-43a8-af50-12c114392cee\">\n",
              "    <div class=\"colab-df-container\">\n",
              "      <div>\n",
              "<style scoped>\n",
              "    .dataframe tbody tr th:only-of-type {\n",
              "        vertical-align: middle;\n",
              "    }\n",
              "\n",
              "    .dataframe tbody tr th {\n",
              "        vertical-align: top;\n",
              "    }\n",
              "\n",
              "    .dataframe thead th {\n",
              "        text-align: right;\n",
              "    }\n",
              "</style>\n",
              "<table border=\"1\" class=\"dataframe\">\n",
              "  <thead>\n",
              "    <tr style=\"text-align: right;\">\n",
              "      <th></th>\n",
              "      <th>count</th>\n",
              "      <th>avg_weekly_sales</th>\n",
              "    </tr>\n",
              "    <tr>\n",
              "      <th>thanksgiving</th>\n",
              "      <th></th>\n",
              "      <th></th>\n",
              "    </tr>\n",
              "  </thead>\n",
              "  <tbody>\n",
              "    <tr>\n",
              "      <th>False</th>\n",
              "      <td>7572</td>\n",
              "      <td>21,466.12</td>\n",
              "    </tr>\n",
              "    <tr>\n",
              "      <th>True</th>\n",
              "      <td>111</td>\n",
              "      <td>27,933.43</td>\n",
              "    </tr>\n",
              "  </tbody>\n",
              "</table>\n",
              "</div>\n",
              "      <button class=\"colab-df-convert\" onclick=\"convertToInteractive('df-8d5fe2bc-7ffd-43a8-af50-12c114392cee')\"\n",
              "              title=\"Convert this dataframe to an interactive table.\"\n",
              "              style=\"display:none;\">\n",
              "        \n",
              "  <svg xmlns=\"http://www.w3.org/2000/svg\" height=\"24px\"viewBox=\"0 0 24 24\"\n",
              "       width=\"24px\">\n",
              "    <path d=\"M0 0h24v24H0V0z\" fill=\"none\"/>\n",
              "    <path d=\"M18.56 5.44l.94 2.06.94-2.06 2.06-.94-2.06-.94-.94-2.06-.94 2.06-2.06.94zm-11 1L8.5 8.5l.94-2.06 2.06-.94-2.06-.94L8.5 2.5l-.94 2.06-2.06.94zm10 10l.94 2.06.94-2.06 2.06-.94-2.06-.94-.94-2.06-.94 2.06-2.06.94z\"/><path d=\"M17.41 7.96l-1.37-1.37c-.4-.4-.92-.59-1.43-.59-.52 0-1.04.2-1.43.59L10.3 9.45l-7.72 7.72c-.78.78-.78 2.05 0 2.83L4 21.41c.39.39.9.59 1.41.59.51 0 1.02-.2 1.41-.59l7.78-7.78 2.81-2.81c.8-.78.8-2.07 0-2.86zM5.41 20L4 18.59l7.72-7.72 1.47 1.35L5.41 20z\"/>\n",
              "  </svg>\n",
              "      </button>\n",
              "      \n",
              "  <style>\n",
              "    .colab-df-container {\n",
              "      display:flex;\n",
              "      flex-wrap:wrap;\n",
              "      gap: 12px;\n",
              "    }\n",
              "\n",
              "    .colab-df-convert {\n",
              "      background-color: #E8F0FE;\n",
              "      border: none;\n",
              "      border-radius: 50%;\n",
              "      cursor: pointer;\n",
              "      display: none;\n",
              "      fill: #1967D2;\n",
              "      height: 32px;\n",
              "      padding: 0 0 0 0;\n",
              "      width: 32px;\n",
              "    }\n",
              "\n",
              "    .colab-df-convert:hover {\n",
              "      background-color: #E2EBFA;\n",
              "      box-shadow: 0px 1px 2px rgba(60, 64, 67, 0.3), 0px 1px 3px 1px rgba(60, 64, 67, 0.15);\n",
              "      fill: #174EA6;\n",
              "    }\n",
              "\n",
              "    [theme=dark] .colab-df-convert {\n",
              "      background-color: #3B4455;\n",
              "      fill: #D2E3FC;\n",
              "    }\n",
              "\n",
              "    [theme=dark] .colab-df-convert:hover {\n",
              "      background-color: #434B5C;\n",
              "      box-shadow: 0px 1px 3px 1px rgba(0, 0, 0, 0.15);\n",
              "      filter: drop-shadow(0px 1px 2px rgba(0, 0, 0, 0.3));\n",
              "      fill: #FFFFFF;\n",
              "    }\n",
              "  </style>\n",
              "\n",
              "      <script>\n",
              "        const buttonEl =\n",
              "          document.querySelector('#df-8d5fe2bc-7ffd-43a8-af50-12c114392cee button.colab-df-convert');\n",
              "        buttonEl.style.display =\n",
              "          google.colab.kernel.accessAllowed ? 'block' : 'none';\n",
              "\n",
              "        async function convertToInteractive(key) {\n",
              "          const element = document.querySelector('#df-8d5fe2bc-7ffd-43a8-af50-12c114392cee');\n",
              "          const dataTable =\n",
              "            await google.colab.kernel.invokeFunction('convertToInteractive',\n",
              "                                                     [key], {});\n",
              "          if (!dataTable) return;\n",
              "\n",
              "          const docLinkHtml = 'Like what you see? Visit the ' +\n",
              "            '<a target=\"_blank\" href=https://colab.research.google.com/notebooks/data_table.ipynb>data table notebook</a>'\n",
              "            + ' to learn more about interactive tables.';\n",
              "          element.innerHTML = '';\n",
              "          dataTable['output_type'] = 'display_data';\n",
              "          await google.colab.output.renderOutput(dataTable, element);\n",
              "          const docLink = document.createElement('div');\n",
              "          docLink.innerHTML = docLinkHtml;\n",
              "          element.appendChild(docLink);\n",
              "        }\n",
              "      </script>\n",
              "    </div>\n",
              "  </div>\n",
              "  "
            ]
          },
          "metadata": {},
          "execution_count": 116
        },
        {
          "output_type": "execute_result",
          "data": {
            "text/plain": [
              "           count  avg_weekly_sales\n",
              "christmas                         \n",
              "False       7575         21,603.96\n",
              "True         108         18,445.32"
            ],
            "text/html": [
              "\n",
              "  <div id=\"df-1907c195-d4db-4b2b-8588-eefa3b66ff3c\">\n",
              "    <div class=\"colab-df-container\">\n",
              "      <div>\n",
              "<style scoped>\n",
              "    .dataframe tbody tr th:only-of-type {\n",
              "        vertical-align: middle;\n",
              "    }\n",
              "\n",
              "    .dataframe tbody tr th {\n",
              "        vertical-align: top;\n",
              "    }\n",
              "\n",
              "    .dataframe thead th {\n",
              "        text-align: right;\n",
              "    }\n",
              "</style>\n",
              "<table border=\"1\" class=\"dataframe\">\n",
              "  <thead>\n",
              "    <tr style=\"text-align: right;\">\n",
              "      <th></th>\n",
              "      <th>count</th>\n",
              "      <th>avg_weekly_sales</th>\n",
              "    </tr>\n",
              "    <tr>\n",
              "      <th>christmas</th>\n",
              "      <th></th>\n",
              "      <th></th>\n",
              "    </tr>\n",
              "  </thead>\n",
              "  <tbody>\n",
              "    <tr>\n",
              "      <th>False</th>\n",
              "      <td>7575</td>\n",
              "      <td>21,603.96</td>\n",
              "    </tr>\n",
              "    <tr>\n",
              "      <th>True</th>\n",
              "      <td>108</td>\n",
              "      <td>18,445.32</td>\n",
              "    </tr>\n",
              "  </tbody>\n",
              "</table>\n",
              "</div>\n",
              "      <button class=\"colab-df-convert\" onclick=\"convertToInteractive('df-1907c195-d4db-4b2b-8588-eefa3b66ff3c')\"\n",
              "              title=\"Convert this dataframe to an interactive table.\"\n",
              "              style=\"display:none;\">\n",
              "        \n",
              "  <svg xmlns=\"http://www.w3.org/2000/svg\" height=\"24px\"viewBox=\"0 0 24 24\"\n",
              "       width=\"24px\">\n",
              "    <path d=\"M0 0h24v24H0V0z\" fill=\"none\"/>\n",
              "    <path d=\"M18.56 5.44l.94 2.06.94-2.06 2.06-.94-2.06-.94-.94-2.06-.94 2.06-2.06.94zm-11 1L8.5 8.5l.94-2.06 2.06-.94-2.06-.94L8.5 2.5l-.94 2.06-2.06.94zm10 10l.94 2.06.94-2.06 2.06-.94-2.06-.94-.94-2.06-.94 2.06-2.06.94z\"/><path d=\"M17.41 7.96l-1.37-1.37c-.4-.4-.92-.59-1.43-.59-.52 0-1.04.2-1.43.59L10.3 9.45l-7.72 7.72c-.78.78-.78 2.05 0 2.83L4 21.41c.39.39.9.59 1.41.59.51 0 1.02-.2 1.41-.59l7.78-7.78 2.81-2.81c.8-.78.8-2.07 0-2.86zM5.41 20L4 18.59l7.72-7.72 1.47 1.35L5.41 20z\"/>\n",
              "  </svg>\n",
              "      </button>\n",
              "      \n",
              "  <style>\n",
              "    .colab-df-container {\n",
              "      display:flex;\n",
              "      flex-wrap:wrap;\n",
              "      gap: 12px;\n",
              "    }\n",
              "\n",
              "    .colab-df-convert {\n",
              "      background-color: #E8F0FE;\n",
              "      border: none;\n",
              "      border-radius: 50%;\n",
              "      cursor: pointer;\n",
              "      display: none;\n",
              "      fill: #1967D2;\n",
              "      height: 32px;\n",
              "      padding: 0 0 0 0;\n",
              "      width: 32px;\n",
              "    }\n",
              "\n",
              "    .colab-df-convert:hover {\n",
              "      background-color: #E2EBFA;\n",
              "      box-shadow: 0px 1px 2px rgba(60, 64, 67, 0.3), 0px 1px 3px 1px rgba(60, 64, 67, 0.15);\n",
              "      fill: #174EA6;\n",
              "    }\n",
              "\n",
              "    [theme=dark] .colab-df-convert {\n",
              "      background-color: #3B4455;\n",
              "      fill: #D2E3FC;\n",
              "    }\n",
              "\n",
              "    [theme=dark] .colab-df-convert:hover {\n",
              "      background-color: #434B5C;\n",
              "      box-shadow: 0px 1px 3px 1px rgba(0, 0, 0, 0.15);\n",
              "      filter: drop-shadow(0px 1px 2px rgba(0, 0, 0, 0.3));\n",
              "      fill: #FFFFFF;\n",
              "    }\n",
              "  </style>\n",
              "\n",
              "      <script>\n",
              "        const buttonEl =\n",
              "          document.querySelector('#df-1907c195-d4db-4b2b-8588-eefa3b66ff3c button.colab-df-convert');\n",
              "        buttonEl.style.display =\n",
              "          google.colab.kernel.accessAllowed ? 'block' : 'none';\n",
              "\n",
              "        async function convertToInteractive(key) {\n",
              "          const element = document.querySelector('#df-1907c195-d4db-4b2b-8588-eefa3b66ff3c');\n",
              "          const dataTable =\n",
              "            await google.colab.kernel.invokeFunction('convertToInteractive',\n",
              "                                                     [key], {});\n",
              "          if (!dataTable) return;\n",
              "\n",
              "          const docLinkHtml = 'Like what you see? Visit the ' +\n",
              "            '<a target=\"_blank\" href=https://colab.research.google.com/notebooks/data_table.ipynb>data table notebook</a>'\n",
              "            + ' to learn more about interactive tables.';\n",
              "          element.innerHTML = '';\n",
              "          dataTable['output_type'] = 'display_data';\n",
              "          await google.colab.output.renderOutput(dataTable, element);\n",
              "          const docLink = document.createElement('div');\n",
              "          docLink.innerHTML = docLinkHtml;\n",
              "          element.appendChild(docLink);\n",
              "        }\n",
              "      </script>\n",
              "    </div>\n",
              "  </div>\n",
              "  "
            ]
          },
          "metadata": {},
          "execution_count": 116
        }
      ],
      "source": [
        "holidays = ['superbowl', 'laborday', 'thanksgiving', 'christmas']\n",
        "for holiday in holidays:\n",
        "  df_train.groupby([holiday])\\\n",
        "        .agg(count = (holiday, 'size'), \n",
        "             avg_weekly_sales = ('Weekly_Sales','mean'))\n",
        "    #summary_stats = df_train.groupby([holiday])\n",
        "    #print(summary_stats)\n"
      ]
    },
    {
      "cell_type": "markdown",
      "id": "f869aaae",
      "metadata": {
        "id": "f869aaae"
      },
      "source": [
        "<details>\n",
        "<summary>Expected Output</summary>\n",
        "\n",
        "```\n",
        "           count  avg_weekly_sales\n",
        "superbowl                         \n",
        "False       8001         21,845.80\n",
        "True         181         24,311.98\n",
        "\n",
        "          count  avg_weekly_sales\n",
        "laborday                         \n",
        "False      8007         21,884.35\n",
        "True        175         22,632.78\n",
        "\n",
        "              count  avg_weekly_sales\n",
        "thanksgiving                         \n",
        "False          8067         21,813.97\n",
        "True            115         27,959.84\n",
        "\n",
        "           count  avg_weekly_sales\n",
        "christmas                         \n",
        "False       8057         21,921.06\n",
        "True         125         20,565.56\n",
        "```\n",
        "</details>\n"
      ]
    },
    {
      "cell_type": "markdown",
      "id": "2e6455d9",
      "metadata": {
        "id": "2e6455d9"
      },
      "source": [
        "Without hypothesis testing and by only eyeballing, it seems like Super Bowl and Thanksgiving has a positive impact on the weekly sales for Store 1 in this training dataset. \n",
        "Discuss with your teammate, are you surprised that during Christmas, sales at Walmart do not go up? Holiday effect, if causal, happened most during Thanksgiving weeks, is this something you expected?"
      ]
    },
    {
      "cell_type": "markdown",
      "source": [
        "Eyeballing suggests only during Super Bowl and Thanksgiving, do the weekly sales go up, but not for Christmas, which makes sense. Most people are home that day, their shopping done. I did expect Thanksgiving average weekly sales to be higher than Christmas average weekly sales, but I don't understand why average weekly sales during Super Bowl is a tad bit high. It is minor, however. Maybe because during Super Bowl, the items bought are food and drink, which are not expensive items and therefore, do not change the average significantly."
      ],
      "metadata": {
        "id": "V4o3Jkav7Aao"
      },
      "id": "V4o3Jkav7Aao"
    },
    {
      "cell_type": "markdown",
      "id": "1482d2d4",
      "metadata": {
        "id": "1482d2d4"
      },
      "source": [
        "We have been ignoring `Dept`, let's take a look at the plot below showing the weekly sales by department in 2011. "
      ]
    },
    {
      "cell_type": "code",
      "execution_count": 114,
      "id": "9cbbb830",
      "metadata": {
        "colab": {
          "base_uri": "https://localhost:8080/",
          "height": 279
        },
        "id": "9cbbb830",
        "outputId": "f19b93a2-c601-4a05-f3a1-a16322324f99"
      },
      "outputs": [
        {
          "output_type": "display_data",
          "data": {
            "text/plain": [
              "<Figure size 720x288 with 1 Axes>"
            ],
            "image/png": "[encoded data removed]"
          },
          "metadata": {
            "needs_background": "light"
          }
        }
      ],
      "source": [
        "plt.figure(figsize=(10,4))\n",
        "sns.scatterplot(data=df_train[df_train.year==2011], x = 'Dept', y= target, hue='IsHoliday');"
      ]
    },
    {
      "cell_type": "markdown",
      "id": "23615096",
      "metadata": {
        "id": "23615096"
      },
      "source": [
        "Dept 72 has a very unusual high weekly sales during the holiday week, but we will need more data to understand if this is data issue, outlier, or special event. "
      ]
    },
    {
      "cell_type": "markdown",
      "id": "1f16a23e",
      "metadata": {
        "id": "1f16a23e"
      },
      "source": [
        "## Task IV: Visualize Relationship between Macroeconomic & External Factors and Sales"
      ]
    },
    {
      "cell_type": "code",
      "execution_count": null,
      "id": "969b20d5",
      "metadata": {
        "id": "969b20d5"
      },
      "outputs": [],
      "source": [
        "sns.lineplot(data=df_train, x=\"Fuel_Price\", y=\"Weekly_Sales\");"
      ]
    },
    {
      "cell_type": "code",
      "execution_count": null,
      "id": "ddfbc301",
      "metadata": {
        "id": "ddfbc301"
      },
      "outputs": [],
      "source": [
        "sns.lineplot(data=df_train, x=\"Temperature\", y=\"Weekly_Sales\");"
      ]
    },
    {
      "cell_type": "code",
      "execution_count": null,
      "id": "336d46dd",
      "metadata": {
        "id": "336d46dd"
      },
      "outputs": [],
      "source": [
        "sns.lineplot(data=df_train, x=\"CPI\", y=\"Weekly_Sales\");"
      ]
    },
    {
      "cell_type": "code",
      "execution_count": null,
      "id": "8696dfee",
      "metadata": {
        "id": "8696dfee"
      },
      "outputs": [],
      "source": [
        "sns.lineplot(data=df_train, x=\"Unemployment\", y=\"Weekly_Sales\");"
      ]
    },
    {
      "cell_type": "markdown",
      "id": "790a2544",
      "metadata": {
        "id": "790a2544"
      },
      "source": [
        "By eyeballing, do you find strong evidence that those are correlated with Walmart's weekly sales? Do you think `lineplot` is an appropriate plot for this?"
      ]
    },
    {
      "cell_type": "markdown",
      "id": "185fcd1d",
      "metadata": {
        "id": "185fcd1d"
      },
      "source": [
        "Lastly, we calculate the spearman correlations among target and external factors and verify that there is no strong linear correlation between the target variable and these features."
      ]
    },
    {
      "cell_type": "code",
      "execution_count": null,
      "id": "edafde35",
      "metadata": {
        "id": "edafde35"
      },
      "outputs": [],
      "source": [
        "plt.figure(figsize=(6, 6))\n",
        "df_train_reduced = df_train[[target] + external_factors]\n",
        "corr = df_train_reduced.corr(method='spearman')\n",
        "heatmap = sns.heatmap(corr.sort_values(by=target, ascending=False),\n",
        "                      vmin=-1, vmax=1, annot=True, fmt='.1g', cmap='BrBG')\n",
        "heatmap.set_title('Features Correlating with Sales Price', fontdict={'fontsize':12}, pad=16);"
      ]
    },
    {
      "cell_type": "markdown",
      "id": "cc6b4c79",
      "metadata": {
        "id": "cc6b4c79"
      },
      "source": [
        "## Task V: Feature Engineering"
      ]
    },
    {
      "cell_type": "markdown",
      "id": "7c9ecd53",
      "metadata": {
        "id": "7c9ecd53"
      },
      "source": [
        "\"*Feature Engineering encapsulates various data engineering techniques such as selecting relevant features, handling missing data, encoding the data, and normalizing it. It is one of the most crucial tasks and plays a major role in determining the outcome of a model.*\" [Ref](https://www.analyticsvidhya.com/blog/2021/10/a-beginners-guide-to-feature-engineering-everything-you-need-to-know/)."
      ]
    },
    {
      "cell_type": "markdown",
      "id": "9ef295e7",
      "metadata": {
        "id": "9ef295e7"
      },
      "source": [
        "One part of feature engineering is to create new features from given data, like `thanksgiving` column earlier was derived from `Date`. Common techniques for tabular data include to add summary statistics of the numerical features such as mean and standard deviation, to create new features from the interaction of multiple features, etc. In this task, however, we will work on handling missing data, normalizing numerical features, and encoding categorical features. "
      ]
    },
    {
      "cell_type": "markdown",
      "id": "e112542e",
      "metadata": {
        "id": "e112542e"
      },
      "source": [
        "First, missing data. Missing value treatment is crucial, yet not trivial. Take a read on [Tackling Missing Value in Dataset](https://www.analyticsvidhya.com/blog/2021/10/handling-missing-value/) for detailed explanation. Features with nulls or wrong values (e.g., negative fuel price) needs to be imputed or removed. \n",
        "\n",
        "- Do you want to keep the features with missing value? Discuss the trade offs\n",
        "- If answer to the first question is yes, then how do you want to impute them? Discuss the trade offs"
      ]
    },
    {
      "cell_type": "markdown",
      "id": "2f42d205",
      "metadata": {
        "id": "2f42d205"
      },
      "source": [
        "From ealier steps, we observed that only the markdown columns contain missing values, yet we do not have more information on what those values are for.  "
      ]
    },
    {
      "cell_type": "code",
      "execution_count": null,
      "id": "57607650",
      "metadata": {
        "id": "57607650"
      },
      "outputs": [],
      "source": [
        "df_train.columns[df_train.isna().sum() != 0]"
      ]
    },
    {
      "cell_type": "markdown",
      "id": "73ff8e3a",
      "metadata": {
        "id": "73ff8e3a"
      },
      "source": [
        "For each column, find out the percentage of the data is missing"
      ]
    },
    {
      "cell_type": "code",
      "execution_count": null,
      "id": "c5cc0652",
      "metadata": {
        "scrolled": false,
        "id": "c5cc0652"
      },
      "outputs": [],
      "source": [
        "md_cols = ['MarkDown1', 'MarkDown2', 'MarkDown3', 'MarkDown4', 'MarkDown5']\n",
        "for col in ['MarkDown'+str(i) for i in range(1,6)]:\n",
        "    perc_missing =  # YOUR CODE HERE; perc_missing:float\n",
        "    print (f'{col}: {perc_missing:.0%} is missing')"
      ]
    },
    {
      "cell_type": "markdown",
      "id": "f211b2c4",
      "metadata": {
        "id": "f211b2c4"
      },
      "source": [
        "<details>\n",
        "<summary>Expected Output</summary>\n",
        "\n",
        "```\n",
        "MarkDown1: 64% is missing\n",
        "MarkDown2: 70% is missing\n",
        "MarkDown3: 65% is missing\n",
        "MarkDown4: 64% is missing\n",
        "MarkDown5: 64% is missing\n",
        "```\n",
        "</details>\n"
      ]
    },
    {
      "cell_type": "markdown",
      "id": "546f8286",
      "metadata": {
        "id": "546f8286"
      },
      "source": [
        "The majority of the markdown fields are missing. This is where, again, we need to communicate with the stakeholders to understand what the data measure, how the data was collected and then determine our strategy from there. Since we want to understand the impacts of `MarkDownx` on weekly sales, we will keep the features and impute the missing values.  We have learned that there are tradeoffs with how we treat missing values and that our choice of imputation can be significantly impacted by extreme values and the amount of the missing data.  We choose to impute with the median here to mitigate these negative impacts. Use `.fillna()` to impute the missing values."
      ]
    },
    {
      "cell_type": "code",
      "execution_count": null,
      "id": "1d7f45b3",
      "metadata": {
        "id": "1d7f45b3"
      },
      "outputs": [],
      "source": [
        "# YOUR CODE HERE # this works for smaller dataset"
      ]
    },
    {
      "cell_type": "code",
      "execution_count": null,
      "id": "d09c0d48",
      "metadata": {
        "id": "d09c0d48"
      },
      "outputs": [],
      "source": [
        "(df_train.isna().sum() != 0).sum() # sanity check: 0"
      ]
    },
    {
      "cell_type": "markdown",
      "id": "7a5cb0c1",
      "metadata": {
        "id": "7a5cb0c1"
      },
      "source": [
        "Visualize the distributions for those markdown fields after imputations, are they normal?"
      ]
    },
    {
      "cell_type": "code",
      "execution_count": null,
      "id": "a36d92b3",
      "metadata": {
        "id": "a36d92b3"
      },
      "outputs": [],
      "source": [
        "plt.figure(figsize=figsize)\n",
        "for i in range(len(md_cols)):\n",
        "    plt.subplot(1,len(md_cols),i+1)\n",
        "    sns.distplot(df_train[md_cols[i]],\n",
        "                 hist_kws=dict(linewidth=2),\n",
        "                 bins=10, \n",
        "                 color = colors[i])\n",
        "plt.tight_layout();"
      ]
    },
    {
      "cell_type": "markdown",
      "id": "c388fccb",
      "metadata": {
        "id": "c388fccb"
      },
      "source": [
        "Note that missing values are different from outliers. Outliers, on the other hand, are feature values that are rare in nature. They can unncessarily skew the data and causes problem for modeling. Outlier treatment involves removing or imputing such values. One popular approach to identify outliers is IQR; that is, data points that lie 1.5 times of IQR above Q3 (third quartile) and below Q1 (first quartile) are outliers. Take a read on [Detecting and Treating Outliers](https://www.analyticsvidhya.com/blog/2021/05/detecting-and-treating-outliers-treating-the-odd-one-out/). We will leave it as an optional exercise for you to identify outliers using IQR, and replace the outliers with the median."
      ]
    },
    {
      "cell_type": "markdown",
      "id": "303270c5",
      "metadata": {
        "id": "303270c5"
      },
      "source": [
        "Now let's see how we normalize the data. For numerical features it means scaling the features to be of similar range. This step is crucial for machine learning algorithms that calculate distances between data (e.g., read [The Importance of Feature Scaling](https://scikit-learn.org/stable/auto_examples/preprocessing/plot_scaling_importance.html). "
      ]
    },
    {
      "cell_type": "markdown",
      "id": "6df6fd06",
      "metadata": {
        "id": "6df6fd06"
      },
      "source": [
        "For this task, of the external features, let's keep Temperature since it is the most linearly correlated with the target variable, though very weak and negative ( feature selection ). In addition, we include one markdown field. Since neither seems to follow normal distributions, it is safer to use `MinMaxScaler` from `sklearn.preprocessing` to transform features by scaling each feature to a given range (See discussion on [Normalization vs Standardization](https://www.analyticsvidhya.com/blog/2020/04/feature-scaling-machine-learning-normalization-standardization/))"
      ]
    },
    {
      "cell_type": "code",
      "execution_count": null,
      "id": "0deef21e",
      "metadata": {
        "id": "0deef21e"
      },
      "outputs": [],
      "source": [
        "from sklearn.preprocessing import MinMaxScaler\n",
        "\n",
        "numericalFeatures = ['Temperature', 'MarkDown1']\n",
        "df_train_num = df_train[numericalFeatures]"
      ]
    },
    {
      "cell_type": "code",
      "execution_count": null,
      "id": "69880265",
      "metadata": {
        "id": "69880265"
      },
      "outputs": [],
      "source": [
        "df_train_num.describe() # Check the summary statistics"
      ]
    },
    {
      "cell_type": "markdown",
      "id": "bfb15069",
      "metadata": {
        "id": "bfb15069"
      },
      "source": [
        "Instantiate a MinMaxScaler and fit using `df_train_num`:"
      ]
    },
    {
      "cell_type": "code",
      "execution_count": null,
      "id": "621dc56d",
      "metadata": {
        "id": "621dc56d"
      },
      "outputs": [],
      "source": [
        "scaler = # YOUR CODE HERE"
      ]
    },
    {
      "cell_type": "markdown",
      "id": "4912f6ee",
      "metadata": {
        "id": "4912f6ee"
      },
      "source": [
        "Now transform training data `df_train_num` and store the resulting nparray in `train_norm`:"
      ]
    },
    {
      "cell_type": "code",
      "execution_count": null,
      "id": "9d2f98c4",
      "metadata": {
        "id": "9d2f98c4"
      },
      "outputs": [],
      "source": [
        "train_norm = scaler.transform(df_train_num) "
      ]
    },
    {
      "cell_type": "markdown",
      "id": "e84cf97e",
      "metadata": {
        "id": "e84cf97e"
      },
      "source": [
        "Verify that both columns now have minimum 0 and maximum 1. "
      ]
    },
    {
      "cell_type": "code",
      "execution_count": null,
      "id": "b16417a4",
      "metadata": {
        "id": "b16417a4"
      },
      "outputs": [],
      "source": [
        "pd.DataFrame(train_norm, columns=df_train_num.columns).describe()"
      ]
    },
    {
      "cell_type": "code",
      "execution_count": null,
      "id": "17401c53",
      "metadata": {
        "id": "17401c53"
      },
      "outputs": [],
      "source": [
        "# Expected Output:"
      ]
    },
    {
      "cell_type": "markdown",
      "id": "2b48b3d6",
      "metadata": {
        "id": "2b48b3d6"
      },
      "source": [
        "Let's turn to categorical fatures. So far most, if not all Python packages for modeling do not accept strings as input; thus encoding the categorical value to numerical value is a necessary step. Here, let's apply [one-hot encoding](https://scikit-learn.org/stable/modules/generated/sklearn.preprocessing.OneHotEncoder.html) on `Dept` and `IsHoliday`:"
      ]
    },
    {
      "cell_type": "code",
      "execution_count": null,
      "id": "32890ba0",
      "metadata": {
        "id": "32890ba0"
      },
      "outputs": [],
      "source": [
        "from sklearn.preprocessing import OneHotEncoder\n",
        "categoricalFeatures = ['Dept', 'IsHoliday']\n",
        "df_train_cat = df_train[categoricalFeatures]\n",
        "ohe = OneHotEncoder(handle_unknown='ignore',sparse = False).fit(df_train_cat)"
      ]
    },
    {
      "cell_type": "markdown",
      "id": "09af8c7e",
      "metadata": {
        "id": "09af8c7e"
      },
      "source": [
        "Transform the categorical features using one hote encoding `ohe`. "
      ]
    },
    {
      "cell_type": "code",
      "execution_count": null,
      "id": "dd52f58c",
      "metadata": {
        "id": "dd52f58c"
      },
      "outputs": [],
      "source": [
        "train_ohe = # YOUR CODE HERE"
      ]
    },
    {
      "cell_type": "code",
      "execution_count": null,
      "id": "4ee5766a",
      "metadata": {
        "id": "4ee5766a"
      },
      "outputs": [],
      "source": [
        "train_ohe.shape, df_train_cat.shape # Expected Output: ((8182, 79), (8182, 2))"
      ]
    },
    {
      "cell_type": "markdown",
      "id": "e85bc5a4",
      "metadata": {
        "id": "e85bc5a4"
      },
      "source": [
        "The number of columns explodes from 2 to 79. \n",
        "\n",
        "Lastly we merge the processed numerical features with the processed categorical features using `hstack` in `numpy`:"
      ]
    },
    {
      "cell_type": "code",
      "execution_count": null,
      "id": "8d7b615c",
      "metadata": {
        "id": "8d7b615c"
      },
      "outputs": [],
      "source": [
        "import numpy as np\n",
        "X_train = np.hstack([train_norm, train_ohe])"
      ]
    },
    {
      "cell_type": "code",
      "execution_count": null,
      "id": "b5a93c10",
      "metadata": {
        "id": "b5a93c10"
      },
      "outputs": [],
      "source": [
        "X_train.shape # sanity check: (8182, 81)"
      ]
    },
    {
      "cell_type": "markdown",
      "id": "8de66122",
      "metadata": {
        "id": "8de66122"
      },
      "source": [
        "What about the test data? Yes you need to apply the same treatments. We spare some copy + paste + edit and see how this can be done when we introduce `pipeline` next. "
      ]
    },
    {
      "cell_type": "markdown",
      "id": "cc32bead",
      "metadata": {
        "id": "cc32bead"
      },
      "source": [
        "## Task VI: Pipeline"
      ]
    },
    {
      "cell_type": "markdown",
      "id": "25b9d049",
      "metadata": {
        "id": "25b9d049"
      },
      "source": [
        "Even with less than 20 features in our dataset, there are many many possibilities that you can preprocessing the data. There is no one-fits-all approach; often you will find yourself experimenting with many combinations to achieve better modelling performance: Should I apply normalization or standardization? Do I remove the outliers or should I impute them? Do I impute the missing values with median or mean or 0? Answers to many of these questions is \"It depends.\" (Have you heard [Graduate Student Descent](https://sciencedryad.wordpress.com/2014/01/25/grad-student-descent/)?) That means trial-and-error and it is not efficient to produce a notebook each time when you need to try something slightly different. You will get lost quickly. Pipeline is one useful tool. \n",
        "\n",
        "Not only does Pipeline help streamline the process, keep the code modular, but also reduces the possibility of introducing errors/bugs. In this task, we build the pipeline following the strategies used in the last task, run a simple linear regression model, and print out the model's performance. Note there is minimal code required for you to implement, the key is to understand each step."
      ]
    },
    {
      "cell_type": "markdown",
      "id": "22bcc7db",
      "metadata": {
        "id": "22bcc7db"
      },
      "source": [
        "To avoid confusion, let's read the data again directly from `train-store1.csv`."
      ]
    },
    {
      "cell_type": "code",
      "execution_count": null,
      "id": "4da8cc39",
      "metadata": {
        "id": "4da8cc39"
      },
      "outputs": [],
      "source": [
        "df = pd.read_csv('../dat/train-store1.csv')"
      ]
    },
    {
      "cell_type": "code",
      "execution_count": null,
      "id": "855d4fad",
      "metadata": {
        "id": "855d4fad"
      },
      "outputs": [],
      "source": [
        "df.shape"
      ]
    },
    {
      "cell_type": "markdown",
      "id": "8c5c6682",
      "metadata": {
        "id": "8c5c6682"
      },
      "source": [
        "Separating the target `y` from the features `X`:"
      ]
    },
    {
      "cell_type": "code",
      "execution_count": null,
      "id": "90b50b0c",
      "metadata": {
        "id": "90b50b0c"
      },
      "outputs": [],
      "source": [
        "X, y = df.drop(columns=target), df[target]"
      ]
    },
    {
      "cell_type": "markdown",
      "id": "519cffb2",
      "metadata": {
        "id": "519cffb2"
      },
      "source": [
        "Import `Pipeline` from submodule `sklearn.pipeline`"
      ]
    },
    {
      "cell_type": "code",
      "execution_count": null,
      "id": "88317c6c",
      "metadata": {
        "id": "88317c6c"
      },
      "outputs": [],
      "source": [
        "from sklearn.pipeline import Pipeline"
      ]
    },
    {
      "cell_type": "markdown",
      "id": "959ee955",
      "metadata": {
        "id": "959ee955"
      },
      "source": [
        "Now we build a transformer for numerical features following two steps: impute the missing values with the feature median (use `SimpleImputer`), followed by normalization (use `MinMaxScaler`)"
      ]
    },
    {
      "cell_type": "code",
      "execution_count": null,
      "id": "0080726d",
      "metadata": {
        "id": "0080726d"
      },
      "outputs": [],
      "source": [
        "from sklearn.impute import SimpleImputer\n",
        "from sklearn.preprocessing import MinMaxScaler\n",
        "numeric_features = ['CPI', 'MarkDown1']\n",
        "numeric_transformer = Pipeline(steps=[\n",
        "    (\"imputer\", SimpleImputer(strategy=\"median\")), \n",
        "    # YOUR CODE HERE\n",
        "])"
      ]
    },
    {
      "cell_type": "markdown",
      "id": "75dd31c6",
      "metadata": {
        "id": "75dd31c6"
      },
      "source": [
        "For categorical features, we apply one hot encoding `OneHotEncoder` ( there are many other options; see [Scikit-learn documentation](https://scikit-learn.org/stable/modules/preprocessing.html#encoding-categorical-features) ):"
      ]
    },
    {
      "cell_type": "code",
      "execution_count": null,
      "id": "1307a8fb",
      "metadata": {
        "id": "1307a8fb"
      },
      "outputs": [],
      "source": [
        "categorical_features = ['Dept', 'IsHoliday']\n",
        "categorical_transformer = OneHotEncoder(handle_unknown='ignore')"
      ]
    },
    {
      "cell_type": "markdown",
      "id": "8bed811b",
      "metadata": {
        "id": "8bed811b"
      },
      "source": [
        "Piece the `numeric_transformer` and `categorical_transformer` using `ColumnTransformer`:"
      ]
    },
    {
      "cell_type": "code",
      "execution_count": null,
      "id": "9162e545",
      "metadata": {
        "id": "9162e545"
      },
      "outputs": [],
      "source": [
        "from sklearn.compose import ColumnTransformer\n",
        "\n",
        "preprocessor = ColumnTransformer(\n",
        "    transformers=[\n",
        "        (\"num\", numeric_transformer, numeric_features),\n",
        "        (\"cat\", categorical_transformer, categorical_features),\n",
        "    ]\n",
        ")"
      ]
    },
    {
      "cell_type": "markdown",
      "id": "1b5a2dbc",
      "metadata": {
        "id": "1b5a2dbc"
      },
      "source": [
        "Lastly, let's append the regression model to preprocessing pipeline to complete a full prediction pipeline."
      ]
    },
    {
      "cell_type": "code",
      "execution_count": null,
      "id": "69eb8f20",
      "metadata": {
        "id": "69eb8f20"
      },
      "outputs": [],
      "source": [
        "from sklearn.linear_model import LinearRegression\n",
        "\n",
        "model = Pipeline(\n",
        "    steps=[(\"preprocessor\", preprocessor), (\"model\", LinearRegression())]\n",
        ")"
      ]
    },
    {
      "cell_type": "markdown",
      "id": "9226da05",
      "metadata": {
        "id": "9226da05"
      },
      "source": [
        "The pipepline has been built! The rest is to \n",
        "- split the data into training and testing sets\n",
        "- apply the pipeline to the training data\n",
        "- obtain the prediction performance on testing data"
      ]
    },
    {
      "cell_type": "code",
      "execution_count": null,
      "id": "08ba7499",
      "metadata": {
        "id": "08ba7499"
      },
      "outputs": [],
      "source": [
        "X_train, X_test, y_train, y_test = train_test_split(X, y, test_size=0.2, random_state=42)"
      ]
    },
    {
      "cell_type": "markdown",
      "id": "64369e9f",
      "metadata": {
        "id": "64369e9f"
      },
      "source": [
        "Let's run the prediction!"
      ]
    },
    {
      "cell_type": "code",
      "execution_count": null,
      "id": "cfb720cb",
      "metadata": {
        "id": "cfb720cb"
      },
      "outputs": [],
      "source": [
        "model.fit(X_train, y_train)"
      ]
    },
    {
      "cell_type": "code",
      "execution_count": null,
      "id": "63956599",
      "metadata": {
        "scrolled": false,
        "id": "63956599"
      },
      "outputs": [],
      "source": [
        "print(\"model score: %.3f\" % model.score(X_test, y_test))"
      ]
    },
    {
      "cell_type": "markdown",
      "id": "254275d1",
      "metadata": {
        "id": "254275d1"
      },
      "source": [
        "Optional: Discuss what type of [Feature Selection](https://scikit-learn.org/stable/modules/feature_selection.html#feature-selection) strategy you would use to select the features."
      ]
    },
    {
      "cell_type": "markdown",
      "id": "219b9f63",
      "metadata": {
        "id": "219b9f63"
      },
      "source": [
        "## Automating EDA\n",
        "\n",
        "In this exercise, you have learned the manual way to perform EDA.  Doing EDA manually has the benefits of customization, but is also highly repetitive.  For this reason, a lot of EDA can easily be automated!  In automating our EDA, we can get to know our data more quickly and spend more time on feature engineering and modeling.  Let's check out a library called [SweetViz](https://github.com/fbdesignpro/sweetviz) to see how we can automate EDA! "
      ]
    },
    {
      "cell_type": "code",
      "execution_count": null,
      "id": "ec3ba419",
      "metadata": {
        "id": "ec3ba419"
      },
      "outputs": [],
      "source": [
        "import sweetviz as sv\n",
        "\n",
        "orig_data_report = sv.analyze(df)\n",
        "orig_data_report.show_notebook()"
      ]
    },
    {
      "cell_type": "markdown",
      "id": "599e143f",
      "metadata": {
        "id": "599e143f"
      },
      "source": [
        "1. Click on a feature to tab to explore the feature in more detail.\n",
        "1. Notice that `SweetViz` calculates the descriptive stats for each feature, along with its missing and duplicate value stats.\n",
        "1. Notice that `SweetViz` helps to detect numerical vs categorical datatypes.\n",
        "1. Click on the `ASSOCIATIONS` tab to explore associations/correlations!"
      ]
    },
    {
      "cell_type": "markdown",
      "id": "b7d63c8f",
      "metadata": {
        "id": "b7d63c8f"
      },
      "source": [
        "### Prefer a browswer experience?"
      ]
    },
    {
      "cell_type": "code",
      "execution_count": null,
      "id": "ab635869",
      "metadata": {
        "id": "ab635869"
      },
      "outputs": [],
      "source": [
        "orig_data_report.show_html('orig_data_report.html', open_browser=True)"
      ]
    },
    {
      "cell_type": "markdown",
      "id": "d469ed93",
      "metadata": {
        "id": "d469ed93"
      },
      "source": [
        "### Now let's have a look at a comparison report of our train and test datasets!"
      ]
    },
    {
      "cell_type": "code",
      "execution_count": null,
      "id": "60ef0c01",
      "metadata": {
        "id": "60ef0c01"
      },
      "outputs": [],
      "source": [
        "compare_report = sv.compare([X_train, 'Train'], [X_test, 'Test'])\n",
        "compare_report.show_notebook()"
      ]
    },
    {
      "cell_type": "markdown",
      "id": "22d54a44",
      "metadata": {
        "id": "22d54a44"
      },
      "source": [
        "## Note"
      ]
    },
    {
      "cell_type": "markdown",
      "id": "ba537f84",
      "metadata": {
        "id": "ba537f84"
      },
      "source": [
        "- EDA, like other parts of machine learning, is an iterative process, NOT linear.\n",
        "- This analysis is far from being comprehensive; rather it is a starting point. \n",
        "- There does not exist one \"standard\" way to perform EDA. You should always keep business objectives in mind and perform analysis as seen fit. It is one of those skills that grows with lots of practices."
      ]
    },
    {
      "cell_type": "markdown",
      "id": "fa37a7e2",
      "metadata": {
        "id": "fa37a7e2"
      },
      "source": [
        "## References"
      ]
    },
    {
      "cell_type": "markdown",
      "id": "0deab61a",
      "metadata": {
        "id": "0deab61a"
      },
      "source": [
        "1. Original dataset is from [kaggle: wallmart sales forecast datasets](https://www.kaggle.com/datasets/iamprateek/wallmart-sales-forecast-datasets)\n",
        "2. Notebook: [craking the walmart sales forecasting challenge](https://www.kaggle.com/code/fernandol/cracking-the-walmart-sales-forecasting-challenge)"
      ]
    }
  ],
  "metadata": {
    "kernelspec": {
      "display_name": "Python 3.9.13 64-bit (windows store)",
      "language": "python",
      "name": "python3"
    },
    "language_info": {
      "codemirror_mode": {
        "name": "ipython",
        "version": 3
      },
      "file_extension": ".py",
      "mimetype": "text/x-python",
      "name": "python",
      "nbconvert_exporter": "python",
      "pygments_lexer": "ipython3",
      "version": "3.9.13"
    },
    "papermill": {
      "default_parameters": {},
      "duration": 659.006746,
      "end_time": "2022-05-14T21:33:54.545503",
      "environment_variables": {},
      "exception": null,
      "input_path": "__notebook__.ipynb",
      "output_path": "__notebook__.ipynb",
      "parameters": {},
      "start_time": "2022-05-14T21:22:55.538757",
      "version": "2.3.3"
    },
    "toc": {
      "base_numbering": 1,
      "nav_menu": {},
      "number_sections": true,
      "sideBar": true,
      "skip_h1_title": false,
      "title_cell": "Table of Contents",
      "title_sidebar": "Contents",
      "toc_cell": false,
      "toc_position": {
        "height": "620px",
        "left": "56px",
        "top": "110px",
        "width": "279px"
      },
      "toc_section_display": true,
      "toc_window_display": true
    },
    "vscode": {
      "interpreter": {
        "hash": "c57794392b841cffd8686d5c4548e4e2ec78521f49300d60954d1380f1b4bd1f"
      }
    },
    "colab": {
      "provenance": []
    }
  },
  "nbformat": 4,
  "nbformat_minor": 5
}